{
 "cells": [
  {
   "cell_type": "code",
   "execution_count": 1,
   "id": "b43e4378-05be-4c1d-a844-4630c39df84c",
   "metadata": {
    "tags": []
   },
   "outputs": [
    {
     "name": "stderr",
     "output_type": "stream",
     "text": [
      "/scratch/hht9zt/conda-envs/tf1_env/lib/python3.6/site-packages/tqdm/auto.py:22: TqdmWarning: IProgress not found. Please update jupyter and ipywidgets. See https://ipywidgets.readthedocs.io/en/stable/user_install.html\n",
      "  from .autonotebook import tqdm as notebook_tqdm\n"
     ]
    }
   ],
   "source": [
    "from mimic3benchmark.readers import InHospitalMortalityReader\n",
    "from mimic3models import common_utils\n",
    "from mimic3models.metrics import print_metrics_binary\n",
    "from mimic3models.in_hospital_mortality.utils import save_results\n",
    "from sklearn.preprocessing import StandardScaler\n",
    "from sklearn.impute import SimpleImputer\n",
    "from sklearn.linear_model import LogisticRegression\n",
    "import pandas as pd\n",
    "import re\n",
    "import numpy as np # Import numpy for np.nan\n",
    "from sklearn.preprocessing import LabelEncoder\n",
    "import os\n",
    "import json\n",
    "import pandas as pd\n",
    "import argparse\n",
    "from gensim.models import Word2Vec\n",
    "import torch\n",
    "import torch.nn as nn\n",
    "import torch.optim as optim\n",
    "from torch.utils.data import TensorDataset, DataLoader\n",
    "from sklearn.metrics import classification_report, roc_auc_score, average_precision_score, precision_recall_curve, confusion_matrix, accuracy_score\n",
    "from sklearn.metrics import roc_curve, auc\n",
    "import matplotlib.pyplot as plt"
   ]
  },
  {
   "cell_type": "code",
   "execution_count": 6,
   "id": "58625758-d9f2-4c44-a1f4-ac13168817ff",
   "metadata": {
    "tags": []
   },
   "outputs": [
    {
     "data": {
      "text/plain": [
       "Index(['Hours', 'Capillary refill rate', 'Diastolic blood pressure',\n",
       "       'Fraction inspired oxygen', 'Glascow coma scale eye opening',\n",
       "       'Glascow coma scale motor response', 'Glascow coma scale total',\n",
       "       'Glascow coma scale verbal response', 'Glucose', 'Heart Rate', 'Height',\n",
       "       'Mean blood pressure', 'Oxygen saturation', 'Respiratory rate',\n",
       "       'Systolic blood pressure', 'Temperature', 'Weight', 'pH'],\n",
       "      dtype='object')"
      ]
     },
     "execution_count": 6,
     "metadata": {},
     "output_type": "execute_result"
    }
   ],
   "source": [
    "df = pd.read_csv('readmission/test/10026_episode1_timeseries.csv')\n",
    "df.columns"
   ]
  },
  {
   "cell_type": "code",
   "execution_count": 3,
   "id": "a5cd182f-65c3-44b2-ba5a-1ac524992888",
   "metadata": {
    "tags": []
   },
   "outputs": [],
   "source": [
    "df = pd.read_csv('in-hospital-mortality/test/listfile.csv')"
   ]
  },
  {
   "cell_type": "code",
   "execution_count": 4,
   "id": "57b09a3d-eb86-465c-810e-bed8d83fffe4",
   "metadata": {
    "tags": []
   },
   "outputs": [
    {
     "data": {
      "text/plain": [
       "11.557478368355994"
      ]
     },
     "execution_count": 4,
     "metadata": {},
     "output_type": "execute_result"
    }
   ],
   "source": [
    "sum(df['y_true'])/len(df['y_true'])*100"
   ]
  },
  {
   "cell_type": "code",
   "execution_count": 5,
   "id": "af216ed2-a107-4bfc-b769-e572547e258d",
   "metadata": {
    "tags": []
   },
   "outputs": [],
   "source": [
    "def read_and_extract_features(reader, period, features):\n",
    "    ret = common_utils.read_chunk(reader, reader.get_number_of_examples())\n",
    "    X = common_utils.extract_features_from_rawdata(ret['X'], ret['header'], period, features)\n",
    "    return (X, ret['y'], ret['name'])\n",
    "\n",
    "\n",
    "def load_extra_feature(path):\n",
    "    df = pd.read_csv(path)\n",
    "    df = preprocessing_extra_features(df)\n",
    "    return df.values.astype(np.float32)\n",
    "\n"
   ]
  },
  {
   "cell_type": "code",
   "execution_count": 17,
   "id": "1b7ce204-f3d9-44f1-a5ef-3e19e192c32e",
   "metadata": {
    "tags": []
   },
   "outputs": [],
   "source": [
    "class Args:\n",
    "    C = 10.0\n",
    "    l1 = 0\n",
    "    l2 = True\n",
    "    period = 'all'\n",
    "    features = 'all'\n",
    "    data = 'in-hospital-mortality/'\n",
    "    output_dir = '.'\n",
    "\n",
    "args = Args()\n",
    "target_repl = False"
   ]
  },
  {
   "cell_type": "markdown",
   "id": "c60c334a",
   "metadata": {},
   "source": [
    "### Demographic Info add"
   ]
  },
  {
   "cell_type": "markdown",
   "id": "1eb4532c",
   "metadata": {},
   "source": [
    "<!-- ### Demographic Information -->"
   ]
  },
  {
   "cell_type": "code",
   "execution_count": 7,
   "id": "5b939ac8-311b-4243-b13d-d4007441dc6f",
   "metadata": {
    "tags": []
   },
   "outputs": [],
   "source": [
    "def preprocessing_extra_features(df):\n",
    "\n",
    "    df['subject_id'] = df['stay'].apply(lambda x: int(re.match(r'(\\d+)_episode(\\d+)_timeseries\\.csv', x).group(1)))\n",
    "    df['episode'] = df['stay'].apply(lambda x: int(re.match(r'(\\d+)_episode(\\d+)_timeseries\\.csv', x).group(2)))\n",
    "\n",
    "    # Load MIMIC-III tables\n",
    "    # Ensure these paths are correct and the files are accessible.\n",
    "    patients = pd.read_csv('/scratch/hht9zt/mimic-iii-clinical-database-1.4/physionet.org/files/mimiciii/1.4/PATIENTS.csv')\n",
    "    admissions = pd.read_csv('/scratch/hht9zt/mimic-iii-clinical-database-1.4/physionet.org/files/mimiciii/1.4/ADMISSIONS.csv')\n",
    "    icustays = pd.read_csv('/scratch/hht9zt/mimic-iii-clinical-database-1.4/physionet.org/files/mimiciii/1.4/ICUSTAYS.csv')\n",
    "\n",
    "\n",
    "\n",
    "    df = df.merge(patients[['SUBJECT_ID', 'GENDER', 'DOB']], left_on='subject_id', right_on='SUBJECT_ID', how='left')\n",
    "\n",
    "    icustays_sorted = icustays.sort_values(by=['SUBJECT_ID', 'INTIME'])\n",
    "    icustays_sorted['episode'] = icustays_sorted.groupby('SUBJECT_ID').cumcount() + 1\n",
    "\n",
    "\n",
    "    df = df.merge(icustays_sorted[['SUBJECT_ID', 'ICUSTAY_ID', 'HADM_ID', 'INTIME', 'episode']],\n",
    "                  on=['SUBJECT_ID', 'episode'], how='left')\n",
    "\n",
    "    # --- Age Calculation Fix ---\n",
    "    # # Ensure ADMITTIME and DOB are datetime objects\n",
    "    admissions['ADMITTIME'] = pd.to_datetime(admissions['ADMITTIME'])\n",
    "    patients['DOB'] = pd.to_datetime(patients['DOB'])\n",
    "\n",
    "    # # Merge DOB into the admissions DataFrame\n",
    "    admissions = admissions.merge(patients[['SUBJECT_ID', 'DOB']], on='SUBJECT_ID', how='left')\n",
    "\n",
    "    df = df.merge(admissions[['SUBJECT_ID', 'HADM_ID', 'ADMITTIME', 'ETHNICITY','ADMISSION_TYPE','ADMISSION_LOCATION', 'INSURANCE','LANGUAGE','RELIGION']],\n",
    "                  on=['SUBJECT_ID', 'HADM_ID'], how='left')\n",
    "    df.drop(columns=['stay', 'y_true','subject_id', 'episode', 'SUBJECT_ID', 'DOB', 'ICUSTAY_ID', 'HADM_ID', 'INTIME', 'ADMITTIME'], inplace=True)\n",
    "\n",
    "\n",
    "    categorical_cols = [\n",
    "        'GENDER',\n",
    "        'ETHNICITY',\n",
    "        'ADMISSION_TYPE',\n",
    "        'ADMISSION_LOCATION',\n",
    "        'INSURANCE',\n",
    "        'LANGUAGE',\n",
    "        'RELIGION'\n",
    "    ]\n",
    "\n",
    "    # Initialize a dict to keep label encoders in case you want to inverse transform later\n",
    "    label_encoders = {}\n",
    "\n",
    "    for col in categorical_cols:\n",
    "        le = LabelEncoder()\n",
    "        # Fill missing values with a placeholder string to avoid errors\n",
    "        df[col] = df[col].fillna('UNKNOWN')\n",
    "        df[col] = le.fit_transform(df[col])\n",
    "        label_encoders[col] = le\n",
    "    \n",
    "    print(df.columns)\n",
    "\n",
    "    return df\n"
   ]
  },
  {
   "cell_type": "markdown",
   "id": "31ec849c",
   "metadata": {},
   "source": [
    "### Diagnosis, procedure, drug info added, comorbidities"
   ]
  },
  {
   "cell_type": "code",
   "execution_count": 8,
   "id": "20d0f3a0-1585-4b39-b30a-7508bdedf150",
   "metadata": {
    "tags": []
   },
   "outputs": [],
   "source": [
    "import pandas as pd\n",
    "import numpy as np\n",
    "import re\n",
    "from sklearn.preprocessing import LabelEncoder\n",
    "from collections import Counter\n",
    "\n",
    "# --- Helper Functions ---\n",
    "def has_icd_prefix(icd_list, prefix_list):\n",
    "    if not isinstance(icd_list, list):\n",
    "        return 0\n",
    "    for code in icd_list:\n",
    "        for prefix in prefix_list:\n",
    "            if str(code).startswith(str(prefix)):\n",
    "                return 1\n",
    "    return 0\n",
    "\n",
    "def one_hot_prefix_old(df, col_name, prefix_len=2, new_col_prefix='', top_n=None):\n",
    "    df[col_name] = df[col_name].fillna('').apply(lambda x: set(str(x).split('|')) if isinstance(x, str) else set(x))\n",
    "    df[f'{col_name}_prefixes'] = df[col_name].apply(lambda x: set([item[:prefix_len] for item in x if item]))\n",
    "    all_prefixes = [prefix for row in df[f'{col_name}_prefixes'] for prefix in row]\n",
    "    prefix_counts = Counter(all_prefixes)\n",
    "    selected_prefixes = set([p for p, _ in prefix_counts.most_common(top_n)]) if top_n else set(prefix_counts.keys())\n",
    "    for prefix in sorted(selected_prefixes):\n",
    "        new_col = f\"{new_col_prefix}_{prefix}\"\n",
    "        df[new_col] = df[f'{col_name}_prefixes'].apply(lambda x: int(prefix in x))\n",
    "    df.drop(columns=[col_name, f'{col_name}_prefixes'], inplace=True)\n",
    "    return df\n",
    "\n",
    "def one_hot_prefix(df, col_name, prefix_len=2, new_col_prefix='', top_n=None):\n",
    "    df[col_name] = df[col_name].fillna('').apply(\n",
    "        lambda x: list(str(x).split('|')) if isinstance(x, str) else list(x)\n",
    "    )\n",
    "\n",
    "    df[f'{col_name}_prefixes'] = df[col_name].apply(\n",
    "        lambda x: [item[:prefix_len] for item in x if item]\n",
    "    )\n",
    "    all_prefixes = [prefix for row in df[f'{col_name}_prefixes'] for prefix in row]\n",
    "    prefix_counts = Counter(all_prefixes)\n",
    "    selected_prefixes = set([p for p, _ in prefix_counts.most_common(top_n)]) if top_n else set(prefix_counts.keys())\n",
    "    for prefix in sorted(selected_prefixes):\n",
    "        binary_col = f\"{new_col_prefix}_{prefix}\"\n",
    "        count_col = f\"{binary_col}_aggr\"\n",
    "\n",
    "        # df[binary_col] = df[f'{col_name}_prefixes'].apply(lambda x: int(prefix in x))\n",
    "        df[count_col] = df[f'{col_name}_prefixes'].apply(lambda x: x.count(prefix))\n",
    "\n",
    "    df.drop(columns=[col_name, f'{col_name}_prefixes'], inplace=True)\n",
    "    return df\n",
    "\n",
    "\n",
    "# --- ICD Code Categories ---\n",
    "explicitsepsis = ['99591', '99592', '78552', '038']\n",
    "infection = ['001', '002', '003', '004', '005', '006', '007', '008', '009', '010', '011', '012', '013', '014', '015', '016', '017', '018', '020', '021', '022', '023', '024', '025', '026', '027', '030', '031', '032', '033', '034', '035', '036', '037', '038', '039', '040', '041', '042', '043', '044', '045', '046', '047', '048', '049', '050', '052', '053', '054', '055', '056', '057', '058', '060', '061', '062', '063', '064', '065', '066', '070', '071', '072', '073', '074', '075', '076', '077', '078', '079', '080', '081', '082', '083', '084', '085', '086', '087', '088', '090', '091', '092', '093', '094', '095', '096', '097', '098', '100', '101', '102', '103', '104', '110', '111', '112', '114', '115', '116', '117', '118', '120', '121', '122', '123', '124', '125', '130', '131', '132', '133', '134', '135', '136', '137', '138', '139']\n",
    "organdysfunction = ['584', '7855', '570', '572', '51881', '51882', '51885', '51886', '7991', '293', '3483']\n",
    "diabetes = ['250']\n",
    "cardiovascular = ['390', '391', '392', '393', '394', '395', '396', '397', '398', '401', '402', '403', '404', '405', '410', '411', '412', '413', '414', '415', '416', '417', '420', '421', '422', '423', '424', '425', '426', '427', '428', '429']\n",
    "cancer = ['140', '141', '142', '143', '144', '145', '146', '147', '148', '149', '150', '151', '152', '153', '154', '155', '156', '157', '158', '159', '160', '161', '162', '163', '164', '165', '166', '167', '168', '169', '170', '171', '172', '173', '174', '175', '176', '177', '178', '179', '180', '181', '182', '183', '184', '185', '186', '187', '188', '189']\n",
    "lung = ['490', '491', '492', '493', '494', '495', '496', '500', '501', '502', '503', '504', '505']\n",
    "dementia = ['290', '294']\n",
    "kidney_dialysis = ['585']\n",
    "liver = ['570', '571', '572']\n",
    "immune_system = ['279']\n",
    "\n",
    "# --- Load Data ---\n",
    "def icd_add(df):\n",
    "    \n",
    "    df['SUBJECT_ID'] = df['stay'].apply(lambda x: int(re.match(r'(\\d+)_episode(\\d+)_timeseries\\.csv', x).group(1)))\n",
    "    df['episode'] = df['stay'].apply(lambda x: int(re.match(r'(\\d+)_episode(\\d+)_timeseries\\.csv', x).group(2)))\n",
    "\n",
    "    mimic_path = '/scratch/hht9zt/mimic-iii-clinical-database-1.4/physionet.org/files/mimiciii/1.4/'\n",
    "    patients = pd.read_csv(f'{mimic_path}PATIENTS.csv')\n",
    "    admissions = pd.read_csv(f'{mimic_path}ADMISSIONS.csv')\n",
    "    icustays = pd.read_csv(f'{mimic_path}ICUSTAYS.csv')\n",
    "    procedures = pd.read_csv(f'{mimic_path}PROCEDURES_ICD.csv')\n",
    "    prescriptions = pd.read_csv(f'{mimic_path}PRESCRIPTIONS.csv')\n",
    "    diagnoses = pd.read_csv(f'{mimic_path}DIAGNOSES_ICD.csv')\n",
    "\n",
    "    # --- ICU Stays ---\n",
    "    icustays_sorted = icustays.sort_values(by=['SUBJECT_ID', 'INTIME'])\n",
    "    icustays_sorted['episode'] = icustays_sorted.groupby('SUBJECT_ID').cumcount() + 1\n",
    "    df = df.merge(icustays_sorted[['SUBJECT_ID', 'ICUSTAY_ID', 'HADM_ID', 'INTIME', 'episode']],\n",
    "                  on=['SUBJECT_ID', 'episode'], how='left')\n",
    "\n",
    "    # --- Demographics ---\n",
    "    admissions['ADMITTIME'] = pd.to_datetime(admissions['ADMITTIME'], errors='coerce')\n",
    "    patients['DOB'] = pd.to_datetime(patients['DOB'], errors='coerce')\n",
    "    admissions_demog = admissions.merge(patients[['SUBJECT_ID', 'GENDER', 'DOB']], on='SUBJECT_ID', how='left')\n",
    "    admissions_demog['age'] = admissions_demog['ADMITTIME'].dt.year - admissions_demog['DOB'].dt.year\n",
    "    admissions_demog.loc[admissions_demog['age'] < 0, 'age'] = np.nan\n",
    "    admissions_demog.loc[admissions_demog['age'] > 150, 'age'] = np.nan\n",
    "\n",
    "    df = df.merge(admissions_demog[['SUBJECT_ID', 'HADM_ID', 'ADMITTIME', 'age', 'ETHNICITY',\n",
    "                                     'ADMISSION_TYPE', 'ADMISSION_LOCATION', 'INSURANCE',\n",
    "                                     'LANGUAGE', 'RELIGION', 'GENDER', 'DOB']],\n",
    "                  on=['SUBJECT_ID', 'HADM_ID'], how='left')\n",
    "\n",
    "    # --- Procedures (as string set) ---\n",
    "    proc_agg = procedures.groupby('HADM_ID')['ICD9_CODE'] \\\n",
    "        .apply(lambda x: list(set(x.dropna().astype(str)))) \\\n",
    "        .reset_index(name='ICD_PROCEDURES')\n",
    "    df = df.merge(proc_agg, on='HADM_ID', how='left')\n",
    "\n",
    "    # --- Prescriptions (as list of drug names) ---\n",
    "    drug_agg = prescriptions.groupby('HADM_ID')['DRUG'] \\\n",
    "        .apply(lambda x: list(set(x.dropna().str.upper()))) \\\n",
    "        .reset_index(name='DRUGS')\n",
    "    df = df.merge(drug_agg, on='HADM_ID', how='left')\n",
    "\n",
    "    # --- Diagnoses (as list) ---\n",
    "    diag_agg = diagnoses.groupby('HADM_ID')['ICD9_CODE'] \\\n",
    "        .apply(lambda x: list(set(x.dropna().astype(str)))) \\\n",
    "        .reset_index(name='diag_codes')\n",
    "    df = df.merge(diag_agg, on='HADM_ID', how='left')\n",
    "\n",
    "    # --- Comorbidity Flags ---\n",
    "    df['explicit_sepsis'] = df['diag_codes'].apply(lambda codes: has_icd_prefix(codes, explicitsepsis))\n",
    "    df['infection'] = df['diag_codes'].apply(lambda codes: has_icd_prefix(codes, infection))\n",
    "    df['organ_dysfunction'] = df['diag_codes'].apply(lambda codes: has_icd_prefix(codes, organdysfunction))\n",
    "    df['diabetes'] = df['diag_codes'].apply(lambda codes: has_icd_prefix(codes, diabetes))\n",
    "    df['cardiovascular'] = df['diag_codes'].apply(lambda codes: has_icd_prefix(codes, cardiovascular))\n",
    "    df['cancer'] = df['diag_codes'].apply(lambda codes: has_icd_prefix(codes, cancer))\n",
    "    df['lung_disease'] = df['diag_codes'].apply(lambda codes: has_icd_prefix(codes, lung))\n",
    "    df['dementia'] = df['diag_codes'].apply(lambda codes: has_icd_prefix(codes, dementia))\n",
    "    df['kidney_dialysis'] = df['diag_codes'].apply(lambda codes: has_icd_prefix(codes, kidney_dialysis))\n",
    "    df['liver_disease'] = df['diag_codes'].apply(lambda codes: has_icd_prefix(codes, liver))\n",
    "    df['immune_disorder'] = df['diag_codes'].apply(lambda codes: has_icd_prefix(codes, immune_system))\n",
    "\n",
    "    # --- One-hot prefix encoding ---\n",
    "    df = one_hot_prefix(df, 'ICD_PROCEDURES', prefix_len=2, new_col_prefix='proc', top_n=50)\n",
    "    df = one_hot_prefix(df, 'DRUGS', prefix_len=2, new_col_prefix='drug', top_n=50)\n",
    "    df = one_hot_prefix(df, 'diag_codes', prefix_len=2, new_col_prefix='diag', top_n=50)\n",
    "\n",
    "    # --- Encode Categorical ---\n",
    "    # categorical_cols = [\n",
    "    #     'GENDER', 'ETHNICITY', 'ADMISSION_TYPE', 'ADMISSION_LOCATION',\n",
    "    #     'INSURANCE', 'LANGUAGE', 'RELIGION'\n",
    "    # ]\n",
    "    # label_encoders = {}\n",
    "    # for col in categorical_cols:\n",
    "    #     df[col] = df[col].fillna('UNKNOWN')\n",
    "    #     le = LabelEncoder()\n",
    "    #     df[col] = le.fit_transform(df[col])\n",
    "    #     label_encoders[col] = le\n",
    "    #     print(f\"Encoded '{col}': {len(le.classes_)} categories.\")\n",
    "\n",
    "    # --- Final Cleanup ---\n",
    "    columns_to_drop = ['SUBJECT_ID','stay', 'episode', 'ICUSTAY_ID', 'HADM_ID', 'INTIME', 'ADMITTIME', 'DOB', 'subject_id', 'GENDER', 'ETHNICITY', 'ADMISSION_TYPE', 'ADMISSION_LOCATION',\n",
    "        'INSURANCE', 'LANGUAGE', 'RELIGION', 'age', 'y_true']\n",
    "    df.drop(columns=[col for col in columns_to_drop if col in df.columns], inplace=True)\n",
    "\n",
    "    # --- Final Output ---\n",
    "    print(\"\\n--- Final DataFrame Columns ---\")\n",
    "    print(df.columns.tolist())\n",
    "    print(f\"Final shape: {df.shape}\")\n",
    "    print(\"\\nSample rows:\")\n",
    "    print(df.head())\n",
    "    return df\n"
   ]
  },
  {
   "cell_type": "markdown",
   "id": "a878e82a",
   "metadata": {},
   "source": [
    "### Loading Vitals, hourly data + imputation"
   ]
  },
  {
   "cell_type": "code",
   "execution_count": 6,
   "id": "f964ed96-97cb-4ebc-9ef0-819b8cec68c2",
   "metadata": {
    "tags": []
   },
   "outputs": [
    {
     "name": "stdout",
     "output_type": "stream",
     "text": [
      "-------------------- in-hospital-mortality/train\n",
      "-------------------- in-hospital-mortality/train\n",
      "-------------------- in-hospital-mortality/test\n",
      "Reading data and extracting features ...\n",
      "  train data shape = (17903, 714)\n",
      "  validation data shape = (17903, 714)\n",
      "  test data shape = (3236, 714)\n",
      "Imputing missing values ...\n",
      "Normalizing the data to have zero mean and unit variance ...\n"
     ]
    }
   ],
   "source": [
    "# Hardcoded paths to the prediction files\n",
    "# Readers\n",
    "train_reader = InHospitalMortalityReader(dataset_dir=os.path.join(args.data, 'train'),\n",
    "                                         listfile='listfile.csv',\n",
    "                                         period_length=48.0)\n",
    "val_reader = InHospitalMortalityReader(dataset_dir=os.path.join(args.data, 'train'),\n",
    "                                       listfile= 'listfile.csv',\n",
    "                                       period_length=48.0)\n",
    "test_reader = InHospitalMortalityReader(dataset_dir=os.path.join(args.data, 'test'),\n",
    "                                        listfile='listfile.csv',\n",
    "                                        period_length=48.0)\n",
    "\n",
    "print('Reading data and extracting features ...')\n",
    "(train_X, train_y, train_names) = read_and_extract_features(train_reader, args.period, args.features)\n",
    "(val_X, val_y, val_names) = read_and_extract_features(val_reader, args.period, args.features)\n",
    "(test_X, test_y, test_names) = read_and_extract_features(test_reader, args.period, args.features)\n",
    "\n",
    "print('  train data shape = {}'.format(train_X.shape))\n",
    "print('  validation data shape = {}'.format(val_X.shape))\n",
    "print('  test data shape = {}'.format(test_X.shape))\n",
    "\n",
    "\n",
    "print('Imputing missing values ...')\n",
    "imputer = SimpleImputer(missing_values=np.nan, strategy='mean', copy=True)\n",
    "imputer.fit(train_X)\n",
    "train_X = np.array(imputer.transform(train_X), dtype=np.float32)\n",
    "val_X = np.array(imputer.transform(val_X), dtype=np.float32)\n",
    "test_X = np.array(imputer.transform(test_X), dtype=np.float32)\n",
    "\n",
    "print('Normalizing the data to have zero mean and unit variance ...')\n",
    "scaler = StandardScaler()\n",
    "scaler.fit(train_X)\n",
    "train_X = scaler.transform(train_X)\n",
    "val_X = scaler.transform(val_X)\n",
    "test_X = scaler.transform(test_X)\n",
    "\n"
   ]
  },
  {
   "cell_type": "code",
   "execution_count": 210,
   "id": "2ab556c2-0a55-4748-93be-9439f4a2385d",
   "metadata": {
    "tags": []
   },
   "outputs": [
    {
     "data": {
      "text/plain": [
       "0.11557478368355995"
      ]
     },
     "execution_count": 210,
     "metadata": {},
     "output_type": "execute_result"
    }
   ],
   "source": [
    "sum(test_y)/len(test_y)"
   ]
  },
  {
   "cell_type": "markdown",
   "id": "f0d37b82",
   "metadata": {},
   "source": [
    "### concat feature"
   ]
  },
  {
   "cell_type": "code",
   "execution_count": 8,
   "id": "355c2c63-ea87-49bd-81fa-c018cd0bbfd6",
   "metadata": {
    "tags": []
   },
   "outputs": [
    {
     "name": "stdout",
     "output_type": "stream",
     "text": [
      "Index(['GENDER', 'ETHNICITY', 'ADMISSION_TYPE', 'ADMISSION_LOCATION',\n",
      "       'INSURANCE', 'LANGUAGE', 'RELIGION'],\n",
      "      dtype='object')\n",
      "Index(['GENDER', 'ETHNICITY', 'ADMISSION_TYPE', 'ADMISSION_LOCATION',\n",
      "       'INSURANCE', 'LANGUAGE', 'RELIGION'],\n",
      "      dtype='object')\n",
      "Index(['GENDER', 'ETHNICITY', 'ADMISSION_TYPE', 'ADMISSION_LOCATION',\n",
      "       'INSURANCE', 'LANGUAGE', 'RELIGION'],\n",
      "      dtype='object')\n"
     ]
    }
   ],
   "source": [
    "extra_feature_file_train = os.path.join('mimic3-benchmarks/in-hospital-mortality/train/', 'listfile.csv')\n",
    "extra_feature_file_test = os.path.join('mimic3-benchmarks/in-hospital-mortality/test/', 'listfile.csv')\n",
    "\n",
    "train_extra = load_extra_feature(extra_feature_file_train)\n",
    "val_extra = load_extra_feature(extra_feature_file_train)  # Using same file for val\n",
    "test_extra = load_extra_feature(extra_feature_file_test)\n",
    "\n",
    "train_X = np.concatenate([train_X, train_extra], axis=1)\n",
    "val_X = np.concatenate([val_X, val_extra], axis=1)\n",
    "test_X = np.concatenate([test_X, test_extra], axis=1)\n",
    "# pd.read_csv(extra_feature_file_train).columns\n",
    "# extra_feature_file_train.columns()"
   ]
  },
  {
   "cell_type": "markdown",
   "id": "5a8dc9f7",
   "metadata": {},
   "source": [
    "## add icd code"
   ]
  },
  {
   "cell_type": "code",
   "execution_count": 185,
   "id": "31ff7134-b290-498d-b043-ac0c92e9bf9b",
   "metadata": {
    "tags": []
   },
   "outputs": [],
   "source": [
    "df_extra_icd_train = pd.read_csv('readmission/train/listfile_30_newCarefullyDone.csv')\n",
    "df_extra_icd_test = pd.read_csv('readmission/test/listfile_30_newCarefullyDone.csv')\n",
    "\n",
    "train_extra= icd_add(df_extra_icd_train)\n",
    "test_extra= icd_add(df_extra_icd_test)\n",
    "\n",
    "train_X = np.concatenate([train_X, train_extra], axis=1)\n",
    "val_X = np.concatenate([val_X, train_extra], axis=1)\n",
    "test_X = np.concatenate([test_X, test_extra], axis=1)\n",
    "# pd.read_csv(extra_feature_file_train).columns\n",
    "# extra_feature_file_train.columns()"
   ]
  },
  {
   "cell_type": "markdown",
   "id": "e39103c4",
   "metadata": {},
   "source": [
    "## add embedding of reasoning from unstruct data (finetuned LLM inference)"
   ]
  },
  {
   "cell_type": "code",
   "execution_count": 143,
   "id": "ee2312b3-fe48-49f8-a41a-ba69b279f8e9",
   "metadata": {
    "tags": []
   },
   "outputs": [
    {
     "name": "stdout",
     "output_type": "stream",
     "text": [
      "res1 shape: (17903, 101)\n",
      "res2 shape: (3236, 101)\n"
     ]
    }
   ],
   "source": [
    "import pandas as pd\n",
    "df_main_train = pd.read_csv('readmission/train/listfile_30_newCarefullyDone.csv')\n",
    "df_main_test = pd.read_csv('readmission/test/listfile_30_newCarefullyDone.csv')\n",
    "\n",
    "\n",
    "df_extra = pd.read_csv('../finetune/predictions_vs_ground_truth_test_readmission30_notes.csv')\n",
    "df_extra2 = pd.read_csv('../finetune/predictions_vs_ground_truth_train_readmission30_notes.csv')\n",
    "\n",
    "df_extra = pd.concat([df_extra, df_extra2], ignore_index=True)\n",
    "\n",
    "\n",
    "\n",
    "df_extra[\"stay\"] = df_extra[\"patient_id\"].apply(lambda x: f\"{x.split('_')[0]}_episode{int(x.split('_')[1]) + 1}_timeseries.csv\")\n",
    "# Tokenize reasoning for Word2Vec\n",
    "reasoning = df_extra[\"reasoning\"].astype(str)\n",
    "tokenized_paragraphs = [r.lower().split() for r in reasoning]\n",
    "\n",
    "# Train Word2Vec model\n",
    "embedding_size = 100\n",
    "w2v_model = Word2Vec(sentences=tokenized_paragraphs, vector_size=embedding_size, window=5, min_count=1, workers=4)\n",
    "\n",
    "# Convert each reasoning to embedding\n",
    "def paragraph_to_vector(tokens, model, embedding_dim):\n",
    "    vectors = [model.wv[word] for word in tokens if word in model.wv]\n",
    "    return np.mean(vectors, axis=0) if vectors else np.zeros(embedding_dim)\n",
    "\n",
    "vectors = [paragraph_to_vector(tokens, w2v_model, embedding_size) for tokens in tokenized_paragraphs]\n",
    "\n",
    "# Add prediction and vector to df_extra\n",
    "df_extra[\"y_pred\"] = df_extra[\"prediction\"]\n",
    "df_extra[\"embedding\"] = vectors\n",
    "\n",
    "# Keep only necessary columns\n",
    "\n",
    "df_extra_reduced = df_extra[[\"stay\", \"y_pred\", \"embedding\"]]\n",
    "df_extra_reduced = df_extra_reduced.drop_duplicates(subset='stay', keep='first')\n",
    "\n",
    "\n",
    "# Merge with df_main\n",
    "\n",
    "res1 = df_main_train.merge(df_extra_reduced, on=\"stay\", how=\"left\")\n",
    "res2 = df_main_test.merge(df_extra_reduced, on=\"stay\", how=\"left\")\n",
    "\n",
    "\n",
    "embedding_size = 100 \n",
    "\n",
    "# Fill y_pred NaNs\n",
    "res1[\"y_pred\"] = res1[\"y_pred\"].fillna(0).astype(int)\n",
    "res2[\"y_pred\"] = res2[\"y_pred\"].fillna(0).astype(int)\n",
    "\n",
    "# Fill missing embeddings with zero vectors\n",
    "res1[\"embedding\"] = res1[\"embedding\"].apply(\n",
    "    lambda x: x if isinstance(x, np.ndarray) else np.zeros(embedding_size)\n",
    ")\n",
    "res2[\"embedding\"] = res2[\"embedding\"].apply(\n",
    "    lambda x: x if isinstance(x, np.ndarray) else np.zeros(embedding_size)\n",
    ")\n",
    "\n",
    "# Convert to numpy arrays\n",
    "pred_col1 = res1[\"y_pred\"].values.reshape(-1, 1)\n",
    "emb_matrix1 = np.vstack(res1[\"embedding\"].values)\n",
    "res1_array = np.hstack((pred_col1, emb_matrix1))\n",
    "\n",
    "pred_col2 = res2[\"y_pred\"].values.reshape(-1, 1)\n",
    "emb_matrix2 = np.vstack(res2[\"embedding\"].values)\n",
    "res2_array = np.hstack((pred_col2,emb_matrix2))\n",
    "\n",
    "print(\"res1 shape:\", res1_array.shape)\n",
    "print(\"res2 shape:\", res2_array.shape)\n"
   ]
  },
  {
   "cell_type": "code",
   "execution_count": 144,
   "id": "adcc73c8-60d1-4a96-81ab-8c4eea25839d",
   "metadata": {
    "tags": []
   },
   "outputs": [],
   "source": [
    "train_X = np.concatenate([train_X, res1_array], axis=1)\n",
    "val_X = np.concatenate([train_X, res1_array], axis=1)\n",
    "test_X = np.concatenate([test_X, res2_array], axis=1)"
   ]
  },
  {
   "cell_type": "code",
   "execution_count": 145,
   "id": "d5f7ca00-6572-4e4c-9fa2-22f78152ede9",
   "metadata": {
    "tags": []
   },
   "outputs": [
    {
     "data": {
      "text/plain": [
       "(17903, 984)"
      ]
     },
     "execution_count": 145,
     "metadata": {},
     "output_type": "execute_result"
    }
   ],
   "source": [
    "train_X.shape"
   ]
  },
  {
   "cell_type": "code",
   "execution_count": 118,
   "id": "23e6aca5-d080-4fcb-b1a9-6d2ac8de2072",
   "metadata": {
    "tags": []
   },
   "outputs": [
    {
     "data": {
      "text/plain": [
       "((3236, 822), (17903, 822), (17903, 822), 17903, 3236, 17903)"
      ]
     },
     "execution_count": 118,
     "metadata": {},
     "output_type": "execute_result"
    }
   ],
   "source": [
    "test_X1.shape, train_X1.shape, val_X.shape, len(train_y), len(test_y), len(val_y)"
   ]
  },
  {
   "cell_type": "markdown",
   "id": "8ff0cacf",
   "metadata": {},
   "source": [
    "### PCA for dimentionality reduction"
   ]
  },
  {
   "cell_type": "code",
   "execution_count": 1,
   "id": "8655943f-d0ae-4dda-8c11-6d076f1bed05",
   "metadata": {
    "tags": []
   },
   "outputs": [],
   "source": [
    "from sklearn.decomposition import PCA\n",
    "\n",
    "scaler = StandardScaler()\n",
    "scaler.fit(train_X)\n",
    "train_X = scaler.transform(train_X)\n",
    "val_X = scaler.transform(val_X)\n",
    "test_X = scaler.transform(test_X)\n",
    "\n",
    "\n",
    "print('Reducing dimensionality with PCA ...')\n",
    "pca = PCA(n_components=0.95, svd_solver='full')  # Keep 95% of variance\n",
    "pca.fit(train_X)\n",
    "\n",
    "train_X_ = pca.transform(train_X)\n",
    "val_X_ = pca.transform(val_X)\n",
    "test_X_ = pca.transform(test_X)\n",
    "\n",
    "print('  train shape after PCA:', train_X_.shape)\n",
    "print('  validation shape after PCA:', val_X_.shape)\n",
    "print('  test shape after PCA:', test_X_.shape)\n",
    "\n",
    "# Uncomment and continue training as before\n",
    "penalty = ('l2' if args.l2 else 'l1')\n",
    "file_name = '{}.{}.pca.{}.C{}'.format(args.period, args.features, penalty, args.C)\n",
    "\n",
    "logreg = LogisticRegression(penalty=penalty, C=args.C, random_state=42, max_iter=1000)\n",
    "logreg.fit(train_X_, train_y)\n",
    "\n",
    "result_dir = os.path.join(args.output_dir, 'results_combined')\n",
    "common_utils.create_directory(result_dir)\n",
    "\n",
    "with open(os.path.join(result_dir, 'train_{}.json'.format(file_name)), 'w') as res_file:\n",
    "    ret = print_metrics_binary(train_y, logreg.predict_proba(train_X_))\n",
    "    ret = {k: float(v) for k, v in ret.items()}\n",
    "    json.dump(ret, res_file)\n",
    "\n",
    "with open(os.path.join(result_dir, 'val_{}.json'.format(file_name)), 'w') as res_file:\n",
    "    ret = print_metrics_binary(val_y, logreg.predict_proba(val_X_))\n",
    "    ret = {k: float(v) for k, v in ret.items()}\n",
    "    json.dump(ret, res_file)\n",
    "\n",
    "prediction = logreg.predict_proba(test_X_)[:, 1]\n",
    "with open(os.path.join(result_dir, 'test_{}.json'.format(file_name)), 'w') as res_file:\n",
    "    ret = print_metrics_binary(test_y, prediction)\n",
    "    ret = {k: float(v) for k, v in ret.items()}\n",
    "    json.dump(ret, res_file)\n",
    "\n",
    "save_results(test_names, prediction, test_y,\n",
    "             os.path.join(args.output_dir, 'predictions', file_name + '.csv'))\n"
   ]
  },
  {
   "cell_type": "code",
   "execution_count": 137,
   "id": "02947a11-6928-4b14-9597-bd9ba8d07b5f",
   "metadata": {
    "tags": []
   },
   "outputs": [
    {
     "data": {
      "image/png": "[encoded data removed]",
      "text/plain": [
       "<Figure size 432x432 with 1 Axes>"
      ]
     },
     "metadata": {
      "needs_background": "light"
     },
     "output_type": "display_data"
    }
   ],
   "source": [
    "fpr1, tpr1, _ = roc_curve(test_y, prediction_struc)\n",
    "fpr, tpr, _ = roc_curve(test_y, prediction_unstruc)\n",
    "fpr2, tpr2, _ = roc_curve(test_y, prediction_w)\n",
    "fpr3, tpr3, _ = roc_curve(test_y, prediction_unstruc2)\n",
    "# roc_auc = auc(fpr, tpr)\n",
    "\n",
    "# Plot\n",
    "plt.figure(figsize=(6, 6))\n",
    "plt.plot(fpr2, tpr2, lw=2, label=f'AUC combined = {auc(fpr2, tpr2):.2f}')\n",
    "plt.plot(fpr3, tpr3, lw=2, label=f'AUC without reasoning = {auc(fpr3, tpr3):.2f}')\n",
    "plt.plot(fpr1, tpr1, lw=2, label=f'AUC without reasoning and prediction  = {auc(fpr1, tpr1):.2f}')\n",
    "# plt.plot(fpr, tpr, lw=2, label=f'AUC  = {auc(fpr, tpr):.2f}')\n",
    "\n",
    "plt.plot([0, 1], [0, 1], color='navy', lw=2, linestyle='--')  # Diagonal line (random guess)\n",
    "plt.xlim([0.0, 1.0])\n",
    "plt.ylim([0.0, 1.05])\n",
    "plt.xlabel('False Positive Rate')\n",
    "plt.ylabel('True Positive Rate')\n",
    "plt.title('ROC Curve')\n",
    "plt.legend(loc='lower right')\n",
    "plt.grid(True)\n",
    "plt.tight_layout()\n",
    "plt.show()\n"
   ]
  },
  {
   "cell_type": "code",
   "execution_count": 160,
   "id": "bb8312aa-272c-4f30-963c-8872a70fb2c8",
   "metadata": {
    "tags": []
   },
   "outputs": [],
   "source": [
    "import numpy as np\n",
    "import pandas as pd\n",
    "import matplotlib.pyplot as plt\n",
    "import seaborn as sns\n",
    "from sklearn.preprocessing import StandardScaler\n",
    "from sklearn.ensemble import RandomForestClassifier\n",
    "from sklearn.manifold import TSNE\n",
    "from scipy.stats import pearsonr # For Pearson correlation and p-value"
   ]
  },
  {
   "cell_type": "markdown",
   "id": "b02c4e84",
   "metadata": {},
   "source": [
    "### visualization of features and importance"
   ]
  },
  {
   "cell_type": "code",
   "execution_count": 2,
   "id": "8a815a0e-c2ab-4396-b0e1-200021180083",
   "metadata": {
    "tags": []
   },
   "outputs": [],
   "source": [
    "# np.random.seed(42) # For reproducibility\n",
    "\n",
    "train_extra = train_X_\n",
    "n_samples = len(train_extra) # Number of samples (adjust for your data size)\n",
    "n_features = len(train_extra[0])\n",
    "np.random.seed(42) # For reproducibility\n",
    "\n",
    "\n",
    "train_extra = np.array(train_extra)\n",
    "train_y = np.array(train_y)\n",
    "\n",
    "\n",
    "print(f\"--- Dummy Data Overview ---\")\n",
    "print(f\"train_extra shape: {train_extra.shape}\")\n",
    "print(f\"train_y shape: {train_y.shape}\")\n",
    "print(f\"Class distribution (0s, 1s): {np.bincount(train_y)}\")\n",
    "print(\"-\" * 30)\n",
    "\n",
    "# # Convert to Pandas DataFrame/Series for easier analysis (especially correlation)\n",
    "train_extra_df = pd.DataFrame(train_extra, columns=[f'feature_{i}' for i in range(n_features)])\n",
    "train_y_series = pd.Series(train_y, name='target_class')\n",
    "\n",
    "\n",
    "# print(\"\\n--- 1. Checking Feature-Target Correlations ---\")\n",
    "# # Interpretation: Low absolute correlation coefficients (e.g., between -0.1 and 0.1)\n",
    "# # suggest a weak linear relationship between the feature and the target.\n",
    "# # For non-linear relationships or categorical features, other methods (e.g., mutual information, Chi-squared)\n",
    "# # would be more appropriate.\n",
    "\n",
    "\n",
    "\n",
    "\n",
    "\n",
    "correlation_results = []\n",
    "for col in train_extra_df.columns:\n",
    "    if pd.api.types.is_numeric_dtype(train_extra_df[col]): # Ensure feature is numeric\n",
    "        coeff, p_value = pearsonr(train_extra_df[col], train_y_series)\n",
    "        correlation_results.append({'feature': col, 'correlation': coeff, 'p_value': p_value})\n",
    "    else:\n",
    "        # Handle non-numeric features if applicable (e.g., using Cramer's V for categorical)\n",
    "        pass \n",
    "\n",
    "correlations_df = pd.DataFrame(correlation_results).sort_values(by='correlation', ascending=False)\n",
    "\n",
    "print(\"\\nTop 10 most positively correlated features:\")\n",
    "print(correlations_df.head(10))\n",
    "print(\"\\nTop 10 most negatively correlated features:\")\n",
    "print(correlations_df.tail(10))\n",
    "print(\"\\nFeatures with absolute correlation coefficient less than 0.05:\")\n",
    "print(correlations_df[abs(correlations_df['correlation']) < 0.05])\n",
    "\n",
    "\n",
    "print(\"\\n--- 2. Checking Lack of Clear Visual Separation (using t-SNE) ---\")\n",
    "# t-SNE projects high-dimensional data into 2D/3D for visualization.\n",
    "# It's sensitive to scaling, so StandardScaler is used first.\n",
    "# For very large datasets (e.g., >10,000 samples), t-SNE can be slow.\n",
    "# Consider using UMAP (pip install umap-learn) which is faster and often preserves global structure better,\n",
    "# or sample a subset of your data for t-SNE visualization.\n",
    "\n",
    "# Scale the features\n",
    "scaler = StandardScaler()\n",
    "train_extra_scaled = scaler.fit_transform(train_extra)\n",
    "\n",
    "# Limit the number of samples for t-SNE if the dataset is large, for faster computation\n",
    "n_samples_for_tsne_viz = min(5000, train_extra_scaled.shape[0]) # Adjust as needed\n",
    "if train_extra_scaled.shape[0] > n_samples_for_tsne_viz:\n",
    "    # Randomly sample indices for t-SNE to avoid bias\n",
    "    np.random.seed(42) # For reproducibility of the sample\n",
    "    sample_indices = np.random.choice(train_extra_scaled.shape[0], n_samples_for_tsne_viz, replace=False)\n",
    "    X_tsne_sample = train_extra_scaled[sample_indices]\n",
    "    y_tsne_sample = train_y[sample_indices]\n",
    "    print(f\"  Warning: Using a random subset of {n_samples_for_tsne_viz} samples for t-SNE visualization.\")\n",
    "else:\n",
    "    X_tsne_sample = train_extra_scaled\n",
    "    y_tsne_sample = train_y\n",
    "\n",
    "print(f\"  Fitting t-SNE on {X_tsne_sample.shape[0]} samples (may take a moment for large datasets)...\")\n",
    "try:\n",
    "    tsne = TSNE(n_components=2, random_state=42, perplexity=30, n_iter=1000) # Adjust perplexity/n_iter\n",
    "    X_tsne = tsne.fit_transform(X_tsne_sample)\n",
    "\n",
    "    plt.figure(figsize=(10, 8))\n",
    "    sns.scatterplot(\n",
    "        x=X_tsne[:, 0], y=X_tsne[:, 1],\n",
    "        hue=y_tsne_sample, # Color points by class label\n",
    "        palette='viridis', # Colormap for the classes\n",
    "        legend='full',\n",
    "        alpha=0.7,\n",
    "        s=50 # Point size\n",
    "    )\n",
    "    plt.title('t-SNE Visualization of Feature Space by Target Class')\n",
    "    plt.xlabel('t-SNE Component 1')\n",
    "    plt.ylabel('t-SNE Component 2')\n",
    "    plt.grid(True, linestyle=':', alpha=0.6)\n",
    "    plt.show()\n",
    "\n",
    "except Exception as e:\n",
    "    print(f\"  Could not perform t-SNE visualization. Error: {e}\")\n",
    "    print(\"  This might be due to very high dimensionality, too few samples for perplexity, or other issues.\")\n",
    "    print(\"  Consider using PCA for quick visualization or checking data for constancy.\")\n",
    "\n",
    "# Interpretation: If the different colored points (classes) are heavily intermixed without forming distinct clusters,\n",
    "# it indicates that the current features do not provide clear separability.\n",
    "\n",
    "\n",
    "print(\"\\n--- 3. Checking Low Feature Importance Scores (using RandomForestClassifier) ---\")\n",
    "# RandomForest is a good choice as it provides feature importances and is robust to scaling.\n",
    "# Use class_weight='balanced' to account for imbalance when calculating importance.\n",
    "\n",
    "rf_model = RandomForestClassifier(n_estimators=100, random_state=42, class_weight='balanced', n_jobs=-1)\n",
    "print(\"  Training RandomForestClassifier for feature importance (this might take a moment)...\")\n",
    "rf_model.fit(train_extra, train_y) # Use original unscaled X here, RF doesn't need scaling\n",
    "print(\"  RandomForestClassifier training complete.\")\n",
    "\n",
    "feature_importances = pd.DataFrame({\n",
    "    'feature': train_extra_df.columns, # Use names from DataFrame\n",
    "    'importance': rf_model.feature_importances_\n",
    "}).sort_values(by='importance', ascending=False)\n",
    "\n",
    "print(\"\\nTop 20 most important features:\")\n",
    "print(feature_importances.head(20))\n",
    "\n",
    "print(\"\\nBottom 20 least important features (potentially uninformative):\")\n",
    "print(feature_importances.tail(20))\n",
    "\n",
    "# Plotting feature importances\n",
    "plt.figure(figsize=(12, 8))\n",
    "sns.barplot(x='importance', y='feature', data=feature_importances.head(20), palette='viridis')\n",
    "plt.title('Top 20 Feature Importances from Random Forest')\n",
    "plt.xlabel('Importance Score (higher is more important)')\n",
    "plt.ylabel('Feature')\n",
    "plt.grid(axis='x', linestyle=':', alpha=0.6)\n",
    "plt.tight_layout()\n",
    "plt.show()\n",
    "\n",
    "# Interpretation: Features with importance scores very close to zero or consistently low suggest they are not\n",
    "# contributing significantly to the model's decision-making process. If a large number of features fall into this category,\n",
    "# or even the top features have very small scores, it implies a weak overall signal.\n",
    "\n",
    "print(\"\\n--- Feature Sufficiency Analysis Complete ---\")\n",
    "print(\"Consider these indicators together to assess the overall signal in your feature set.\")\n",
    "print(\"If multiple signs point to insufficient features, focus on feature engineering (creating new features),\")\n",
    "print(\"gathering more diverse data, or exploring advanced domain-specific data representations.\")"
   ]
  },
  {
   "cell_type": "markdown",
   "id": "c7e6c157",
   "metadata": {},
   "source": [
    "### Different ML model Analysis"
   ]
  },
  {
   "cell_type": "code",
   "execution_count": 101,
   "id": "06b10d2c-198c-4bb1-977f-17d873ccd71a",
   "metadata": {
    "tags": []
   },
   "outputs": [],
   "source": [
    "from sklearn.model_selection import GridSearchCV\n",
    "# ... (rest of your PCA and data loading) ...\n",
    "\n",
    "param_grid = {\n",
    "    'C': [0.001, 0.01, 0.1, 1, 10, 100], # Range of regularization strengths\n",
    "    'penalty': ['l1', 'l2'] # Test both L1 and L2 penalties\n",
    "}\n",
    "\n",
    "# For L1 penalty, you need a solver that supports it (e.g., 'liblinear', 'saga')\n",
    "# 'saga' is good for larger datasets and supports L1/L2\n",
    "# max_iter needs to be very high for 'saga'\n",
    "logreg_base = LogisticRegression(random_state=42, max_iter=1000000, class_weight='balanced', solver='saga')\n",
    "\n",
    "grid_search = GridSearchCV(logreg_base, param_grid, cv=5, scoring='f1', verbose=1, n_jobs=-1)\n",
    "# Use 'f1' as scoring since it's good for imbalanced data\n",
    "# cv=5 for 5-fold cross-validation\n",
    "# n_jobs=-1 to use all CPU cores\n",
    "\n",
    "grid_search.fit(train_X_, train_y)\n",
    "\n",
    "print(\"\\nBest Logistic Regression parameters:\", grid_search.best_params_)\n",
    "print(\"Best Logistic Regression F1-score (CV):\", grid_search.best_score_)\n",
    "\n",
    "# Use the best estimator found by GridSearchCV\n",
    "best_logreg = grid_search.best_estimator_\n",
    "\n",
    "# Now, use best_logreg for prediction and evaluation on val_X_ and test_X_\n",
    "# ... (rest of your evaluation code with val_probs, test_probs using best_logreg)"
   ]
  },
  {
   "cell_type": "code",
   "execution_count": 107,
   "id": "b6331aba-1ab3-44f5-8704-230bf7b65fc9",
   "metadata": {
    "tags": []
   },
   "outputs": [
    {
     "name": "stdout",
     "output_type": "stream",
     "text": [
      "\n",
      "--- After Random Undersampling (majority class) ---\n",
      "Resampled dataset shape: X=(2100, 188), y=(2100,)\n",
      "New class distribution: [1050 1050]\n"
     ]
    }
   ],
   "source": [
    "from imblearn.under_sampling import RandomUnderSampler\n",
    "import numpy as np\n",
    "import pandas as pd\n",
    "\n",
    "\n",
    "rus = RandomUnderSampler(sampling_strategy='auto', random_state=42)\n",
    "\n",
    "# Apply undersampling to your data (X_train, y_train, not test data)\n",
    "X_resampled_rus, y_resampled_rus = rus.fit_resample(train_X_, train_y)\n",
    "\n",
    "print(f\"\\n--- After Random Undersampling (majority class) ---\")\n",
    "print(f\"Resampled dataset shape: X={X_resampled_rus.shape}, y={y_resampled_rus.shape}\")\n",
    "print(f\"New class distribution: {np.bincount(y_resampled_rus)}\")\n",
    "\n",
    "# You'll notice that Class 0 now has the same number of samples as Class 1 (100 in this dummy example).\n",
    "# Be aware: Random undersampling can discard potentially useful information from the majority class."
   ]
  },
  {
   "cell_type": "code",
   "execution_count": 237,
   "id": "06a5123c-6346-43ff-bf71-2abe2cbc99c2",
   "metadata": {
    "tags": []
   },
   "outputs": [],
   "source": [
    "train_features = np.array(train_X)\n",
    "# val_features = np.array(val_df)\n",
    "test_features = np.array(test_X)"
   ]
  },
  {
   "cell_type": "code",
   "execution_count": 238,
   "id": "4d56e0b2-9bee-470a-99ab-31bec0822f33",
   "metadata": {
    "tags": []
   },
   "outputs": [],
   "source": [
    "import seaborn as sns\n"
   ]
  },
  {
   "cell_type": "code",
   "execution_count": 110,
   "id": "5e62fa5c-3a17-4eb7-9469-6da9ceb56a1e",
   "metadata": {
    "tags": []
   },
   "outputs": [
    {
     "name": "stdout",
     "output_type": "stream",
     "text": [
      "Training features shape: (4114, 824)\n",
      "Test features shape: (734, 824)\n"
     ]
    }
   ],
   "source": [
    "scaler = StandardScaler()\n",
    "train_features = scaler.fit_transform(train_features)\n",
    "\n",
    "# val_features = scaler.transform(val_features)\n",
    "test_features = scaler.transform(test_features)\n",
    "\n",
    "train_features = np.clip(train_features, -5, 5)\n",
    "# val_features = np.clip(val_features, -5, 5)\n",
    "test_features = np.clip(test_features, -5, 5)\n",
    "\n",
    "\n",
    "# print('Training labels shape:', train_labels.shape)\n",
    "# # print('Validation labels shape:', val_labels.shape)\n",
    "# print('Test labels shape:', test_labels.shape)\n",
    "\n",
    "print('Training features shape:', train_features.shape)\n",
    "# print('Validation features shape:', val_features.shape)\n",
    "print('Test features shape:', test_features.shape)"
   ]
  },
  {
   "cell_type": "code",
   "execution_count": 177,
   "id": "0aaeda6b-c9e9-47fc-b7da-901a33da4d15",
   "metadata": {
    "tags": []
   },
   "outputs": [],
   "source": [
    "train_X = np.array(train_X)\n",
    "train_y = np.array(train_y) \n"
   ]
  },
  {
   "cell_type": "code",
   "execution_count": 142,
   "id": "b989f703-02d1-4778-bf3f-aae1220d4be8",
   "metadata": {
    "tags": []
   },
   "outputs": [
    {
     "name": "stdout",
     "output_type": "stream",
     "text": [
      "2423 17903\n",
      "15480 30960\n"
     ]
    }
   ],
   "source": [
    "from imblearn.over_sampling import SMOTE\n",
    "\n",
    "\n",
    "smote = SMOTE(random_state=42)\n",
    "X_resampled, y_resampled = smote.fit_resample(train_X_, train_y)\n",
    "\n",
    "print(sum(train_y), len(train_y))\n",
    "print(sum(y_resampled), len(y_resampled))"
   ]
  },
  {
   "cell_type": "code",
   "execution_count": 178,
   "id": "51ed4269-e6d8-4a3c-9189-6ad502b295fb",
   "metadata": {
    "tags": []
   },
   "outputs": [],
   "source": [
    "class FocalLoss(nn.Module):\n",
    "    def __init__(self, alpha=1, gamma=2, reduction='mean'):\n",
    "        super().__init__()\n",
    "        self.alpha = alpha\n",
    "        self.gamma = gamma\n",
    "        self.reduction = reduction\n",
    "        self.bce = nn.BCEWithLogitsLoss(reduction='none')\n",
    "\n",
    "    def forward(self, input, target):\n",
    "        bce_loss = self.bce(input, target)\n",
    "        probas = torch.sigmoid(input)\n",
    "        pt = target * probas + (1 - target) * (1 - probas)\n",
    "        loss = self.alpha * (1 - pt) ** self.gamma * bce_loss\n",
    "        if self.reduction == 'mean':\n",
    "            return loss.mean()\n",
    "        return loss.sum()\n",
    "\n",
    "class DeeperMLP(nn.Module):\n",
    "    def __init__(self, input_dim):\n",
    "        super().__init__()\n",
    "        self.net = nn.Sequential(\n",
    "            nn.Linear(input_dim, 256),\n",
    "            nn.ReLU(),\n",
    "            nn.Dropout(0.3),\n",
    "            nn.Linear(256, 128),\n",
    "            nn.ReLU(),\n",
    "            nn.Dropout(0.3),\n",
    "            nn.Linear(128, 1)\n",
    "        )\n",
    "    def forward(self, x):\n",
    "        return self.net(x)\n"
   ]
  },
  {
   "cell_type": "code",
   "execution_count": 203,
   "id": "8d59ab55-a01a-404d-b857-b4761dc0982b",
   "metadata": {
    "tags": []
   },
   "outputs": [
    {
     "name": "stdout",
     "output_type": "stream",
     "text": [
      "Epoch 1/500, Loss: 0.0082\n",
      "Epoch 2/500, Loss: 0.0061\n",
      "Epoch 3/500, Loss: 0.0063\n",
      "Epoch 4/500, Loss: 0.0051\n",
      "Epoch 5/500, Loss: 0.0049\n",
      "Epoch 6/500, Loss: 0.0048\n",
      "Epoch 7/500, Loss: 0.0045\n",
      "Epoch 8/500, Loss: 0.0046\n",
      "Epoch 9/500, Loss: 0.0044\n",
      "Epoch 10/500, Loss: 0.0043\n",
      "Epoch 11/500, Loss: 0.0043\n",
      "Epoch 12/500, Loss: 0.0041\n",
      "Epoch 13/500, Loss: 0.0038\n",
      "Epoch 14/500, Loss: 0.0036\n",
      "Epoch 15/500, Loss: 0.0052\n",
      "Epoch 16/500, Loss: 0.0035\n",
      "Epoch 17/500, Loss: 0.0033\n",
      "Epoch 18/500, Loss: 0.0031\n",
      "Epoch 19/500, Loss: 0.0032\n",
      "Epoch 20/500, Loss: 0.0029\n",
      "Epoch 21/500, Loss: 0.0031\n",
      "Epoch 22/500, Loss: 0.0033\n",
      "Epoch 23/500, Loss: 0.0032\n",
      "Epoch 24/500, Loss: 0.0029\n",
      "Epoch 25/500, Loss: 0.0028\n",
      "Epoch 26/500, Loss: 0.0026\n",
      "Epoch 27/500, Loss: 0.0025\n",
      "Epoch 28/500, Loss: 0.0022\n",
      "Epoch 29/500, Loss: 0.0022\n",
      "Epoch 30/500, Loss: 0.0021\n",
      "Epoch 31/500, Loss: 0.0020\n",
      "Epoch 32/500, Loss: 0.0022\n",
      "Epoch 33/500, Loss: 0.0021\n",
      "Epoch 34/500, Loss: 0.0020\n",
      "Epoch 35/500, Loss: 0.0019\n",
      "Epoch 36/500, Loss: 0.0019\n",
      "Epoch 37/500, Loss: 0.0018\n",
      "Epoch 38/500, Loss: 0.0018\n",
      "Epoch 39/500, Loss: 0.0021\n",
      "Epoch 40/500, Loss: 0.0018\n",
      "Epoch 41/500, Loss: 0.0016\n",
      "Epoch 42/500, Loss: 0.0016\n",
      "Epoch 43/500, Loss: 0.0019\n",
      "Epoch 44/500, Loss: 0.0015\n",
      "Epoch 45/500, Loss: 0.0014\n",
      "Epoch 46/500, Loss: 0.0015\n",
      "Epoch 47/500, Loss: 0.0017\n",
      "Epoch 48/500, Loss: 0.0014\n",
      "Epoch 49/500, Loss: 0.0014\n",
      "Epoch 50/500, Loss: 0.0013\n",
      "Epoch 51/500, Loss: 0.0016\n",
      "Epoch 52/500, Loss: 0.0015\n",
      "Epoch 53/500, Loss: 0.0013\n",
      "Epoch 54/500, Loss: 0.0020\n",
      "Epoch 55/500, Loss: 0.0012\n",
      "Epoch 56/500, Loss: 0.0017\n",
      "Epoch 57/500, Loss: 0.0019\n",
      "Epoch 58/500, Loss: 0.0010\n",
      "Epoch 59/500, Loss: 0.0014\n",
      "Epoch 60/500, Loss: 0.0043\n",
      "Epoch 61/500, Loss: 0.0015\n",
      "Epoch 62/500, Loss: 0.0013\n",
      "Epoch 63/500, Loss: 0.0013\n",
      "Epoch 64/500, Loss: 0.0012\n",
      "Epoch 65/500, Loss: 0.0012\n",
      "Epoch 66/500, Loss: 0.0012\n",
      "Epoch 67/500, Loss: 0.0012\n",
      "Epoch 68/500, Loss: 0.0010\n",
      "Epoch 69/500, Loss: 0.0010\n",
      "Epoch 70/500, Loss: 0.0014\n",
      "Epoch 71/500, Loss: 0.0009\n",
      "Epoch 72/500, Loss: 0.0010\n",
      "Epoch 73/500, Loss: 0.0010\n",
      "Epoch 74/500, Loss: 0.0009\n",
      "Epoch 75/500, Loss: 0.0019\n",
      "Epoch 76/500, Loss: 0.0010\n",
      "Epoch 77/500, Loss: 0.0013\n",
      "Epoch 78/500, Loss: 0.0009\n",
      "Epoch 79/500, Loss: 0.0009\n",
      "Epoch 80/500, Loss: 0.0008\n",
      "Epoch 81/500, Loss: 0.0009\n",
      "Epoch 82/500, Loss: 0.0009\n",
      "Epoch 83/500, Loss: 0.0010\n",
      "Epoch 84/500, Loss: 0.0011\n",
      "Epoch 85/500, Loss: 0.0008\n",
      "Epoch 86/500, Loss: 0.0011\n",
      "Epoch 87/500, Loss: 0.0010\n",
      "Epoch 88/500, Loss: 0.0011\n",
      "Epoch 89/500, Loss: 0.0009\n",
      "Epoch 90/500, Loss: 0.0010\n",
      "Epoch 91/500, Loss: 0.0009\n",
      "Epoch 92/500, Loss: 0.0009\n",
      "Epoch 93/500, Loss: 0.0010\n",
      "Epoch 94/500, Loss: 0.0008\n",
      "Epoch 95/500, Loss: 0.0008\n",
      "Epoch 96/500, Loss: 0.0012\n",
      "Epoch 97/500, Loss: 0.0007\n",
      "Epoch 98/500, Loss: 0.0008\n",
      "Epoch 99/500, Loss: 0.0012\n",
      "Epoch 100/500, Loss: 0.0009\n",
      "Epoch 101/500, Loss: 0.0008\n",
      "Epoch 102/500, Loss: 0.0009\n",
      "Epoch 103/500, Loss: 0.0011\n",
      "Epoch 104/500, Loss: 0.0009\n",
      "Epoch 105/500, Loss: 0.0018\n",
      "Epoch 106/500, Loss: 0.0007\n",
      "Epoch 107/500, Loss: 0.0009\n",
      "Early stopping triggered.\n",
      "Best threshold (max min(+P, Se)): 0.3857, min(+P, Se): 0.4267\n",
      "AUC-ROC: 0.8293506653662036\n",
      "AUC-PRC: 0.4255177774149544\n",
      "              precision    recall  f1-score   support\n",
      "\n",
      "         0.0       0.92      0.92      0.92      2862\n",
      "         1.0       0.43      0.43      0.43       374\n",
      "\n",
      "    accuracy                           0.87      3236\n",
      "   macro avg       0.68      0.68      0.68      3236\n",
      "weighted avg       0.87      0.87      0.87      3236\n",
      "\n",
      "Confusion Matrix:\n",
      " [[2647  215]\n",
      " [ 215  159]]\n"
     ]
    },
    {
     "data": {
      "image/png": "[encoded data removed]",
      "text/plain": [
       "<Figure size 864x720 with 1 Axes>"
      ]
     },
     "metadata": {
      "needs_background": "light"
     },
     "output_type": "display_data"
    }
   ],
   "source": [
    "\n",
    "\n",
    "# X_train_, y_train_ = train_X, train_y  # Use raw data (better with pos_weight)\n",
    "\n",
    "# # X_train_, y_train_ = X_resampled, y_resampled \n",
    "# X_test_, y_test_ = test_X, test_y  # Use raw data (better with pos_weight)\n",
    "\n",
    "\n",
    "# # Tensor conversion\n",
    "# X_train_ = torch.tensor(X_train_, dtype=torch.float32)\n",
    "# y_train_ = torch.tensor(y_train_, dtype=torch.float32)\n",
    "# X_test_ = torch.tensor(X_test_, dtype=torch.float32)\n",
    "# y_test_ = torch.tensor(y_test_, dtype=torch.float32)\n",
    "\n",
    "# train_dataset = TensorDataset(X_train_, y_train_)\n",
    "# test_dataset = TensorDataset(X_test_, y_test_)\n",
    "\n",
    "# train_loader = DataLoader(train_dataset, batch_size=128, shuffle=True)\n",
    "# test_loader = DataLoader(test_dataset, batch_size=64)\n",
    "\n",
    "# # Model\n",
    "# class MLP(nn.Module):\n",
    "#     def __init__(self, input_dim, hidden_dim):\n",
    "#         super().__init__()\n",
    "#         self.net = nn.Sequential(\n",
    "#             nn.Linear(input_dim, hidden_dim),\n",
    "#             nn.ReLU(),\n",
    "#             nn.Linear(hidden_dim, 1)\n",
    "#         )\n",
    "#     def forward(self, x):\n",
    "#         return self.net(x)\n",
    "\n",
    "# # Loss with pos_weight (handle imbalance properly)\n",
    "# # pos_weight = torch.tensor([(len(y_train_) - y_train_.sum()) / y_train_.sum()], dtype=torch.float32)\n",
    "# # criterion = nn.BCEWithLogitsLoss(pos_weight=pos_weight*20)\n",
    "\n",
    "# # model = MLP(input_dim=train_X.shape[1], hidden_dim=128)\n",
    "\n",
    "# model = DeeperMLP(input_dim=X_train_.shape[1])\n",
    "# criterion = FocalLoss(alpha=1, gamma=2)\n",
    "# # pos_weight = torch.tensor([(len(y_train_) - y_train_.sum()) / y_train_.sum()], dtype=torch.float32)\n",
    "# # print(pos_weight)\n",
    "# # criterion = nn.BCEWithLogitsLoss(pos_weight=pos_weight)\n",
    "\n",
    "\n",
    "\n",
    "# optimizer = torch.optim.Adam(model.parameters(), lr=1e-3)\n",
    "\n",
    "# # Training loop with early stopping\n",
    "# epochs = 500\n",
    "# best_loss = float('inf')\n",
    "# patience =  10\n",
    "# patience_counter = 0\n",
    "\n",
    "# for epoch in range(epochs):\n",
    "#     model.train()\n",
    "#     total_loss = 0\n",
    "#     for xb, yb in train_loader:\n",
    "#         yb = yb.unsqueeze(1)\n",
    "#         logits = model(xb)\n",
    "#         loss = criterion(logits, yb)\n",
    "#         optimizer.zero_grad()\n",
    "#         loss.backward()\n",
    "#         optimizer.step()\n",
    "#         total_loss += loss.item()\n",
    "    \n",
    "#     avg_loss = total_loss / len(train_loader)\n",
    "#     print(f\"Epoch {epoch+1}/{epochs}, Loss: {avg_loss:.4f}\")\n",
    "    \n",
    "#     if avg_loss < best_loss:\n",
    "#         best_loss = avg_loss\n",
    "#         patience_counter = 0\n",
    "#         torch.save(model.state_dict(), \"best_model.pt\")\n",
    "#     else:\n",
    "#         patience_counter += 1\n",
    "#         if patience_counter >= patience:\n",
    "#             print(\"Early stopping triggered.\")\n",
    "#             break\n",
    "\n",
    "# # Load best model\n",
    "# model.load_state_dict(torch.load(\"best_model.pt\"))\n",
    "# model.eval()\n",
    "\n",
    "# # Evaluation\n",
    "# all_probs = []\n",
    "# all_labels = []\n",
    "\n",
    "# with torch.no_grad():\n",
    "#     for xb, yb in test_loader:\n",
    "#         logits = model(xb)\n",
    "#         probs = torch.sigmoid(logits).squeeze().cpu().numpy()\n",
    "#         all_probs.extend(probs)\n",
    "#         all_labels.extend(yb.numpy())\n",
    "\n",
    "# all_probs = np.array(all_probs)\n",
    "# all_labels = np.array(all_labels)\n",
    "\n",
    "# # Threshold tuning using precision-recall\n",
    "# prec, rec, thresholds = precision_recall_curve(all_labels, all_probs)\n",
    "# minpse = np.minimum(prec, rec)\n",
    "# best_idx = np.argmax(minpse)\n",
    "# best_thresh = thresholds[best_idx]\n",
    "# print(f\"Best threshold (max min(+P, Se)): {best_thresh:.4f}, min(+P, Se): {minpse[best_idx]:.4f}\")\n",
    "\n",
    "# # Apply best threshold\n",
    "# pred_labels = (all_probs > best_thresh).astype(int)\n",
    "\n",
    "# # Metrics\n",
    "# print(\"AUC-ROC:\", roc_auc_score(all_labels, all_probs))\n",
    "# print(\"AUC-PRC:\", average_precision_score(all_labels, all_probs))\n",
    "# print(classification_report(all_labels, pred_labels))\n",
    "# print(\"Confusion Matrix:\\n\", confusion_matrix(all_labels, pred_labels))\n",
    "\n",
    "# # Optional plot\n",
    "# plt.plot(rec, prec)\n",
    "# plt.xlabel(\"Recall\")\n",
    "# plt.ylabel(\"Precision\")\n",
    "# plt.title(\"PR Curve\")\n",
    "# plt.grid(True)\n",
    "# plt.show()\n"
   ]
  },
  {
   "cell_type": "code",
   "execution_count": 157,
   "id": "84658d86-f2d2-4c91-b195-6e41f049c3d6",
   "metadata": {
    "tags": []
   },
   "outputs": [
    {
     "name": "stdout",
     "output_type": "stream",
     "text": [
      "Best threshold (max min(+P, Se)): 0.5118, min(+P, Se): 0.9996\n",
      "AUC-ROC: 0.9999998666952472\n",
      "AUC-PRC: 0.9999991500998463\n",
      "              precision    recall  f1-score   support\n",
      "\n",
      "         0.0       1.00      1.00      1.00     15480\n",
      "         1.0       1.00      1.00      1.00      2423\n",
      "\n",
      "    accuracy                           1.00     17903\n",
      "   macro avg       1.00      1.00      1.00     17903\n",
      "weighted avg       1.00      1.00      1.00     17903\n",
      "\n",
      "Confusion Matrix:\n",
      " [[15480     0]\n",
      " [    1  2422]]\n"
     ]
    },
    {
     "data": {
      "image/png": "[encoded data removed]",
      "text/plain": [
       "<Figure size 432x288 with 1 Axes>"
      ]
     },
     "metadata": {
      "needs_background": "light"
     },
     "output_type": "display_data"
    }
   ],
   "source": [
    "all_probs = []\n",
    "all_labels = []\n",
    "\n",
    "with torch.no_grad():\n",
    "    for xb, yb in train_loader:\n",
    "        logits = model(xb)\n",
    "        probs = torch.sigmoid(logits).squeeze().cpu().numpy()\n",
    "        all_probs.extend(probs)\n",
    "        all_labels.extend(yb.numpy())\n",
    "\n",
    "all_probs = np.array(all_probs)\n",
    "all_labels = np.array(all_labels)\n",
    "\n",
    "# Threshold tuning using precision-recall\n",
    "prec, rec, thresholds = precision_recall_curve(all_labels, all_probs)\n",
    "minpse = np.minimum(prec, rec)\n",
    "best_idx = np.argmax(minpse)\n",
    "best_thresh = thresholds[best_idx]\n",
    "print(f\"Best threshold (max min(+P, Se)): {best_thresh:.4f}, min(+P, Se): {minpse[best_idx]:.4f}\")\n",
    "\n",
    "# Apply best threshold\n",
    "pred_labels = (all_probs > best_thresh).astype(int)\n",
    "\n",
    "# Metrics\n",
    "print(\"AUC-ROC:\", roc_auc_score(all_labels, all_probs))\n",
    "print(\"AUC-PRC:\", average_precision_score(all_labels, all_probs))\n",
    "print(classification_report(all_labels, pred_labels))\n",
    "print(\"Confusion Matrix:\\n\", confusion_matrix(all_labels, pred_labels))\n",
    "\n",
    "# Optional plot\n",
    "plt.plot(rec, prec)\n",
    "plt.xlabel(\"Recall\")\n",
    "plt.ylabel(\"Precision\")\n",
    "plt.title(\"PR Curve\")\n",
    "plt.grid(True)\n",
    "plt.show()"
   ]
  },
  {
   "cell_type": "code",
   "execution_count": 187,
   "id": "a70cde67-a08c-4342-8ef4-137493222d95",
   "metadata": {
    "tags": []
   },
   "outputs": [
    {
     "data": {
      "text/plain": [
       "BalancedRandomForestClassifier(random_state=42)"
      ]
     },
     "execution_count": 187,
     "metadata": {},
     "output_type": "execute_result"
    }
   ],
   "source": [
    "from imblearn.ensemble import BalancedRandomForestClassifier\n",
    "clf = BalancedRandomForestClassifier(random_state=42)\n",
    "clf.fit(train_X_, train_y)"
   ]
  },
  {
   "cell_type": "code",
   "execution_count": 10,
   "id": "d0a60448-10cf-4c86-a690-69e8eb7f87f2",
   "metadata": {
    "tags": []
   },
   "outputs": [],
   "source": [
    "# Making predictions on the test set\n",
    "y_pred = clf.predict(test_X_)\n",
    "\n",
    "# Calculate ROC-AUC score\n",
    "roc_auc = roc_auc_score(test_y, y_pred)\n",
    "print(f\"ROC-AUC Score: {roc_auc:.4f}\")\n",
    "\n",
    "# Calculate accuracy\n",
    "accuracy = accuracy_score(test_y, y_pred)\n",
    "print(f\"Accuracy: {accuracy:.4f}\")\n",
    "print(\"Confusion Matrix:\\n\", confusion_matrix(test_y, y_pred))\n",
    "print(classification_report(test_y, y_pred))\n",
    "print(\"AUC-PRC:\", average_precision_score(test_y, y_pred))\n",
    "\n"
   ]
  },
  {
   "cell_type": "code",
   "execution_count": 199,
   "id": "58e3a5a3-4ca5-4a37-9794-26637ebb9d87",
   "metadata": {
    "tags": []
   },
   "outputs": [
    {
     "name": "stdout",
     "output_type": "stream",
     "text": [
      "Fitting 5 folds for each of 1 candidates, totalling 5 fits\n",
      "\n",
      "Best parameters for Tuned BRF: {'max_depth': 15, 'max_features': 'sqrt', 'min_samples_leaf': 2, 'min_samples_split': 2, 'n_estimators': 500, 'sampling_strategy': 0.8}\n",
      "Tuned BRF ROC-AUC Score: 0.8595\n",
      "Tuned BRF Recall (Minority): 0.7005\n"
     ]
    }
   ],
   "source": [
    "from sklearn.model_selection import GridSearchCV\n",
    "from imblearn.ensemble import BalancedRandomForestClassifier # Make sure this is imported\n",
    "from sklearn.model_selection import StratifiedKFold\n",
    "\n",
    "brf = BalancedRandomForestClassifier(random_state=42)\n",
    "param_grid_brf_refined = {\n",
    "    'n_estimators': [500, 800, 200],\n",
    "    'max_features': ['sqrt', 'auto'], # Also try float for max_features\n",
    "    'max_depth': [15, 8, 10],\n",
    "    'min_samples_split': [2],\n",
    "    'min_samples_leaf': [2],\n",
    "    'sampling_strategy': [ 0.8, 0.5, 0.2] \n",
    "}\n",
    "\n",
    "grid_search_brf = GridSearchCV(estimator=BalancedRandomForestClassifier(random_state=42),\n",
    "                                       param_grid=param_grid_brf_refined, cv=StratifiedKFold(5), scoring='roc_auc', n_jobs=-1, verbose=1)\n",
    "# grid_search_brf_refined.fit(X_train, y_train)\n",
    "\n",
    "# grid_search_brf = GridSearchCV(estimator=brf, param_grid=param_grid_brf,\n",
    "#                                scoring='roc_auc', cv=StratifiedKFold(5), n_jobs=-1, verbose=1)\n",
    "grid_search_brf.fit(train_X, train_y)\n",
    "\n",
    "print(f\"\\nBest parameters for Tuned BRF: {grid_search_brf.best_params_}\")\n",
    "best_brf = grid_search_brf.best_estimator_\n",
    "y_pred_tuned_brf = best_brf.predict(test_X)\n",
    "y_proba_tuned_brf = best_brf.predict_proba(test_X)[:, 1]\n",
    "\n",
    "print(f\"Tuned BRF ROC-AUC Score: {roc_auc_score(test_y, y_proba_tuned_brf):.4f}\")\n",
    "report_tuned_brf = classification_report(test_y, y_pred_tuned_brf, output_dict=True)\n",
    "print(f\"Tuned BRF Recall (Minority): {report_tuned_brf['1']['recall']:.4f}\")"
   ]
  },
  {
   "cell_type": "code",
   "execution_count": 268,
   "id": "e2672a83-a824-4bde-9bb6-134d484b7cf5",
   "metadata": {
    "tags": []
   },
   "outputs": [
    {
     "name": "stdout",
     "output_type": "stream",
     "text": [
      "     feature  mean_abs_shap\n",
      "194  lab_194       0.013070\n",
      "192  lab_192       0.009309\n",
      "278  lab_278       0.008843\n",
      "193  lab_193       0.007908\n",
      "200  lab_200       0.007219\n",
      "..       ...            ...\n",
      "492  lab_492       0.001453\n",
      "566  lab_566       0.001438\n",
      "619  lab_619       0.001428\n",
      "246  lab_246       0.001428\n",
      "541  lab_541       0.001423\n",
      "\n",
      "[80 rows x 2 columns]\n"
     ]
    }
   ],
   "source": [
    "# Build the feature names list based on structure\n",
    "lab_features = [f\"lab_{i}\" for i in range(714)]\n",
    "prediction_feature = [\"prediction_unstructured\"]\n",
    "embedding_features = [f\"embedding_{i}\" for i in range(100)]\n",
    "categorical_features = [\n",
    "    \"GENDER\", \"ETHNICITY\", \"ADMISSION_TYPE\",\n",
    "    \"ADMISSION_LOCATION\", \"INSURANCE\", \"LANGUAGE\", \"RELIGION\"\n",
    "]\n",
    "\n",
    "# Combine all\n",
    "feature_names = lab_features + categorical_features + prediction_feature + embedding_features\n",
    "\n",
    "# Sanity check\n",
    "assert len(feature_names) == train_X.shape[1], \"Feature name count doesn't match input dimension\"\n",
    "\n",
    "\n",
    "shap_vals_class1 = shap_values_brf[1]\n",
    "mean_abs_shap = np.abs(shap_vals_class1).mean(axis=0)\n",
    "\n",
    "import pandas as pd\n",
    "\n",
    "shap_importance = pd.DataFrame({\n",
    "    'feature': feature_names,\n",
    "    'mean_abs_shap': mean_abs_shap\n",
    "}).sort_values(by='mean_abs_shap', ascending=False)\n",
    "\n",
    "top_n = 80\n",
    "print(shap_importance.head(top_n))\n"
   ]
  },
  {
   "cell_type": "code",
   "execution_count": null,
   "id": "0bd26a00-8483-466c-abab-c681f691df88",
   "metadata": {
    "tags": []
   },
   "outputs": [],
   "source": [
    "len(feature_names), train_X.shape"
   ]
  },
  {
   "cell_type": "code",
   "execution_count": 270,
   "id": "bff5028f-0530-4096-8169-1683e7a46086",
   "metadata": {
    "tags": []
   },
   "outputs": [
    {
     "name": "stdout",
     "output_type": "stream",
     "text": [
      "                   type  mean_abs_shap  importance_percent\n",
      "1            lab vitals       0.444211           89.638958\n",
      "2  prediction embedding       0.049055            9.899047\n",
      "0           demographic       0.002276            0.459195\n",
      "3          unstructured       0.000014            0.002799\n"
     ]
    }
   ],
   "source": [
    "# Tag each feature with a type\n",
    "def get_feature_type(name):\n",
    "    if name.startswith(\"lab_\"):\n",
    "        return \"lab vitals\"\n",
    "    elif name.startswith(\"embedding_\"):\n",
    "        return \"prediction embedding\"\n",
    "    elif name == \"prediction_unstructured\":\n",
    "        return \"unstructured\"\n",
    "    else:\n",
    "        return \"demographic\"\n",
    "\n",
    "# Add a new column for feature type\n",
    "shap_importance[\"type\"] = shap_importance[\"feature\"].apply(get_feature_type)\n",
    "\n",
    "# Group by type and sum mean absolute SHAP values\n",
    "type_summary = shap_importance.groupby(\"type\")[\"mean_abs_shap\"].sum().reset_index()\n",
    "\n",
    "# Normalize to percentages (optional)\n",
    "type_summary[\"importance_percent\"] = 100 * type_summary[\"mean_abs_shap\"] / shap_importance[\"mean_abs_shap\"].sum()\n",
    "\n",
    "print(type_summary.sort_values(by=\"importance_percent\", ascending=False))\n"
   ]
  },
  {
   "cell_type": "code",
   "execution_count": 271,
   "id": "12170885-1061-40db-8200-ccfb644a31e5",
   "metadata": {
    "tags": []
   },
   "outputs": [
    {
     "data": {
      "image/png": "[encoded data removed]",
      "text/plain": [
       "<Figure size 504x360 with 1 Axes>"
      ]
     },
     "metadata": {
      "needs_background": "light"
     },
     "output_type": "display_data"
    }
   ],
   "source": [
    "import matplotlib.pyplot as plt\n",
    "import seaborn as sns\n",
    "\n",
    "# Sort and optionally remove the last row (if needed)\n",
    "type_summary_sorted = type_summary.sort_values(by=\"importance_percent\", ascending=False)[:-1]\n",
    "\n",
    "plt.figure(figsize=(7, 5))\n",
    "ax = sns.barplot(\n",
    "    x=\"importance_percent\", \n",
    "    y=\"type\", \n",
    "    data=type_summary_sorted, \n",
    "    palette=\"viridis\"\n",
    ")\n",
    "\n",
    "# Add value labels to each bar\n",
    "for i, (value, label) in enumerate(zip(type_summary_sorted[\"importance_percent\"], type_summary_sorted[\"type\"])):\n",
    "    ax.text(value+1 , i, f\"{value:.1f}%\", ha='left', fontsize=10)\n",
    "\n",
    "max_val = type_summary_sorted[\"importance_percent\"].max()\n",
    "plt.xlim(0, max_val + 20)  # Add extra space on the right\n",
    "\n",
    "plt.xlabel(\"Mean Absolute SHAP Value (%)\")\n",
    "plt.ylabel(\"Feature Type\")\n",
    "plt.title(\"SHAP Importance by Feature Type\")\n",
    "plt.tight_layout()\n",
    "plt.show()\n"
   ]
  },
  {
   "cell_type": "code",
   "execution_count": 267,
   "id": "2597a157-c224-49f8-8eda-8de721c2934d",
   "metadata": {
    "tags": []
   },
   "outputs": [
    {
     "data": {
      "image/png": "[encoded data removed]",
      "text/plain": [
       "<Figure size 576x684 with 2 Axes>"
      ]
     },
     "metadata": {
      "needs_background": "light"
     },
     "output_type": "display_data"
    }
   ],
   "source": [
    "import shap\n",
    "\n",
    "# Create TreeExplainer for BRF (it’s compatible as BRF uses decision trees)\n",
    "explainer_brf = shap.TreeExplainer(best_brf)\n",
    "shap_values_brf = explainer_brf.shap_values(train_X)\n",
    "shap.summary_plot(shap_values_brf[1], train_X)  # Visualizes importance for the positive class\n"
   ]
  },
  {
   "cell_type": "code",
   "execution_count": 83,
   "id": "b1e74070-3f94-4e3e-a9f4-f7a164e50af2",
   "metadata": {
    "tags": []
   },
   "outputs": [
    {
     "data": {
      "text/plain": [
       "(17903, 831)"
      ]
     },
     "execution_count": 83,
     "metadata": {},
     "output_type": "execute_result"
    }
   ],
   "source": [
    "shap_values_brf[1].shape"
   ]
  },
  {
   "cell_type": "code",
   "execution_count": 73,
   "id": "173374a9-2fb3-496b-ba7d-f380dd1b2d3e",
   "metadata": {
    "tags": []
   },
   "outputs": [
    {
     "data": {
      "text/plain": [
       "(17903, 993)"
      ]
     },
     "execution_count": 73,
     "metadata": {},
     "output_type": "execute_result"
    }
   ],
   "source": [
    "train_X.shape"
   ]
  },
  {
   "cell_type": "code",
   "execution_count": 182,
   "id": "cf4d0b53-33aa-4f7a-90f8-e120919ce5aa",
   "metadata": {
    "tags": []
   },
   "outputs": [
    {
     "name": "stdout",
     "output_type": "stream",
     "text": [
      "Fitting 5 folds for each of 12 candidates, totalling 60 fits\n",
      "Tuned BRF ROC-AUC Score: 0.8610\n",
      "Tuned BRF Recall (Minority): 0.6016\n"
     ]
    }
   ],
   "source": [
    "grid_search_brf.fit(train_X_, train_y)\n",
    "\n",
    "best_brf = grid_search_brf.best_estimator_\n",
    "y_pred_tuned_brf = best_brf.predict(test_X_)\n",
    "y_proba_tuned_brf = best_brf.predict_proba(test_X_)[:, 1]\n",
    "\n",
    "print(f\"Tuned BRF ROC-AUC Score: {roc_auc_score(test_y, y_proba_tuned_brf):.4f}\")\n",
    "report_tuned_brf = classification_report(test_y, y_pred_tuned_brf, output_dict=True)\n",
    "print(f\"Tuned BRF Recall (Minority): {report_tuned_brf['1']['recall']:.4f}\")"
   ]
  },
  {
   "cell_type": "markdown",
   "id": "c80c470f-131e-4800-b00e-4d7c90d9a620",
   "metadata": {},
   "source": [
    "BalancedRandomForestClassifier[structured, kare output, embedding(reasoning), demographic]-> output\n",
    "4% positive"
   ]
  },
  {
   "cell_type": "code",
   "execution_count": 200,
   "id": "1cf46da9-22dd-4812-873d-8a745b77f8c0",
   "metadata": {
    "tags": []
   },
   "outputs": [
    {
     "name": "stdout",
     "output_type": "stream",
     "text": [
      "AUC-ROC: 0.8595172965317249\n",
      "AUC-PRC: 0.4751512632901119\n",
      "              precision    recall  f1-score   support\n",
      "\n",
      "           0       0.95      0.82      0.88      2862\n",
      "           1       0.34      0.70      0.46       374\n",
      "\n",
      "    accuracy                           0.81      3236\n",
      "   macro avg       0.65      0.76      0.67      3236\n",
      "weighted avg       0.88      0.81      0.83      3236\n",
      "\n",
      "Confusion Matrix:\n",
      " [[2349  513]\n",
      " [ 112  262]]\n"
     ]
    }
   ],
   "source": [
    "print(\"AUC-ROC:\", roc_auc_score(test_y, y_proba_tuned_brf))\n",
    "print(\"AUC-PRC:\", average_precision_score(test_y, y_proba_tuned_brf))\n",
    "print(classification_report(test_y, y_pred_tuned_brf))\n",
    "print(\"Confusion Matrix:\\n\", confusion_matrix(test_y, y_pred_tuned_brf))\n",
    "\n"
   ]
  },
  {
   "cell_type": "code",
   "execution_count": 182,
   "id": "9347f2bd-d3fa-4e46-a44c-223dcc99c758",
   "metadata": {
    "tags": []
   },
   "outputs": [
    {
     "data": {
      "image/png": "[encoded data removed]",
      "text/plain": [
       "<Figure size 432x432 with 1 Axes>"
      ]
     },
     "metadata": {
      "needs_background": "light"
     },
     "output_type": "display_data"
    }
   ],
   "source": [
    "# import matplotlib.pyplot as plt\n",
    "# from sklearn.metrics import roc_curve, auc\n",
    "\n",
    "# # Compute ROC curve and AUC\n",
    "fpr1, tpr1, _ = roc_curve(test_y, y_proba_tuned_brf)\n",
    "# roc_auc = auc(fpr, tpr)\n",
    "\n",
    "# Plot\n",
    "plt.figure(figsize=(6, 6))\n",
    "plt.plot(fpr, tpr, lw=2, label=f'AUC for combined = {metrics.auc(fpr, tpr):.4f}')\n",
    "plt.plot(fpr1, tpr1, lw=2, label=f'AUC without reasoning  = {metrics.auc(fpr1, tpr1):.4f}')\n",
    "plt.plot(fpr2, tpr2, lw=2, label=f'AUC without reasoning, pred = {metrics.auc(fpr2, tpr2):.4f}')\n",
    "plt.plot(fpr3, tpr3, lw=2, label=f'AUC without demo, reasoning, pred = {metrics.auc(fpr3, tpr3):.4f}')\n",
    "\n",
    "plt.plot([0, 1], [0, 1], color='navy', lw=2, linestyle='--')  # Diagonal line (random guess)\n",
    "plt.xlim([0.0, 1.0])\n",
    "plt.ylim([0.0, 1.05])\n",
    "plt.xlabel('False Positive Rate')\n",
    "plt.ylabel('True Positive Rate')\n",
    "plt.title('ROC Curve')\n",
    "plt.legend(loc='lower right')\n",
    "plt.grid(True)\n",
    "plt.tight_layout()\n",
    "plt.show()\n"
   ]
  },
  {
   "cell_type": "code",
   "execution_count": 137,
   "id": "1aae8eea-ac3f-4643-bab4-1ec4d5e55bfd",
   "metadata": {
    "tags": []
   },
   "outputs": [
    {
     "data": {
      "image/png": "[encoded data removed]",
      "text/plain": [
       "<Figure size 864x720 with 1 Axes>"
      ]
     },
     "metadata": {},
     "output_type": "display_data"
    }
   ],
   "source": [
    "from sklearn.metrics import precision_recall_curve, auc\n",
    "import matplotlib.pyplot as plt\n",
    "precision, recall, _ = precision_recall_curve(test_y, y_proba_tuned_brf)\n",
    "plt.plot(recall, precision, label=f'AUPRC = {auc(recall, precision):.2f}')\n",
    "plt.xlabel('Recall'); plt.ylabel('Precision')\n",
    "plt.title('Precision-Recall Curve')\n",
    "plt.legend()\n",
    "plt.show()\n"
   ]
  },
  {
   "cell_type": "code",
   "execution_count": 26,
   "id": "6042db91-e655-4a89-9ccc-cf8da78b05ac",
   "metadata": {
    "tags": []
   },
   "outputs": [],
   "source": [
    "from sklearn.linear_model import LogisticRegression\n",
    "from sklearn.metrics import roc_auc_score, average_precision_score, classification_report, confusion_matrix\n",
    "from xgboost import XGBClassifier\n",
    "from lightgbm import LGBMClassifier\n",
    "import warnings\n",
    "warnings.filterwarnings(\"ignore\")  # Suppress convergence warnings\n"
   ]
  },
  {
   "cell_type": "code",
   "execution_count": 30,
   "id": "232f82e0-3225-442b-8169-9cc0fd114b44",
   "metadata": {
    "tags": []
   },
   "outputs": [
    {
     "name": "stdout",
     "output_type": "stream",
     "text": [
      "\n",
      "--- Logistic Regression ---\n",
      "ROC-AUC: 0.8640698513062554\n",
      "AUC-PRC: 0.5394651815046315\n",
      "              precision    recall  f1-score   support\n",
      "\n",
      "           0       1.00      0.00      0.01      2862\n",
      "           1       0.12      1.00      0.21       374\n",
      "\n",
      "    accuracy                           0.12      3236\n",
      "   macro avg       0.56      0.50      0.11      3236\n",
      "weighted avg       0.90      0.12      0.03      3236\n",
      "\n",
      "Confusion Matrix:\n",
      " [[   8 2854]\n",
      " [   0  374]]\n"
     ]
    }
   ],
   "source": [
    "lr = LogisticRegression(class_weight='balanced', max_iter=1000, solver='liblinear')\n",
    "lr.fit(train_X_, train_y)\n",
    "lr_proba = lr.predict_proba(test_X_)[:, 1]\n",
    "lr_pred = (lr_proba >= 0.2).astype(int)\n",
    "\n",
    "print(\"\\n--- Logistic Regression ---\")\n",
    "print(\"ROC-AUC:\", roc_auc_score(test_y, lr_proba))\n",
    "print(\"AUC-PRC:\", average_precision_score(test_y, lr_proba))\n",
    "print(classification_report(test_y, lr_pred))\n",
    "print(\"Confusion Matrix:\\n\", confusion_matrix(test_y, lr_pred))\n"
   ]
  },
  {
   "cell_type": "code",
   "execution_count": 202,
   "id": "7ad0a160-3003-4b7e-bf8b-b261810b5b8c",
   "metadata": {
    "tags": []
   },
   "outputs": [
    {
     "name": "stdout",
     "output_type": "stream",
     "text": [
      "\n",
      "--- XGBoost ---\n",
      "ROC-AUC: 0.8345422407575571\n",
      "AUC-PRC: 0.48659433327353135\n",
      "              precision    recall  f1-score   support\n",
      "\n",
      "           0       0.92      0.95      0.94      2862\n",
      "           1       0.52      0.38      0.44       374\n",
      "\n",
      "    accuracy                           0.89      3236\n",
      "   macro avg       0.72      0.67      0.69      3236\n",
      "weighted avg       0.88      0.89      0.88      3236\n",
      "\n",
      "Confusion Matrix:\n",
      " [[2733  129]\n",
      " [ 232  142]]\n"
     ]
    }
   ],
   "source": [
    "# Calculate imbalance ratio\n",
    "imbalance_ratio = (np.array(train_y) == 0).sum() *2 / (np.array(train_y) == 1).sum()\n",
    "\n",
    "xgb = XGBClassifier(use_label_encoder=False, eval_metric='logloss',\n",
    "                    scale_pos_weight=imbalance_ratio, random_state=42)\n",
    "xgb.fit(train_X, train_y)\n",
    "xgb_proba = xgb.predict_proba(test_X)[:, 1]\n",
    "xgb_pred = (xgb_proba >= 0.5).astype(int)\n",
    "\n",
    "print(\"\\n--- XGBoost ---\")\n",
    "print(\"ROC-AUC:\", roc_auc_score(test_y, xgb_proba))\n",
    "print(\"AUC-PRC:\", average_precision_score(test_y, xgb_proba))\n",
    "print(classification_report(test_y, xgb_pred))\n",
    "print(\"Confusion Matrix:\\n\", confusion_matrix(test_y, xgb_pred))\n"
   ]
  },
  {
   "cell_type": "code",
   "execution_count": 201,
   "id": "50d73e7c-d32b-4f4d-9c0b-097a96ee82d0",
   "metadata": {
    "tags": []
   },
   "outputs": [
    {
     "name": "stdout",
     "output_type": "stream",
     "text": [
      "[LightGBM] [Info] Number of positive: 2423, number of negative: 15480\n",
      "[LightGBM] [Info] Auto-choosing col-wise multi-threading, the overhead of testing was 0.052787 seconds.\n",
      "You can set `force_col_wise=true` to remove the overhead.\n",
      "[LightGBM] [Info] Total Bins 96093\n",
      "[LightGBM] [Info] Number of data points in the train set: 17903, number of used features: 699\n",
      "[LightGBM] [Info] [binary:BoostFromScore]: pavg=0.135340 -> initscore=-1.854542\n",
      "[LightGBM] [Info] Start training from score -1.854542\n",
      "\n",
      "--- LightGBM ---\n",
      "ROC-AUC: 0.8656561919602986\n",
      "AUC-PRC: 0.5336073214369879\n",
      "              precision    recall  f1-score   support\n",
      "\n",
      "           0       0.93      0.94      0.94      2862\n",
      "           1       0.51      0.48      0.49       374\n",
      "\n",
      "    accuracy                           0.89      3236\n",
      "   macro avg       0.72      0.71      0.72      3236\n",
      "weighted avg       0.88      0.89      0.88      3236\n",
      "\n",
      "Confusion Matrix:\n",
      " [[2688  174]\n",
      " [ 194  180]]\n"
     ]
    }
   ],
   "source": [
    "lgbm = LGBMClassifier(is_unbalance=True, random_state=42)\n",
    "lgbm.fit(train_X, train_y)\n",
    "lgbm_proba = lgbm.predict_proba(test_X)[:, 1]\n",
    "lgbm_pred = (lgbm_proba >= 0.5).astype(int)\n",
    "\n",
    "print(\"\\n--- LightGBM ---\")\n",
    "print(\"ROC-AUC:\", roc_auc_score(test_y, lgbm_proba))\n",
    "print(\"AUC-PRC:\", average_precision_score(test_y, lgbm_proba))\n",
    "print(classification_report(test_y, lgbm_pred))\n",
    "print(\"Confusion Matrix:\\n\", confusion_matrix(test_y, lgbm_pred))\n"
   ]
  },
  {
   "cell_type": "code",
   "execution_count": 29,
   "id": "caae0055-4d85-4965-b8a1-1f184b07cf87",
   "metadata": {
    "tags": []
   },
   "outputs": [],
   "source": [
    "# Assuming you have train_X, train_y, test_X, test_y as numpy arrays\n",
    "\n",
    "from imblearn.over_sampling import SMOTE # Ensure imblearn is installed: pip install imbalanced-learn\n",
    "\n",
    "# Apply SMOTE only to the training data\n",
    "smote = SMOTE(random_state=42)\n",
    "X_train_resampled, y_train_resampled = smote.fit_resample(train_X_, train_y)\n",
    "\n",
    "# Use resampled data for training\n",
    "X_train_ = torch.tensor(X_train_resampled, dtype=torch.float32)\n",
    "y_train_ = torch.tensor(y_train_resampled, dtype=torch.float32)\n",
    "\n",
    "# Keep test data as original for realistic evaluation\n",
    "X_test_ = torch.tensor(test_X_, dtype=torch.float32)\n",
    "y_test_ = torch.tensor(test_y, dtype=torch.float32)\n",
    "\n",
    "train_dataset = TensorDataset(X_train_, y_train_)\n",
    "test_dataset = TensorDataset(X_test_, y_test_)\n",
    "\n",
    "train_loader = DataLoader(train_dataset, batch_size=64, shuffle=True)\n",
    "test_loader = DataLoader(test_dataset, batch_size=64)\n",
    "\n",
    "\n",
    "# Modify your DeeperMLP to include Dropout\n",
    "class DeeperMLP(nn.Module):\n",
    "    def __init__(self, input_dim):\n",
    "        super().__init__()\n",
    "        self.net = nn.Sequential(\n",
    "            nn.Linear(input_dim, 256),\n",
    "            nn.ReLU(),\n",
    "            nn.Dropout(0.3), # Add Dropout\n",
    "            nn.Linear(256, 128),\n",
    "            nn.ReLU(),\n",
    "            nn.Dropout(0.3), # Add Dropout\n",
    "            nn.Linear(128, 64),\n",
    "            nn.ReLU(),\n",
    "            nn.Linear(64, 1)\n",
    "        )\n",
    "    def forward(self, x):\n",
    "        return self.net(x)\n",
    "\n",
    "# Rest of your training and evaluation code remains the same.\n",
    "# Keep FocalLoss with its current settings, or experiment with gamma."
   ]
  },
  {
   "cell_type": "code",
   "execution_count": 166,
   "id": "7f5f40b2-3766-4822-8707-ee03852842e6",
   "metadata": {
    "tags": []
   },
   "outputs": [
    {
     "data": {
      "text/plain": [
       "{'Best threshold': 0.18619236,\n",
       " 'min(+P, Se)': 0.47058823529411764,\n",
       " 'AUC-ROC': 0.8276185831679728,\n",
       " 'AUC-PRC': 0.46324612308246976,\n",
       " 'Classification Report': {'0': {'precision': 0.9308176100628931,\n",
       "   'recall': 0.9308176100628931,\n",
       "   'f1-score': 0.9308176100628931,\n",
       "   'support': 2862},\n",
       "  '1': {'precision': 0.47058823529411764,\n",
       "   'recall': 0.47058823529411764,\n",
       "   'f1-score': 0.47058823529411764,\n",
       "   'support': 374},\n",
       "  'accuracy': 0.8776266996291718,\n",
       "  'macro avg': {'precision': 0.7007029226785053,\n",
       "   'recall': 0.7007029226785053,\n",
       "   'f1-score': 0.7007029226785053,\n",
       "   'support': 3236},\n",
       "  'weighted avg': {'precision': 0.8776266996291718,\n",
       "   'recall': 0.8776266996291718,\n",
       "   'f1-score': 0.8776266996291718,\n",
       "   'support': 3236}},\n",
       " 'Confusion Matrix': [[2664, 198], [198, 176]]}"
      ]
     },
     "execution_count": 166,
     "metadata": {},
     "output_type": "execute_result"
    }
   ],
   "source": [
    "from xgboost import XGBClassifier\n",
    "from sklearn.metrics import (\n",
    "    classification_report,\n",
    "    roc_auc_score,\n",
    "    average_precision_score,\n",
    "    precision_recall_curve,\n",
    "    confusion_matrix,\n",
    ")\n",
    "import numpy as np\n",
    "\n",
    "# Assuming train_X, train_y, test_X, test_y already exist in the environment\n",
    "\n",
    "# Compute scale_pos_weight\n",
    "neg = np.sum(np.array(train_y) == 0)\n",
    "pos = np.sum(np.array(train_y) == 1)\n",
    "scale_pos_weight = neg / pos\n",
    "\n",
    "# Train XGBoost model\n",
    "xgb = XGBClassifier(\n",
    "    scale_pos_weight=scale_pos_weight,\n",
    "    use_label_encoder=False,\n",
    "    eval_metric=\"logloss\",\n",
    "    random_state=42\n",
    ")\n",
    "xgb.fit(train_X, train_y)\n",
    "\n",
    "# Predict probabilities\n",
    "probs = xgb.predict_proba(test_X)[:, 1]\n",
    "\n",
    "# Threshold tuning\n",
    "precisions, recalls, thresholds = precision_recall_curve(test_y, probs)\n",
    "minpse = np.minimum(precisions[:-1], recalls[:-1])\n",
    "best_idx = np.argmax(minpse)\n",
    "best_threshold = thresholds[best_idx]\n",
    "preds = (probs >= best_threshold).astype(int)\n",
    "\n",
    "# Metrics\n",
    "report = classification_report(test_y, preds, output_dict=True)\n",
    "auc_roc = roc_auc_score(test_y, probs)\n",
    "auc_prc = average_precision_score(test_y, probs)\n",
    "conf_matrix = confusion_matrix(test_y, preds)\n",
    "\n",
    "{\n",
    "    \"Best threshold\": best_threshold,\n",
    "    \"min(+P, Se)\": minpse[best_idx],\n",
    "    \"AUC-ROC\": auc_roc,\n",
    "    \"AUC-PRC\": auc_prc,\n",
    "    \"Classification Report\": report,\n",
    "    \"Confusion Matrix\": conf_matrix.tolist()\n",
    "}\n",
    "\n"
   ]
  },
  {
   "cell_type": "code",
   "execution_count": 58,
   "id": "09d3dd0e-e437-48ca-b3cb-5aa973d40142",
   "metadata": {
    "tags": []
   },
   "outputs": [
    {
     "name": "stdout",
     "output_type": "stream",
     "text": [
      "\n",
      "--- Isolation Forest ---\n",
      "Confusion Matrix:\n",
      "[[2621  241]\n",
      " [ 250  124]]\n",
      "Classification Report:\n",
      "              precision    recall  f1-score   support\n",
      "\n",
      "           0       0.91      0.92      0.91      2862\n",
      "           1       0.34      0.33      0.34       374\n",
      "\n",
      "    accuracy                           0.85      3236\n",
      "   macro avg       0.63      0.62      0.62      3236\n",
      "weighted avg       0.85      0.85      0.85      3236\n",
      "\n",
      "AUC-ROC: 0.6236719768906228\n",
      "AUC-PRC: 0.18989230833730014\n",
      "\n",
      "--- One-Class SVM ---\n",
      "Confusion Matrix:\n",
      "[[1454 1408]\n",
      " [ 110  264]]\n",
      "Classification Report:\n",
      "              precision    recall  f1-score   support\n",
      "\n",
      "           0       0.93      0.51      0.66      2862\n",
      "           1       0.16      0.71      0.26       374\n",
      "\n",
      "    accuracy                           0.53      3236\n",
      "   macro avg       0.54      0.61      0.46      3236\n",
      "weighted avg       0.84      0.53      0.61      3236\n",
      "\n",
      "AUC-ROC: 0.606959345583097\n",
      "AUC-PRC: 0.1454476917954743\n"
     ]
    }
   ],
   "source": [
    "from sklearn.ensemble import IsolationForest\n",
    "from sklearn.svm import OneClassSVM\n",
    "from sklearn.metrics import classification_report, confusion_matrix, roc_auc_score, average_precision_score\n",
    "import numpy as np\n",
    "\n",
    "# Prepare data\n",
    "X_train = train_X\n",
    "X_test = test_X\n",
    "y_test = test_y  # We’ll use this for evaluation\n",
    "\n",
    "# ------------------------------\n",
    "# Isolation Forest\n",
    "# ------------------------------\n",
    "print(\"\\n--- Isolation Forest ---\")\n",
    "# iso_forest = IsolationForest(n_estimators=100, contamination='auto', random_state=42)\n",
    "X_train_clean = train_X[train_y == 0]\n",
    "\n",
    "iso_forest = IsolationForest(n_estimators=100, contamination=0.1, random_state=42)\n",
    "iso_forest.fit(X_train_clean)\n",
    "\n",
    "# iso_forest.fit(X_train)\n",
    "\n",
    "# Predict: -1 = anomaly, 1 = normal\n",
    "y_pred_iso = iso_forest.predict(X_test)\n",
    "y_pred_iso = np.where(y_pred_iso == -1, 1, 0)  # Map anomalies to label 1\n",
    "\n",
    "print(\"Confusion Matrix:\")\n",
    "print(confusion_matrix(y_test, y_pred_iso))\n",
    "print(\"Classification Report:\")\n",
    "print(classification_report(y_test, y_pred_iso))\n",
    "print(\"AUC-ROC:\", roc_auc_score(y_test, y_pred_iso))\n",
    "print(\"AUC-PRC:\", average_precision_score(y_test, y_pred_iso))\n",
    "\n",
    "# ------------------------------\n",
    "# One-Class SVM\n",
    "# ------------------------------\n",
    "print(\"\\n--- One-Class SVM ---\")\n",
    "oc_svm = OneClassSVM(kernel='rbf', nu=0.05, gamma='scale')  # Adjust nu depending on anomaly fraction\n",
    "oc_svm.fit(X_train)\n",
    "\n",
    "# Predict: -1 = anomaly, 1 = normal\n",
    "y_pred_svm = oc_svm.predict(X_test)\n",
    "y_pred_svm = np.where(y_pred_svm == -1, 1, 0)\n",
    "\n",
    "print(\"Confusion Matrix:\")\n",
    "print(confusion_matrix(y_test, y_pred_svm))\n",
    "print(\"Classification Report:\")\n",
    "print(classification_report(y_test, y_pred_svm))\n",
    "print(\"AUC-ROC:\", roc_auc_score(y_test, y_pred_svm))\n",
    "print(\"AUC-PRC:\", average_precision_score(y_test, y_pred_svm))\n"
   ]
  },
  {
   "cell_type": "code",
   "execution_count": 68,
   "id": "b0e85794-1b71-4a4b-adc7-d9020c32e478",
   "metadata": {
    "tags": []
   },
   "outputs": [
    {
     "name": "stdout",
     "output_type": "stream",
     "text": [
      "Outliers in train set: 38 (True anomalies: 6)\n",
      "Outliers in test set: 2 (True anomalies: 0)\n",
      "Total detected anomalies (label==1): 6 out of 40\n"
     ]
    }
   ],
   "source": [
    "# These are your inputs\n",
    "split_point = len(train_y)\n",
    "outlier_indices = [53, 186, 232, 283, 448, 501, 508, 606, 653, 673, 796, 941, 1034, 1065, 1209, 1271, 1348,\n",
    "                   1376, 1614, 1656, 1741, 1854, 1904, 1914, 1932, 1945, 2340, 2426, 2590, 2706, 2806, 2961,\n",
    "                   2988, 3038, 3166, 3175, 3217, 3391, 4043, 4068]\n",
    "\n",
    "# Split indices\n",
    "outliers_in_train = [idx for idx in outlier_indices if idx < split_point]\n",
    "outliers_in_test = [idx - split_point for idx in outlier_indices if idx >= split_point]\n",
    "\n",
    "# Count how many are label 1\n",
    "train_anomalies = sum(train_y[i] == 1 for i in outliers_in_train)\n",
    "test_anomalies = sum(test_y[i] == 1 for i in outliers_in_test)\n",
    "\n",
    "print(f\"Outliers in train set: {len(outliers_in_train)} (True anomalies: {train_anomalies})\")\n",
    "print(f\"Outliers in test set: {len(outliers_in_test)} (True anomalies: {test_anomalies})\")\n",
    "print(f\"Total detected anomalies (label==1): {train_anomalies + test_anomalies} out of 40\")\n"
   ]
  },
  {
   "cell_type": "code",
   "execution_count": 240,
   "id": "b7758acb-7630-413a-91c3-e7f1801ad613",
   "metadata": {
    "tags": []
   },
   "outputs": [
    {
     "name": "stdout",
     "output_type": "stream",
     "text": [
      "Validation AUC: 0.9491, Accuracy: 0.9627\n",
      "Test AUC: 0.6611, Accuracy: 0.9567\n"
     ]
    }
   ],
   "source": [
    "from sklearn.neighbors import KNeighborsClassifier\n",
    "from sklearn.metrics import accuracy_score, roc_auc_score\n",
    "import numpy as np\n",
    "\n",
    "# Ensure your data is in numpy format\n",
    "X_train = np.array(train_X_)\n",
    "y_train = np.array(train_y)\n",
    "X_val = np.array(val_X_)\n",
    "y_val = np.array(val_y)\n",
    "X_test = np.array(test_X_)\n",
    "y_test = np.array(test_y)\n",
    "\n",
    "# Define and train the KNN model\n",
    "k = 5  # You can tune this later\n",
    "knn = KNeighborsClassifier(n_neighbors=k)\n",
    "knn.fit(X_train, y_train)\n",
    "\n",
    "# Evaluate on validation set\n",
    "val_preds = knn.predict_proba(X_val)[:, 1]\n",
    "val_preds_binary = (val_preds > 0.5).astype(int)\n",
    "val_auc = roc_auc_score(y_val, val_preds)\n",
    "val_acc = accuracy_score(y_val, val_preds_binary)\n",
    "\n",
    "# Evaluate on test set\n",
    "test_preds = knn.predict_proba(X_test)[:, 1]\n",
    "test_preds_binary = (test_preds > 0.5).astype(int)\n",
    "test_auc = roc_auc_score(y_test, test_preds)\n",
    "test_acc = accuracy_score(y_test, test_preds_binary)\n",
    "\n",
    "print(f\"Validation AUC: {val_auc:.4f}, Accuracy: {val_acc:.4f}\")\n",
    "print(f\"Test AUC: {test_auc:.4f}, Accuracy: {test_acc:.4f}\")\n"
   ]
  },
  {
   "cell_type": "code",
   "execution_count": 60,
   "id": "908ca354-f87d-4e20-b88e-43afb7388c68",
   "metadata": {
    "tags": []
   },
   "outputs": [],
   "source": [
    "import numpy as np\n",
    "import torch\n",
    "from torch.utils.data import TensorDataset, DataLoader\n",
    "from sklearn.utils import resample\n",
    "\n",
    "# Assuming train_X and train_y are NumPy arrays\n",
    "# Step 1: Separate majority and minority classes\n",
    "X_majority = np.array(train_X_)[np.array(train_y)==0]\n",
    "y_majority = np.array(train_y)[np.array(train_y) == 0]\n",
    "X_minority = np.array(train_X_)[np.array(train_y) == 1]\n",
    "y_minority = np.array(train_y)[np.array(train_y) == 1]\n",
    "\n",
    "# Step 2: Downsample majority class to match minority\n",
    "X_majority_downsampled, y_majority_downsampled = resample(\n",
    "    X_majority, y_majority,\n",
    "    replace=False,\n",
    "    n_samples=int(len(y_minority)*2),\n",
    "    random_state=42\n",
    ")\n",
    "\n",
    "# Step 3: Concatenate minority and downsampled majority\n",
    "X_balanced = np.vstack((X_majority_downsampled, X_minority))\n",
    "y_balanced = np.hstack((y_majority_downsampled, y_minority))\n",
    "\n",
    "# Step 4: Shuffle the combined dataset\n",
    "indices = np.random.permutation(len(y_balanced))\n",
    "X_balanced = X_balanced[indices]\n",
    "y_balanced = y_balanced[indices]\n",
    "\n",
    "# Step 5: Convert to PyTorch tensors and create DataLoader\n",
    "X_tensor = torch.tensor(X_balanced, dtype=torch.float32)\n",
    "y_tensor = torch.tensor(y_balanced, dtype=torch.float32)\n",
    "\n",
    "batch_size = 64  # or whatever you used before\n",
    "train_dataset = TensorDataset(X_tensor, y_tensor)\n",
    "train_loader = DataLoader(train_dataset, batch_size=batch_size, shuffle=True)\n",
    "\n",
    "# Now train_loader is ready to be used in training\n"
   ]
  },
  {
   "cell_type": "code",
   "execution_count": 61,
   "id": "784752ca-24e6-4ece-9431-8c7e2a67c533",
   "metadata": {
    "tags": []
   },
   "outputs": [
    {
     "name": "stdout",
     "output_type": "stream",
     "text": [
      "Epoch 1, Loss: 0.3918\n",
      "Epoch 2, Loss: 0.3157\n",
      "Epoch 3, Loss: 0.2813\n",
      "Epoch 4, Loss: 0.2640\n",
      "Epoch 5, Loss: 0.2373\n",
      "Epoch 6, Loss: 0.2122\n",
      "Epoch 7, Loss: 0.1979\n",
      "Epoch 8, Loss: 0.1762\n",
      "Epoch 9, Loss: 0.1614\n",
      "Epoch 10, Loss: 0.1465\n",
      "Epoch 11, Loss: 0.1409\n",
      "Epoch 12, Loss: 0.1181\n",
      "Epoch 13, Loss: 0.1313\n",
      "Epoch 14, Loss: 0.1148\n",
      "Epoch 15, Loss: 0.1025\n",
      "Epoch 16, Loss: 0.0851\n",
      "Epoch 17, Loss: 0.0967\n",
      "Epoch 18, Loss: 0.0851\n",
      "Epoch 19, Loss: 0.0890\n",
      "Epoch 20, Loss: 0.0870\n",
      "Epoch 21, Loss: 0.0721\n",
      "Epoch 22, Loss: 0.0823\n",
      "Epoch 23, Loss: 0.0772\n",
      "Epoch 24, Loss: 0.0711\n",
      "Epoch 25, Loss: 0.0706\n",
      "Epoch 26, Loss: 0.0759\n",
      "Epoch 27, Loss: 0.0654\n",
      "Epoch 28, Loss: 0.0625\n",
      "Epoch 29, Loss: 0.0600\n",
      "Epoch 30, Loss: 0.0576\n",
      "Epoch 31, Loss: 0.0685\n",
      "Epoch 32, Loss: 0.0609\n",
      "Epoch 33, Loss: 0.0563\n",
      "Epoch 34, Loss: 0.0495\n",
      "Epoch 35, Loss: 0.0519\n",
      "Epoch 36, Loss: 0.0612\n",
      "Epoch 37, Loss: 0.0534\n",
      "Epoch 38, Loss: 0.0536\n",
      "Epoch 39, Loss: 0.0485\n",
      "Epoch 40, Loss: 0.0458\n",
      "Epoch 41, Loss: 0.0669\n",
      "Epoch 42, Loss: 0.0523\n",
      "Epoch 43, Loss: 0.0561\n",
      "Epoch 44, Loss: 0.0466\n",
      "Epoch 45, Loss: 0.0470\n",
      "Epoch 46, Loss: 0.0459\n",
      "Epoch 47, Loss: 0.0456\n",
      "Epoch 48, Loss: 0.0403\n",
      "Epoch 49, Loss: 0.0455\n",
      "Epoch 50, Loss: 0.0404\n",
      "Epoch 51, Loss: 0.0471\n",
      "Epoch 52, Loss: 0.0384\n",
      "Epoch 53, Loss: 0.0425\n",
      "Epoch 54, Loss: 0.0374\n",
      "Epoch 55, Loss: 0.0383\n",
      "Epoch 56, Loss: 0.0388\n",
      "Epoch 57, Loss: 0.0391\n",
      "Epoch 58, Loss: 0.0397\n",
      "Epoch 59, Loss: 0.0376\n",
      "Epoch 60, Loss: 0.0437\n",
      "Epoch 61, Loss: 0.0367\n",
      "Epoch 62, Loss: 0.0382\n",
      "Epoch 63, Loss: 0.0411\n",
      "Epoch 64, Loss: 0.0393\n",
      "Epoch 65, Loss: 0.0384\n",
      "Epoch 66, Loss: 0.0386\n",
      "Epoch 67, Loss: 0.0314\n",
      "Epoch 68, Loss: 0.0362\n",
      "Epoch 69, Loss: 0.0343\n",
      "Epoch 70, Loss: 0.0312\n",
      "Epoch 71, Loss: 0.0473\n",
      "Epoch 72, Loss: 0.0382\n",
      "Epoch 73, Loss: 0.0408\n",
      "Epoch 74, Loss: 0.0345\n",
      "Epoch 75, Loss: 0.0486\n",
      "Epoch 76, Loss: 0.0378\n",
      "Epoch 77, Loss: 0.0316\n",
      "Epoch 78, Loss: 0.0335\n",
      "Epoch 79, Loss: 0.0363\n",
      "Epoch 80, Loss: 0.0299\n",
      "Epoch 81, Loss: 0.0340\n",
      "Epoch 82, Loss: 0.0375\n",
      "Epoch 83, Loss: 0.0313\n",
      "Epoch 84, Loss: 0.0482\n",
      "Epoch 85, Loss: 0.0338\n",
      "Epoch 86, Loss: 0.0334\n",
      "Epoch 87, Loss: 0.0318\n",
      "Epoch 88, Loss: 0.0334\n",
      "Epoch 89, Loss: 0.0340\n",
      "Epoch 90, Loss: 0.0279\n",
      "Epoch 91, Loss: 0.0302\n",
      "Epoch 92, Loss: 0.0402\n",
      "Epoch 93, Loss: 0.0319\n",
      "Epoch 94, Loss: 0.0360\n",
      "Epoch 95, Loss: 0.0311\n",
      "Epoch 96, Loss: 0.0270\n",
      "Epoch 97, Loss: 0.0440\n",
      "Epoch 98, Loss: 0.0307\n",
      "Epoch 99, Loss: 0.0246\n",
      "Epoch 100, Loss: 0.0302\n",
      "Validation AUC: 0.9912, Accuracy: 0.9349\n",
      "Test AUC: 0.7113, Accuracy: 0.1313\n"
     ]
    }
   ],
   "source": [
    "input_dim = train_X_.shape[1]\n",
    "hidden_dim = 128\n",
    "batch_size = 64\n",
    "epochs = 100\n",
    "lr = 5e-3\n",
    "device = torch.device('cuda' if torch.cuda.is_available() else 'cpu')\n",
    "\n",
    "\n",
    "val_dataset = TensorDataset(torch.tensor(val_X_, dtype=torch.float32),\n",
    "                            torch.tensor(val_y, dtype=torch.float32))\n",
    "test_dataset = TensorDataset(torch.tensor(test_X_, dtype=torch.float32),\n",
    "                             torch.tensor(test_y, dtype=torch.float32))\n",
    "\n",
    "\n",
    "val_loader = DataLoader(val_dataset, batch_size=batch_size)\n",
    "test_loader = DataLoader(test_dataset, batch_size=batch_size)\n",
    "\n",
    "# MLP Model\n",
    "class MLP(nn.Module):\n",
    "    def __init__(self, input_dim, hidden_dim):\n",
    "        super(MLP, self).__init__()\n",
    "        self.model = nn.Sequential(\n",
    "            nn.Linear(input_dim, hidden_dim),\n",
    "            nn.BatchNorm1d(hidden_dim),\n",
    "            nn.ReLU(),\n",
    "            nn.Dropout(0.4),\n",
    "            nn.Linear(hidden_dim, hidden_dim),\n",
    "            nn.BatchNorm1d(hidden_dim),\n",
    "            nn.ReLU(),\n",
    "            nn.Dropout(0.4),\n",
    "            nn.Linear(hidden_dim, 1),\n",
    "            nn.Sigmoid()\n",
    "        )\n",
    "\n",
    "    def forward(self, x):\n",
    "        return self.model(x)\n",
    "\n",
    "model = MLP(input_dim, hidden_dim).to(device)\n",
    "criterion = nn.BCELoss()\n",
    "optimizer = optim.Adam(model.parameters(), lr=lr)\n",
    "\n",
    "# Training Loop\n",
    "for epoch in range(epochs):\n",
    "    model.train()\n",
    "    total_loss = 0\n",
    "    for xb, yb in train_loader:\n",
    "        xb, yb = xb.to(device), yb.to(device).unsqueeze(1)\n",
    "        pred = model(xb)\n",
    "        loss = criterion(pred, yb)\n",
    "        optimizer.zero_grad()\n",
    "        loss.backward()\n",
    "        optimizer.step()\n",
    "        total_loss += loss.item()\n",
    "    print(f\"Epoch {epoch+1}, Loss: {total_loss/len(train_loader):.4f}\")\n",
    "\n",
    "# Evaluation\n",
    "def evaluate(loader):\n",
    "    model.eval()\n",
    "    preds = []\n",
    "    labels = []\n",
    "    with torch.no_grad():\n",
    "        for xb, yb in loader:\n",
    "            xb = xb.to(device)\n",
    "            pred = model(xb).cpu().numpy().flatten()\n",
    "            preds.extend(pred)\n",
    "            labels.extend(yb.numpy())\n",
    "    auc = roc_auc_score(labels, preds)\n",
    "    acc = accuracy_score(labels, [1 if p > 0.5 else 0 for p in preds])\n",
    "    return auc, acc, preds\n",
    "\n",
    "val_auc, val_acc, _ = evaluate(val_loader)\n",
    "test_auc, test_acc, test_preds = evaluate(test_loader)\n",
    "\n",
    "print(f\"Validation AUC: {val_auc:.4f}, Accuracy: {val_acc:.4f}\")\n",
    "print(f\"Test AUC: {test_auc:.4f}, Accuracy: {test_acc:.4f}\")\n"
   ]
  },
  {
   "cell_type": "code",
   "execution_count": 251,
   "id": "6c1507a1-182f-450d-8dcf-7019d631f05a",
   "metadata": {
    "tags": []
   },
   "outputs": [],
   "source": [
    "import torch\n",
    "import torch.nn as nn\n",
    "import torch.nn.functional as F\n",
    "\n",
    "class FocalLoss(nn.Module):\n",
    "    def __init__(self, alpha=0.25, gamma=2.0, reduction='mean'):\n",
    "        \"\"\"\n",
    "        alpha: weight for the positive class (float or tensor of size 1)\n",
    "        gamma: focusing parameter (higher → more focus on hard examples)\n",
    "        \"\"\"\n",
    "        super(FocalLoss, self).__init__()\n",
    "        self.alpha = alpha\n",
    "        self.gamma = gamma\n",
    "        self.reduction = reduction\n",
    "\n",
    "    def forward(self, logits, targets):\n",
    "        BCE_loss = F.binary_cross_entropy_with_logits(logits, targets, reduction='none')\n",
    "        probs = torch.sigmoid(logits)\n",
    "        pt = torch.where(targets == 1, probs, 1 - probs)\n",
    "        loss = self.alpha * (1 - pt) ** self.gamma * BCE_loss\n",
    "\n",
    "        if self.reduction == 'mean':\n",
    "            return loss.mean()\n",
    "        elif self.reduction == 'sum':\n",
    "            return loss.sum()\n",
    "        else:\n",
    "            return loss\n"
   ]
  }
 ],
 "metadata": {
  "kernelspec": {
   "display_name": "Python (env_pytorch)",
   "language": "python",
   "name": "env_pytorch"
  },
  "language_info": {
   "codemirror_mode": {
    "name": "ipython",
    "version": 3
   },
   "file_extension": ".py",
   "mimetype": "text/x-python",
   "name": "python",
   "nbconvert_exporter": "python",
   "pygments_lexer": "ipython3",
   "version": "3.9.19"
  }
 },
 "nbformat": 4,
 "nbformat_minor": 5
}
