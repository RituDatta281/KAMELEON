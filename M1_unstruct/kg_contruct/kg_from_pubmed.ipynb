{
 "cells": [
  {
   "cell_type": "code",
   "execution_count": 20,
   "id": "3f2ae89a-2353-48f4-a53c-76ac3ca62eb9",
   "metadata": {
    "tags": []
   },
   "outputs": [],
   "source": [
    "import json\n",
    "from typing import List, Set, Tuple\n",
    "from sklearn.feature_extraction.text import CountVectorizer\n",
    "from scipy.sparse import csr_matrix\n",
    "from urllib.request import urlopen\n",
    "from urllib.parse import urlencode\n",
    "import xml.etree.ElementTree as ET\n",
    "import time\n",
    "import re\n",
    "import os\n",
    "import sys\n",
    "from abstract_retriever import AbstractRetriever\n",
    "sys.path.append(\".\")\n",
    "from apis.gpt_api import get_gpt_response"
   ]
  },
  {
   "cell_type": "code",
   "execution_count": 21,
   "id": "c5c1c239-8f99-409a-9a33-f31e82acc581",
   "metadata": {
    "tags": []
   },
   "outputs": [
    {
     "name": "stderr",
     "output_type": "stream",
     "text": [
      "<All keys matched successfully>\n"
     ]
    }
   ],
   "source": [
    "SIMILARITY_THRESHOLD = 5\n",
    "\n",
    "db_file = \"pubmed_index/pubmed_data.db\"\n",
    "h5_file = \"pubmed_index/pubmed_embeddings.h5\"\n",
    "\n",
    "os.environ['CUDA_VISIBLE_DEVICES'] = '6'\n",
    "retriever = AbstractRetriever(h5_file, db_file, chunk_size=250000, use_cuda=True)"
   ]
  },
  {
   "cell_type": "code",
   "execution_count": 3,
   "id": "91c05ab5-d8d6-4e34-85e4-6ef565356a5e",
   "metadata": {
    "tags": []
   },
   "outputs": [],
   "source": [
    "def filter_similar_sets(concept_sets: List[Set[str]], similarity_threshold: int = 5) -> List[Set[str]]:\n",
    "    \"\"\"Filter out highly similar concept sets based on the concept multihot vector.\"\"\"\n",
    "    vectorizer = CountVectorizer(vocabulary=list(set(concept for concept_set in concept_sets for concept in concept_set)))\n",
    "    concept_vectors = vectorizer.transform([' '.join(concept_set) for concept_set in concept_sets])\n",
    "    filtered_sets = []\n",
    "    processed_indices = set()\n",
    "\n",
    "    for i, concept_set in enumerate(concept_sets):\n",
    "        if i not in processed_indices and len(concept_set) > 10:\n",
    "            similar_indices = [j for j, other_set in enumerate(concept_sets) if i != j and len(other_set) > 10 and\n",
    "                               len(concept_set.symmetric_difference(other_set)) < similarity_threshold]\n",
    "            filtered_sets.append(concept_set)\n",
    "            processed_indices.update(similar_indices)\n",
    "        elif i not in processed_indices:\n",
    "            filtered_sets.append(concept_set)\n",
    "\n",
    "    return filtered_sets"
   ]
  },
  {
   "cell_type": "code",
   "execution_count": 10,
   "id": "c75858c8-f246-49ac-8fb3-ead98aa17ced",
   "metadata": {
    "tags": []
   },
   "outputs": [],
   "source": [
    "def extract_relationships(text: str, concepts: List[str]) -> str:\n",
    "    \"\"\"Extract relationships from text using LLM.\"\"\"\n",
    "    example = \"\"\"Example:\n",
    "    Text:\n",
    "    Asthma is a chronic respiratory condition characterized by inflammation and narrowing of the airways, leading to breathing difficulties. Common symptoms include wheezing, coughing, shortness of breath, and chest tightness. Triggers can vary but often include allergens, air pollution, exercise, and respiratory infections. Management typically involves a combination of long-term control medications, such as inhaled corticosteroids, and quick-relief medications like short-acting beta-agonists. Recent research has focused on personalized treatment approaches, including biologics for severe asthma and the role of the microbiome in asthma development and progression. Proper inhaler technique and adherence to medication regimens are crucial for effective management. Asthma action plans, developed in partnership with healthcare providers, help patients manage symptoms and exacerbations.\n",
    "\n",
    "    Concepts: [asthma, inflammation, airways, wheezing, coughing, inhaled corticosteroids, short-acting beta-agonists, allergens, respiratory infections]\n",
    "\n",
    "    Extracted triples:\n",
    "    [[asthma, is a, chronic respiratory condition], [asthma, characterized by, inflammation of airways], [inflammation, causes, narrowing of airways], [narrowing of airways, leads to, breathing difficulties], [wheezing, is a symptom of, asthma], [coughing, is a symptom of, asthma], [allergens, can trigger, asthma], [respiratory infections, can trigger, asthma], [inhaled corticosteroids, used for, long-term control of asthma], [short-acting beta-agonists, provide, quick relief in asthma]]\n",
    "    \"\"\"\n",
    "\n",
    "    prompt = f\"\"\"Given a medical text and a list of important concepts, extract relevant relationships between the concepts from the text (if present). For each triple, if an entity matches one of the given concepts, replace the entity with the exact concept term.\n",
    "\n",
    "    Focus on generating high-quality triples closely related to the provided concepts. Aim to extract at most 10 triples for each text. Each triple should follow this format: [ENTITY1, RELATIONSHIP, ENTITY2]. Ensure the triples are informative and logically sound.\n",
    "\n",
    "    {example}\n",
    "\n",
    "    Text:\n",
    "    {text}\n",
    "\n",
    "    Concepts: {concepts}\n",
    "\n",
    "    Extracted triples:\n",
    "    \"\"\"\n",
    "    # print(f'{prompt=}')\n",
    "    # print(f'{concepts=}')\n",
    "    # print(f'{text=}')\n",
    "    # print(f'{concepts=}')\n",
    "\n",
    "    # print('DONE')\n",
    "    response = get_gpt_response(prompt=prompt)\n",
    "    # print('\\n\\n---------RESPONSE:-------',response)\n",
    "    return response"
   ]
  },
  {
   "cell_type": "code",
   "execution_count": 11,
   "id": "fdb00fe2-68b9-4509-96aa-1414fed33a88",
   "metadata": {
    "tags": []
   },
   "outputs": [],
   "source": [
    "def parse_triples(response: str, concept_set: Set[str]) -> List[Tuple[str, str, str]]:\n",
    "    \"\"\"Parse triples from LLM response.\"\"\"\n",
    "    pattern = r\"\\[(.*?)\\]\"\n",
    "    matches = re.findall(pattern, response)\n",
    "    \n",
    "    triples = []\n",
    "    for match in matches:\n",
    "        triple = match.split(', ')\n",
    "        if len(triple) == 3:\n",
    "            entity1, relation, entity2 = triple\n",
    "            entity1 = entity1.replace(\"[\", \"\").replace(\"]\", \"\")\n",
    "            entity2 = entity2.replace(\"[\", \"\").replace(\"]\", \"\")\n",
    "            triples.append((entity1, relation, entity2))\n",
    "    print(triples)\n",
    "    return triples"
   ]
  },
  {
   "cell_type": "code",
   "execution_count": 23,
   "id": "77c4a3c6-692c-46ce-8ed6-cf55d04f5bd5",
   "metadata": {
    "tags": []
   },
   "outputs": [],
   "source": [
    "# Load the all_visit_concepts from the JSON file\n",
    "with open(\"/kg_construct/all_visit_concepts_DN.json\", \"r\") as f:\n",
    "    all_visit_concepts = [set(visit) for visit in json.load(f)]\n",
    "\n",
    "if os.path.exists(f\"/project/biocomplexity/hht9zt/KARE/kg_construct/filtered_concept_sets_{SIMILARITY_THRESHOLD}_DN.json\"):\n",
    "    print(\"Loading filtered concept sets from file...\")\n",
    "    with open(f\"/project/biocomplexity/hht9zt/KARE/kg_construct/filtered_concept_sets_{SIMILARITY_THRESHOLD}_DN.json\", \"r\") as f:\n",
    "        filtered_concept_sets = json.load(f)\n",
    "else:\n",
    "    print(\"Filtering similar concept sets...\")\n",
    "    filtered_concept_sets = filter_similar_sets(all_visit_concepts)\n",
    "\n",
    "with open(f\"/project/biocomplexity/hht9zt/KARE/kg_construct/filtered_concept_sets_{SIMILARITY_THRESHOLD}_DN.json\", \"w\") as f:\n",
    "    json.dump([list(s) for s in filtered_concept_sets], f)\n",
    "\n",
    "# Filter out highly similar concept sets\n",
    "filtered_concept_sets = filter_similar_sets(all_visit_concepts)"
   ]
  },
  {
   "cell_type": "code",
   "execution_count": null,
   "id": "ba9d43f7-892c-441b-a450-4893c68f6ea6",
   "metadata": {
    "tags": []
   },
   "outputs": [
    {
     "name": "stdout",
     "output_type": "stream",
     "text": [
      "0\n"
     ]
    },
    {
     "name": "stderr",
     "output_type": "stream",
     "text": [
      "100%|██████████| 147/147 [08:14<00:00,  3.36s/it]\n"
     ]
    },
    {
     "name": "stdout",
     "output_type": "stream",
     "text": [
      "[('hydrogen ion concentration', 'affects', 'ulcerogenesis'), ('antacids', 'used for', 'prevention of stress ulcers'), ('H(2) receptor blocking agents', 'used for', 'treatment of stress ulcers'), ('acid', 'induces', 'gastric mucosal ulcerogenesis'), ('mucosal ischemia', 'contributes to', 'ulcerogenesis'), ('bile acid', 'induces', 'gastric mucosal ulcerogenesis'), ('H(2) receptor blocking agents', 'function as', 'prophylaxis against stress ulcer')]\n",
      "[('prednisone', 'used for', \"active Crohn's disease\"), ('sulfasalazine', 'used for', \"active Crohn's disease\"), ('azathioprine', 'tested for', \"Crohn's disease\"), ('patients with colonic involvement', 'responsive to', 'sulfasalazine'), ('patients with small bowel involvement', 'responsive to', 'prednisone'), ('drug therapy', 'affects', 'subsequent response'), (\"quiescent Crohn's disease\", 'not prevented by', 'prednisone'), (\"quiescent Crohn's disease\", 'not prevented by', 'sulfasalazine'), (\"quiescent Crohn's disease\", 'not prevented by', 'azathioprine'), ('clinical trial', 'used', 'placebo-controlled methods')]\n",
      "[('Prednisone', 'causes', 'side effects'), ('Prednisone', 'requires', 'dose reduction or withdrawal due to side effects'), ('Sulfasalazine', 'requires', 'dose reduction or withdrawal due to side effects'), ('Azathioprine', 'requires', 'dose reduction or withdrawal due to side effects'), ('Azathioprine', 'produced', 'leukopenia'), ('Sulfasalazine', 'is', \"safest effective suppressive drug for Crohn's disease\"), ('Prednisone toxicity', 'is acceptable in view of', 'suppressive efficacy'), ('Azathioprine', 'is', 'as toxic as prednisone'), ('Azathioprine', 'is', 'no more effective than placebo in suppressing active disease'), ('None of the drugs', 'was', 'effective prophylactically')]\n",
      "[('severe arterial hypertension', 'caused by', 'chronical abuse of topical mineralocorticoid'), ('woman', 'had', 'severe hypocalemic hypertension'), ('severe hypocalemic hypertension', 'associated with', 'latent myocardial insufficiency'), ('plasma renin activity', 'decreased due to', 'mineralocorticoid abuse'), ('plasma aldosterone concentration', 'decreased due to', 'mineralocorticoid abuse'), ('triamterene', 'had', 'hypotensive effect'), ('topical nasal drops', 'contained', 'ephedrine and naphazoline'), ('nine-alpha-fluoroprednisolone', 'was', 'potent mineralocorticoid'), ('long-standing elevated blood pressure', 'restored to normal by', 'low-sodium diet')]\n",
      "[('heparinoid', 'forms include', 'ointment'), ('heparinoid', 'forms include', 'gel'), ('highly dosed organo-heparinoid', 'well tolerated', 'patients'), ('local allergic cutaneous reaction', 'seen in', '1 patient'), ('efficiency of the product', 'denoted as', 'good for every indication tested')]\n",
      "1\n"
     ]
    },
    {
     "name": "stderr",
     "output_type": "stream",
     "text": [
      "100%|██████████| 147/147 [08:06<00:00,  3.31s/it]\n"
     ]
    },
    {
     "name": "stdout",
     "output_type": "stream",
     "text": [
      "[]\n",
      "[]\n",
      "[('renal carcinoma', 'diagnosis involves', 'intravenous urography'), ('renal carcinoma', 'diagnosis involves', 'sonography'), ('renal carcinoma', 'diagnosis involves', 'computer-tomography'), ('therapy', 'includes', 'radical nephrectomy'), ('radical nephrectomy', 'improves', '5-year survival rate'), ('extracorporeal surgery', 'used in', 'single kidney patients'), ('embolization', 'used for', 'therapeutic management in progressed renal carcinoma'), ('irradiation', 'does not improve', 'renal carcinoma survival'), ('cytostatic therapy', 'does not improve', 'renal carcinoma survival'), ('early diagnosis', 'is crucial due to', 'significance of symptoms')]\n",
      "[('phenacetin-containing analgesics', 'associated with', 'urorenal disorders'), ('increased intake of phenacetin-containing analgesics', 'leads to', 'higher incidence of raised serum-creatinine'), ('study group', 'comprised of', '623 employed Swiss women'), ('control group', 'showed', 'no intake of phenacetin-containing analgesics'), ('high intake subgroup', 'showed', 'incidence of raised serum-creatinine significantly higher than control group')]\n",
      "[('arterial infusional chemotherapy', 'used in', 'patients resistant to systemic chemotherapy'), ('malignant trophoblastic disease', 'characterized by', 'persistent malignant lesions'), ('arteriographic studies', 'used for', 'localization of persistent malignant lesions'), ('prominent uterine arteries', 'associated with', 'findings in arteriographic studies'), ('systemic chemotherapy', 'failed in', 'achieving remission in some patients'), ('tumor staining', 'observed in', 'arteriographic studies'), ('arterially infused chemotherapy', 'includes', 'methotrexate or actinomycin D')]\n",
      "2\n"
     ]
    },
    {
     "name": "stderr",
     "output_type": "stream",
     "text": [
      "100%|██████████| 147/147 [08:09<00:00,  3.33s/it]\n"
     ]
    },
    {
     "name": "stdout",
     "output_type": "stream",
     "text": [
      "[('respiratory insufficiency', 'derives from', 'chronic obstructive bronchopulmonary disease'), ('respiratory insufficiency', 'requires', 'intensive care'), ('intensive care', 'assists with', 'respiratory insufficiency'), ('pulmonary ventilators', 'are used for', 'respiration assistance'), ('bronchial obstruction', 'may require', 'correction'), ('respiratory insufficiency', 'assessed by', 'state of acid-base balance'), ('acidosis', 'may occur in', 'course of treatment'), ('mechanical devices', 'are part of', 'intensive care'), ('humoral balance', 'monitored during', 'treatment'), ('post-hypercapnic metabolic alkalosis', 'is a', 'iatrogenic disturbance')]\n",
      "[('aggressive treatment', 'advocated as', 'prophylaxis against stress ulcer'), ('severity of disease', 'determined by', 'concentration of intraluminal acid'), ('study', 'investigated', 'assumption about intraluminal acid concentration'), ('topical acid', 'combined with', 'bile acid and mucosal ischemia'), ('vascularized chambered ex vivo wedges', 'used for', 'study of gastric wall'), ('nonischemic mucosa', 'exposed to', 'constant TC'), ('mucosal blood flow', 'measured by', 'aminopyrine clearance'), ('lesion severity', 'function of', 'hydrogen ion concentration'), ('use of H(2) receptor blocking agents and/or antacids', 'supported by', 'study')]\n",
      "[]\n",
      "[('cyclophosphamide', 'is part of', 'COMB regimen'), ('vincristine', 'is part of', 'COMB regimen'), ('methyl CCNU', 'is part of', 'COMB regimen'), ('bleomycin', 'is part of', 'COMB regimen'), ('bleomycin', 'can cause', 'lung damage'), ('vincristine', 'can cause', 'neuropathy'), ('COMB regimen', 'has a higher response rate in', 'squamous lung or head and neck cancer'), ('COMB regimen', 'improves survival in', 'oat cell carcinoma'), ('myelosuppression', 'results in', 'hospitalization for antibiotics'), ('debilitation syndrome', 'is characterized by', 'weakness and anorexia')]\n",
      "[]\n",
      "3\n"
     ]
    },
    {
     "name": "stderr",
     "output_type": "stream",
     "text": [
      "100%|██████████| 147/147 [08:08<00:00,  3.33s/it]\n"
     ]
    },
    {
     "name": "stdout",
     "output_type": "stream",
     "text": [
      "[('medication', 'causes', 'adverse reactions'), ('adverse reactions', 'lead to', 'clinical deterioration'), ('antiarrhythmic therapy', 'is a part of', 'coronary care'), ('antiarrhythmic therapy', 'potential hazard for', 'elderly patient')]\n",
      "[('calcium', 'causes', 'underperfusion of LV subendocardium'), ('isoproterenol', 'causes', 'underperfusion of LV subendocardium'), ('calcium', 'decreases', 'ventricular volume'), ('isoproterenol', 'decreases', 'ventricular volume'), ('angiotensin', 'increases', 'resistance in the subepicardium'), ('angiotensin', 'increases', 'flow in the subendocardium'), ('calcium', 'restricts', 'flow in the subendocardium'), ('subepicardial vasodilation', 'causes', 'epicardial \"steal\"'), ('epicardial \"steal\"', 'contributes to', 'subendocardial ischemia')]\n",
      "[('secondary prevention', 'involves', 'medicamentous treatment'), ('myocardial infarction', 'associated with', 'disturbances of cardiac rhythm'), ('disturbances of cardiac rhythm', 'cause', 'high lethality in early phase'), ('uncomplicated infarctions', 'managed by', 'sedation of sympathico-adrenergic reactions'), ('volume reduction of the heart', 'applied to', 'uncomplicated infarctions'), ('glycosides', 'administered for', 'contraction insufficiency of left ventricle'), ('saluretics', 'administered for', 'contraction insufficiency of left ventricle'), ('antiarrhythmic therapy', 'initiated for', 'threatening disturbances of rhythm'), ('anticoagulants', 'prescribed in', 'post-infarction phase without complications'), ('basic therapy', 'involves', 'glycoside and anticoagulants')]\n",
      "[('patients with acute myocardial infarction', 'treated in', 'coronary care units'), ('patients', 'randomized into', 'two groups'), ('one group', 'received', 'urokinase'), ('second group', 'received', 'glucose infusion'), ('patients', 'anticoagulated with', 'heparin'), ('patients', 'treated with', 'oral anticoagulants'), ('urokinase group', 'showed', 'faster regression of electrocardiographic alterations'), ('urokinase treatment', 'showed no difference in', 'mortality'), ('urokinase treatment', 'showed no difference in', 'cardiac functional class')]\n",
      "[('coronary atherosclerosis', 'affects', 'histamine metabolism'), ('coronary atherosclerosis', 'associated with', 'increased histamine in blood'), ('stage I coronary atherosclerosis', 'associated with', 'increased diaminooxidase activity'), ('stage III coronary atherosclerosis', 'associated with', 'increased histidine decarboxylase activity'), ('histamine', 'elevated during', 'stenocardia attacks'), ('antihistamine preparations', 'increase', 'therapeutic efficiency of vasodilating drugs'), ('vasodilating drugs', 'decrease', 'stenocardia attacks')]\n",
      "4\n"
     ]
    },
    {
     "name": "stderr",
     "output_type": "stream",
     "text": [
      "100%|██████████| 147/147 [08:10<00:00,  3.34s/it]\n"
     ]
    },
    {
     "name": "stdout",
     "output_type": "stream",
     "text": [
      "[('H(2) receptor blocking agents', 'used for', 'prophylaxis against stress ulcer'), ('antacids', 'used for', 'treatment of stress ulcer'), ('antacids', 'used for', 'prophylaxis against stress ulcer'), ('hydrogen ion concentration', 'determines', 'severity of ulcerogenesis'), ('topical bile acid', 'used with', 'mucosal ischemia to induce ulcerogenesis')]\n",
      "[('hypertension', 'treated with', 'hydrochlorothiazide'), ('hypertension', 'treated with', 'nadolol'), ('hydrochlorothiazide', 'used in', 'stepped care approach for hypertension'), ('nadolol', 'combined with', 'hydrochlorothiazide'), ('hydrochlorothiazide', 'dose', '50 mg once daily'), ('nadolol', 'dose', '40-240 mg daily'), ('combined therapy with nadolol and HCT', 'provides', 'control of hypertension'), ('hypertension', 'requires', 'long-term treatment'), ('study', 'conducted at', 'Ain Shams Hospital'), ('hydrochlorothiazide monotherapy', 'fails to achieve', 'full control of supine diastolic blood pressure')]\n",
      "[('Prednisone', 'causes', 'evident side effects'), ('High-dose prednisone', 'leads to', 'dose reduction or withdrawal'), ('Azathioprine', 'causes', 'leukopenia'), ('Azathioprine', 'leads to', 'pancreatitis'), ('Prednisone', 'is effective in', \"suppressing Crohn's disease\"), ('Sulfasalazine', 'is effective for', \"suppressive drug for Crohn's disease\"), ('Azathioprine', 'is as toxic as', 'prednisone'), ('None of the drugs', 'is effective', 'prophylactically'), ('All drugs', 'show', 'long-term toxicity')]\n",
      "[('Bunitrolol', 'reduces', 'pulse rate increase during endoscopy'), ('Bunitrolol', 'reduces', 'systolic blood pressure increase during endoscopy'), ('premedication with beta blockers', 'helpful for', 'labile arterial hypertension'), ('premedication with beta blockers', 'useful for', 'vegetative dysregulation'), ('premedication with beta blockers', 'beneficial for', 'hyperkinetic heart syndrome'), ('Hyoscin-N-butyl-bromide and diazepam', 'used in', 'Group B for premedication'), ('endoscopy', 'affects', 'blood pressure'), ('endoscopy', 'affects', 'heart rate'), ('endoscopy', 'affects', 'plasma free fatty acid levels'), ('Group C', 'had', 'highest incidence of premature beats')]\n",
      "[('severe arterial hypertension', 'caused by', 'chronical abuse of a topical mineralocorticoid'), ('hypocalemic hypertension', 'presents with', 'latent myocardial insufficiency'), ('plasma renin activity', 'was', 'lowered'), ('plasma aldosterone concentration', 'was', 'lowered'), ('triamterene', 'induced', 'orthostatic phenomena'), ('nasal drops', 'contained', 'ephedrine and naphazoline'), ('nasal drops', 'contained', '9-alpha-fluoroprednisolone'), ('drug-dependence', 'related to', 'naphazoline component'), ('elevated blood pressure', 'restored by', 'stopping mineralocorticoid application')]\n",
      "5\n"
     ]
    },
    {
     "name": "stderr",
     "output_type": "stream",
     "text": [
      "100%|██████████| 147/147 [08:06<00:00,  3.31s/it]\n"
     ]
    },
    {
     "name": "stdout",
     "output_type": "stream",
     "text": [
      "[('drugs used in obstetrics', 'affect', 'carbohydrate metabolism'), ('administration of diuretics', 'can lead to', 'hyperglycemic reactions'), ('long acting thiazides', 'associated with', 'hyperglycemic reactions'), ('diazoxide', 'can cause', 'hyperglycemic reactions'), ('beta-adrenergic stimulants (tocolytics)', 'linked to', 'hyperglycemic reactions'), ('glucocorticoids', 'associated with', 'hyperglycemic reactions'), ('prolactin', 'can cause', 'hyperglycemic reactions'), ('acetylsalicylic acid', 'can lead to', 'hypoglycemic reactions'), ('presence of insulin with beta-adrenergic blockers', 'results in', 'hypoglycemic reactions'), ('guanethidine', 'acts as', 'inhibitor of sympathetic system')]\n",
      "[]\n",
      "[('gallbladder', 'disease includes', 'cholelithiasis'), ('gallbladder', 'disease includes', 'cholecystitis'), ('gallbladder', 'disease includes', 'cholecystectomy'), ('hyperlipoproteinaemia type IIa', 'observed in', 'women'), ('hyperlipoproteinaemia type IV', 'observed in', 'men'), ('type IIa', 'incidence of G.B.D', '13 per cent in males'), ('type IIa', 'incidence of G.B.D', '22 per cent in females'), ('type IV', 'incidence of G.B.D', '41 per cent in males'), ('type IV', 'incidence of G.B.D', '68 per cent in females'), ('G.B.D.', 'incidence is', 'abnormally high in type IV')]\n",
      "[(\"Gaucher's disease\", 'causes', 'accumulation of glucocerebroside in liver'), ('Niemann-Pick disease', 'causes', 'accumulation of sphingomyelin in liver'), (\"Fabry's disease\", 'leads to', 'increased urinary excretion of trihexosyl-ceramide'), ('Metachromatic leukodystrophy', 'causes', 'accumulation of sulfatides in nervous system'), ('Tay-Sachs disease', 'causes', 'cerebral accumulation of GM2-ganglioside'), ('GM1-gangliosidosis', 'causes', 'cerebral accumulation of GM1-ganglioside'), ('GM3-gangliosidosis', 'results in', 'neuronal accumulation of lactosyl-ceramide'), (\"Refsum's disease\", 'characterized by', 'phytanic acid esters of cholesterol in serum')]\n",
      "[('stones', 'located in', 'gallbladder'), ('stones', 'located in', 'biliary tree'), ('cholic acid', 'used for', 'gallstone dissolution'), ('lecithin', 'used for', 'gallstone dissolution'), ('cholic acid', 'administered as', 'oral treatment'), ('lecithin', 'administered as', 'oral treatment'), ('treatment', 'resulted in', 'stones disappearance'), ('treatment', 'reduced', 'stones size'), ('treatment', 'decreased', 'chenodeoxycholic acid concentration'), ('treatment', 'increased', 'biliary deoxycholic acid concentration')]\n",
      "6\n"
     ]
    },
    {
     "name": "stderr",
     "output_type": "stream",
     "text": [
      " 88%|████████▊ | 130/147 [07:09<00:58,  3.43s/it]"
     ]
    },
    {
     "name": "stdout",
     "output_type": "stream",
     "text": [
      "[('sequential estrogen-progestogen contraceptive', 'affects', 'carbohydrate metabolism'), ('sequential estrogen-progestogen contraceptive', 'shows effect on', 'oral glucose tolerance tests'), ('chlormadinone acetate', 'affects', 'oral glucose tolerance tests'), ('glucose', 'normal in', '160 women'), ('glucose', 'diabetic in', '16 women'), ('steroids', 'have a direct effect on', 'carbohydrate metabolism')]\n",
      "[('insulin', 'treats', 'diabetic ketoacidosis'), ('somatostatin', 'does not decrease', 'blood-ketone-bodies'), ('somatostatin', 'causes fall in', 'plasma-glucose concentrations'), ('insulin', 'causes fall in', 'plasma glucose'), ('insulin', 'causes fall in', 'blood-ketone-bodies'), ('diabetic ketoacidosis', 'associated with', 'type i diabetes'), ('plasma pancreatic glucagon', 'suppressed by', 'somatostatin'), ('somatostatin', 'does not affect', 'diabetic ketoacidosis'), ('insulin', 'causes fall in', 'plasma-free-fatty-acids'), ('insulin', 'causes fall in', 'plasma pancreatic glucagon')]\n",
      "7\n"
     ]
    },
    {
     "name": "stderr",
     "output_type": "stream",
     "text": [
      "100%|██████████| 147/147 [08:14<00:00,  3.36s/it]\n"
     ]
    },
    {
     "name": "stdout",
     "output_type": "stream",
     "text": [
      "[('pulmonary ventilators', 'assist', 'respiration'), ('iron lung', 'used in', 'intensive care'), ('intensive care', 'includes', 'monitoring of humoral balance'), ('acid-base imbalance', 'leads to', 'metabolic sequels'), ('bronchial obstruction', 'requires', 'correction'), ('mechanical devices', 'used in', 'intensive care'), ('intensive care', 'involves', 'staff training and teamwork'), ('respiratory insufficiency', 'assessed by', 'acid-base balance'), ('metabolic sequels', 'include', 'alkalosis or acidosis'), ('iatrogenic disturbances', 'include', 'post-hypercapnic metabolic alkalosis')]\n",
      "[('capsular polysaccharides', 'activate', 'alternative complement pathway'), ('alternative complement pathway', 'leads to', 'decomplementation of serum'), ('capsular polysaccharides', 'inhibit', 'opsonic activity of serum'), ('pneumococcal capsular polysaccharide', 'causes', 'opsonic defect for pneumococci'), ('serum', 'incubated with', 'S. pneumoniae or purified capsular polysaccharide'), ('hemolytic C3-9 complement activity', 'reduced', 'in serum after incubation'), ('amounts of capsular polysaccharide', 'found in', 'serum of pneumococcal disease patients'), ('S. pneumoniae', 'opsonized via', 'alternative pathway'), ('pneumococcal capsular polysaccharide', 'inhibits', 'opsonic capacity of normal serum')]\n",
      "[]\n",
      "[('total parenteral nutrition (TPN)', 'affects', 'liver function tests'), ('prolonged TPN', 'causes', 'alterations of liver function tests'), ('liver function tests', 'associated with', 'changes in serum enzymes activity'), ('hepatomegaly', 'sometimes co-occurs with', 'jaundice'), ('serum transaminases activity', 'includes', 'GOT and GPT'), ('cholestasis', 'indicated by', 'alkaline phosphatase and gamma-glutamyltranspeptidase'), ('energy metabolism', 'involves', 'lactate dehydrogenase and hydroxybutyrate dehydrogenase'), ('protein metabolism', 'related to', 'pseudocholinesterase'), ('critically ill patients', 'undergoing', 'total parenteral nutrition')]\n",
      "[]\n",
      "8\n"
     ]
    },
    {
     "name": "stderr",
     "output_type": "stream",
     "text": [
      "100%|██████████| 147/147 [08:19<00:00,  3.40s/it]\n"
     ]
    },
    {
     "name": "stdout",
     "output_type": "stream",
     "text": [
      "[('drugs used in obstetrics', 'affect', 'carbohydrate metabolism'), ('drugs used in obstetrics', 'affect', 'diabetic pregnancies'), ('diuretics', 'can cause', 'hyperglycemic reactions'), ('thiazides', 'associated with', 'long acting diuretics'), ('diazoxide', 'can cause', 'hyperglycemic reactions'), ('beta-adrenergic stimulants', 'also known as', 'tocolytics'), ('tocolytics', 'can cause', 'hyperglycemic reactions'), ('glucocorticoids', 'can cause', 'hyperglycemic reactions'), ('prolactin', 'can cause', 'hyperglycemic reactions'), ('acetylsalicylic acid', 'can cause', 'hypoglycemic reactions with high doses'), ('insulin', 'interaction with', 'beta-adrenergic blockers'), ('beta-adrenergic blockers', 'associated with', 'hypoglycemic reactions')]\n",
      "[('pancreatin', 'treatment for', 'pancreatic insufficiency'), ('cimetidine', 'provides relief from', 'steatorrhea'), ('pancreatin', 'helps alleviate', 'azotorrhea'), ('dietary fat reduction', 'may improve', 'nutritional status')]\n",
      "[('Prednisone', 'caused', 'side effects'), ('Prednisone', 'requires', 'dose reduction or withdrawal'), ('Sulfasalazine', 'caused', 'gastrointestinal symptoms'), ('Azathioprine', 'caused', 'leukopenia'), ('Azathioprine', 'resulted in', 'pancreatitis'), ('Sulfasalazine', 'is', \"safer drug for Crohn's disease\"), ('Prednisone', 'has', 'substantial toxicity'), ('Azathioprine', 'is', 'as toxic as prednisone'), ('None of the drugs', 'was', 'effective prophylactically'), ('All drugs', 'showed', 'long-term toxicity')]\n",
      "[]\n",
      "[('Patients', 'undertook', 'maxillofacial operations'), ('Spontavix', 'administered via', 'nasogastric tube'), ('Nausea', 'occurred in', '20% of patients'), ('Vomiting', 'occurred in', '20% of patients'), ('Diarrhea', 'occurred in', '20% of patients'), ('Abdominal pain', 'occurred in', '20% of patients'), ('Nausea', 'disappeared after', 'finishing nutrition with Spontavix'), ('Serum transaminases', 'showed increase', 'during Spontavix nutrition'), ('Increase in serum transaminases', 'believed to be caused by', 'general anesthesia')]\n",
      "9\n"
     ]
    },
    {
     "name": "stderr",
     "output_type": "stream",
     "text": [
      "100%|██████████| 147/147 [08:17<00:00,  3.39s/it]\n"
     ]
    },
    {
     "name": "stdout",
     "output_type": "stream",
     "text": [
      "[('diuretics', 'cause', 'hyperglycemic reactions'), ('diazoxide', 'cause', 'hyperglycemic reactions'), ('beta-adrenergic stimulants', 'cause', 'hyperglycemic reactions'), ('glucocorticoids', 'cause', 'hyperglycemic reactions'), ('prolactin', 'cause', 'hyperglycemic reactions'), ('acetylsalicylic acid', 'can cause', 'hypoglycemic reactions'), ('beta-adrenergic blockers', 'can cause', 'hypoglycemic reactions'), ('insulin', 'can cause', 'hypoglycemic reactions in presence of beta-adrenergic blockers'), ('guanethidine', 'is an', 'inhibitor of the sympathetic system'), ('drugs', 'affect', 'carbohydrate metabolism')]\n",
      "[]\n",
      "[]\n",
      "[]\n",
      "[]\n",
      "10\n"
     ]
    },
    {
     "name": "stderr",
     "output_type": "stream",
     "text": [
      "100%|██████████| 147/147 [08:19<00:00,  3.40s/it]\n"
     ]
    },
    {
     "name": "stdout",
     "output_type": "stream",
     "text": [
      "[('beta-adrenergic stimulants', 'cause', 'hyperglycemic reactions'), ('glucocorticoids', 'cause', 'hyperglycemic reactions'), ('prolactin', 'cause', 'hyperglycemic reactions'), ('acetylsalicylic acid', 'causes', 'hypoglycemic reactions'), ('insulin', 'interacts with', 'inhibitors of the sympathetic system'), ('diuretics', 'cause', 'hyperglycemic reactions'), ('obstetric drugs', 'affect', 'carbohydrate metabolism'), ('guanethidine', 'interacts with', 'insulin'), ('drugs', 'affect', 'diabetic pregnancies'), ('insulin', 'involved in', 'hypoglycemic reactions')]\n",
      "[('Prednisone', 'causes', 'side effects in patients'), ('High-dose prednisone', 'requires', 'dose reduction or withdrawal due to side effects'), ('Sulfasalazine', 'is', \"safest effective suppressive drug for Crohn's disease\"), ('Azathioprine', 'caused', 'leukopenia in 15% of patients'), ('Prednisone toxicity', 'is acceptable', 'due to suppressive efficacy'), ('Azathioprine', 'was not', 'more effective than placebo in suppressing active disease'), ('None of the drugs', 'was effective', 'prophylactically'), ('All drugs', 'showed', 'appreciable long-term toxicity')]\n",
      "[('Metabolic acidosis', 'associated with', 'anticonvulsant use'), ('Metabolic acidosis', 'results in', 'hypocalcemia'), ('Hypocalcemia', 'associated with', 'increased alkaline phosphatase'), ('Anticonvulsant drugs', 'seem to inactivate', 'carbonic anhydrase-B activity'), ('Metabolic acidosis', 'causes disturbance in', 'calcium metabolism')]\n",
      "[('9-alpha-fluoroprednisolone', 'found in', 'nasal drops'), ('nasal drops', 'contain', 'ephedrine'), ('nasal drops', 'contain', 'naphazoline'), ('use of nasal drops', 'led to', 'severe hypocalemic hypertension'), ('spironolactone', 'used in', 'combined therapy'), ('combined therapy', 'lowers', 'blood pressure'), ('naphazoline', 'associated with', 'drug-dependence'), ('mineralocorticoid', 'stopped', 'restore blood pressure to normal')]\n",
      "[('steroid anesthetics', 'induce', 'sleeping time in rats'), ('catatoxic compounds', 'reduce', 'effects of steroid anesthetics'), ('phenobarbital', 'effective on', 'hepatic microsomal drug metabolism'), ('diphenylhydantoin', 'effective on', 'hepatic microsomal drug metabolism'), ('triamcinolone', 'fails to', 'diminish anesthesia'), ('estradiol', 'fails to', 'diminish anesthesia'), ('progesterone', 'fails to', 'diminish anesthesia')]\n",
      "11\n"
     ]
    },
    {
     "name": "stderr",
     "output_type": "stream",
     "text": [
      "100%|██████████| 147/147 [08:20<00:00,  3.40s/it]\n"
     ]
    },
    {
     "name": "stdout",
     "output_type": "stream",
     "text": [
      "[('ENTITY1', 'RELATIONSHIP', 'ENTITY2'), ('H(2) receptor blocking agents', 'used for', 'treatment of \"stress ulcer\"'), ('antacids', 'used for', 'treatment of \"stress ulcer\"'), ('intraluminal acid', 'determines', 'severity of \"stress ulcer\"'), ('bile acid', 'induces', 'gastric mucosal ulcerogenesis'), ('vasopressin infusion', 'used with', 'topical solutions'), ('antacids', 'provide', 'prophylaxis against \"stress ulcer\"'), ('mucosal ischemia', 'induces', 'ulcerogenesis'), ('H(2) receptor blocking agents', 'provide', 'prophylaxis against \"stress ulcer\"'), ('sodium taurocholate', 'used in', 'ulcerogenesis model')]\n",
      "[('Exocrine pancreatic insufficiency', 'treated with', 'pancreatin'), ('Steatorrhea', 'not totally corrected by', 'pancreatin'), ('Steatorrhea', 'alleviated by', 'cimetidine'), ('Cimetidine', 'provides relief from', 'troublesome diarrhea'), ('Gastric pH', 'influences', 'effectiveness of pancreatin'), ('Nutritional status', 'maintained with', 'pancreatin and dietary adjustments'), ('Intraluminal studies', 'required for', 'persistent symptoms and steatorrhea'), ('Pancrease', 'effective in', 'acidic upper gastrointestinal conditions'), ('Patient', 'may require', 'two tablets of pancreatin hourly'), ('Cimetidine', 'added to', 'standard pancreatin treatment')]\n",
      "[]\n",
      "[('beta-blocking agents', 'used as', 'pre-endoscopic medication'), ('beta-blocking agents', 'useful for', 'labile arterial hypertension'), ('beta-blocking agents', 'useful for', 'vegetative dysregulation'), ('beta-blocking agents', 'useful for', 'hyperkinetic heart syndrome'), ('Group A', 'received', 'Bunitrolol'), ('Group B', 'received', 'Hyoscin-N-butyl-bromide and diazepam'), ('ECG', 'showed', 'drop in ST part in all groups'), ('premature beats', 'occurred more in', 'Group C than Group A'), ('plasma free fatty acids', 'increased in', 'Group B and C'), ('Group C', 'underwent', 'esophago-gastro-duodenoscopy without premedication')]\n",
      "[('woman', 'presents with', 'severe hypocalemic hypertension'), ('severe hypocalemic hypertension', 'treated with', 'spironolactone'), ('spironolactone', 'used with', 'methyldopa and clonidine'), ('blood pressure', 'lowered by', 'drug therapy'), ('blood pressure', 'not normalized by', 'drug therapy'), ('high doses of nasal drops', 'contained', 'mineralocorticoid 9-alpha-fluoroprednisolone'), ('drug-dependence', 'evaluated for', 'naphazoline component'), ('mineralocorticoid', 'application stopped', 'to restore blood pressure'), ('diet', 'added to', 'restore blood pressure'), ('ephedrine and naphazoline', 'present in', 'nasal drops')]\n",
      "12\n"
     ]
    },
    {
     "name": "stderr",
     "output_type": "stream",
     "text": [
      "100%|██████████| 147/147 [08:14<00:00,  3.37s/it]\n"
     ]
    },
    {
     "name": "stdout",
     "output_type": "stream",
     "text": [
      "[('cimetidine', 'used as', 'prophylaxis against stress ulcers'), ('stress ulcers', 'cause', 'morbidity and mortality'), ('critically ill patients', 'used for', 'cimetidine prophylaxis'), ('gastric pH level', 'should be', 'above 4'), ('positive blood cultures', 'associated with', 'failure of cimetidine treatment'), ('renal failure', 'developed in', 'some patients with cimetidine treatment failure'), ('mortality', 'increased in', 'patients whose conditions failed to respond to cimetidine'), ('high-risk group', 'identified by', 'non-response to cimetidine')]\n",
      "[('topical acid', 'induces', 'ulcerogenesis'), ('bile acid', 'induces', 'ulcerogenesis'), ('mucosal ischemia', 'induces', 'ulcerogenesis'), ('H(2) receptor blocking agents', 'are used for', 'prophylaxis against stress ulcer'), ('antacids', 'are used for', 'prophylaxis against stress ulcer'), ('severity of stress ulcer', 'is determined by', 'concentration of intraluminal acid'), ('net H(+) flux', 'increases as', 'linear function of H(+)'), ('lesion severity', 'is a linear function of', 'H(+)'), ('H(2) receptor blocking agents', 'prevent', 'stress ulcer'), ('antacids', 'prevent', 'stress ulcer')]\n",
      "[]\n",
      "[('Prednisone', 'causes', 'side effects'), ('Sulfasalazine', 'associated with', 'nausea'), ('Azathioprine', 'causes', 'leukopenia'), ('Azathioprine', 'results in', 'pancreatitis'), ('Prednisone', 'requires', 'dose reduction'), ('Sulfasalazine', 'proved to be', 'safest suppressive drug'), ('Prednisone', 'has', 'substantial toxicity'), ('Azathioprine', 'as toxic as', 'prednisone'), ('None of the drugs', 'effective for', 'prophylactic use')]\n",
      "[]\n",
      "13\n"
     ]
    },
    {
     "name": "stderr",
     "output_type": "stream",
     "text": [
      "100%|██████████| 147/147 [08:13<00:00,  3.36s/it]\n"
     ]
    },
    {
     "name": "stdout",
     "output_type": "stream",
     "text": [
      "[]\n",
      "[('Lower esophageal sphincter pressure', 'varies during', 'menstrual cycle'), ('Follicular phase', 'results in', 'higher LESP compared to luteal phase'), ('Luteal phase', 'associated with', 'lower LESP'), ('Estradiol levels', 'increase during', 'luteal phase'), ('Progesterone levels', 'increase during', 'luteal phase'), ('Acid reflux', 'more common in', 'luteal phase')]\n",
      "[('Prednisone', 'causes', 'side effects'), ('Sulfasalazine', 'causes', 'nausea'), ('Azathioprine', 'causes', 'leukopenia'), ('Leukopenia', 'results from', 'azathioprine'), ('Prednisone', 'requires', 'dose reduction'), ('Azathioprine', 'requires', 'dose reduction'), ('Sulfasalazine', 'considered as', 'safest suppressive drug'), ('Prednisone', 'effective for', 'suppressive therapy'), ('Azathioprine', 'not more effective than', 'placebo'), ('None of the drugs', 'effective for', 'prophylaxis')]\n",
      "[]\n",
      "[('severe arterial hypertension', 'caused by', 'chronic abuse of 9-alpha-fluoroprednisolone'), (\"patient's mother\", 'reported', 'consumption of high doses of nasal drops'), ('nasal drops', 'contain', 'ephedrine and naphazoline'), ('consumption', 'led to', 'drug-dependence to naphazoline'), ('application of mineralocorticoid', 'stopped', 'restoration of blood pressure to normal')]\n",
      "14\n"
     ]
    },
    {
     "name": "stderr",
     "output_type": "stream",
     "text": [
      "100%|██████████| 147/147 [08:12<00:00,  3.35s/it]\n"
     ]
    },
    {
     "name": "stdout",
     "output_type": "stream",
     "text": [
      "[('acute myocardial infarction', 'results in', 'non arrhythmogenic sudden death'), ('unstable angina pectoris', 'increases risk of', 'non arrhythmogenic sudden death'), ('cardiac rupture', 'is a cause of', 'non arrhythmogenic sudden death'), ('pump failure', 'leads to', 'non arrhythmogenic sudden death'), ('beta blocking agents', 'associated with', 'risk of pump failure'), ('unstable angina pectoris', 'treated with', 'beta blocking agents'), ('patients', 'should undergo', 'rapid coronary angiography'), ('bypass surgery', 'is recommended for', 'patients lacking responsiveness to beta blocking agents'), ('beta blocking agents', 'should be avoided in', 'non responsive patients'), ('non arrhythmogenic sudden death', 'occurs after', 'myocardial ischemia')]\n",
      "[('patients', 'undergoes', 'aorto-coronary bypass'), ('complications', 'includes', 'acute hypertensive episodes'), ('complications', 'includes', 'arrhythmias'), ('complications', 'includes', 'myocardial ischemia'), ('complications', 'includes', 'myocardial infarction'), ('degree of beta-blocker therapy', 'influences', 'myocardial protection'), ('continuation of beta-blocker therapy', 'important for', 'effective myocardial protection'), ('complications', 'studied in relation to', 'past history'), ('complications', 'studied in relation to', 'anaesthetic protocol'), ('complications', 'studied in relation to', 'period of extra-corporeal circulation')]\n",
      "[('acute hypertensive crises', 'are a', 'common complication'), ('acute hypertensive crises', 'occur in', 'postoperative phases'), ('inadequate neuroplegia', 'contributes to', 'hypertensive crises'), ('type of myocardial protection', 'relates to', 'other complications')]\n",
      "[('cardiopulmonary bypass', 'causes', 'subendocardial hemorrhagic necrosis'), ('transmural flow distribution', 'affected by', 'vascular resistance and myocardial compressive resistance'), ('cardiotonic drugs', 'change', 'transmural blood flow'), ('vasoactive drugs', 'change', 'transmural blood flow'), ('calcium', 'causes', 'underperfusion of LV subendocardium'), ('isoproterenol', 'causes', 'underperfusion of LV subendocardium'), ('angiotensin', 'increases', 'subendocardial flow'), ('epinephrine', 'causes', 'no consistent changes in transmural flow'), ('ouabain', 'causes', 'no consistent changes in transmural flow'), ('calcium and isoproterenol', 'decrease', 'ventricular volume')]\n",
      "[('myocardial infarction', 'requires', 'secondary prevention'), ('disturbances of cardiac rhythm', 'cause', 'high lethality in early phase'), ('sedation', 'needed for', 'sympathico-adrenergic reactions'), ('glycosides', 'administered for', 'contraction insufficiency of left ventricle'), ('saluretics', 'administered for', 'contraction insufficiency of left ventricle'), ('antiarrhythmic therapy', 'initiated for', 'disturbances of rhythm'), ('beta-sympathicolytics', 'used for', 'rhythm management'), ('anticoagulants', 'prescribed for', 'after-treatment of infarctions'), ('coronary heart disease', 'shows', 'signs of activity in post-infarction phase'), ('basic therapy with glycoside', 'necessary for', 'coronary heart disease in post-infarction phase')]\n",
      "15\n"
     ]
    },
    {
     "name": "stderr",
     "output_type": "stream",
     "text": [
      "100%|██████████| 147/147 [08:14<00:00,  3.36s/it]\n"
     ]
    },
    {
     "name": "stdout",
     "output_type": "stream",
     "text": [
      "[('\"SK&F 92657\"', '\"is a novel\"', '\"antihypertensive agent\"'), ('\"SK&F 92657\"', '\"causes\"', '\"fall in blood pressure\"'), ('\"precapillary vasodilatation\"', '\"leads to\"', '\"fall in blood pressure\"'), ('\"SK&F 92657\"', '\"acts by\"', '\"beta-adrenoreceptor blocking\"'), ('\"beta blocking agents\"', '\"prevent\"', '\"reflex cardiac stimulation\"')]\n",
      "[('calcium', 'causes', 'underperfusion of LV subendocardium'), ('isoproterenol', 'causes', 'underperfusion of LV subendocardium'), ('calcium', 'decreases', 'ventricular volume'), ('isoproterenol', 'decreases', 'ventricular volume'), ('angiotensin', 'increases', 'flow in subendocardium'), ('angiotensin', 'causes', 'no change in ventricular volume'), ('vasodilation', 'contributes to', 'subendocardial ischemia'), ('subendocardial ischemia', 'is caused by', 'epicardial \"steal\"'), ('increased compressive resistance', 'restricts', 'flow in subendocardium'), ('transmural flow distribution', 'is affected by', 'vascular resistance')]\n",
      "[('malignant trophoblastic disease', 'treated with', 'systemic chemotherapy'), ('patients', 'fail to achieve', 'remission with systemic chemotherapy'), ('arteriographic studies', 'used for', 'localization of persistent malignant lesions'), ('arterial infusional chemotherapy', 'used after', 'failure of systemic methotrexate'), ('arterial infusional chemotherapy', 'used with', 'methotrexate or actinomycin D'), ('arteriographic studies', 'show', 'high correlation of positive findings'), ('persistent malignant disease', 'detected by', 'pelvic arteriograms'), ('prominent uterine arteries', 'found in', 'arteriographic studies'), ('tumor staining', 'found within', 'tumor'), ('arterially infused chemotherapy', 'used in', 'disease resistant to systemic chemotherapy')]\n",
      "[('anemia', 'presented as', 'refractory hypochromic microcytic anemia'), ('anemia', 'associated with', 'hypoferremia'), ('anemia', 'associated with', 'normoblastic hyperplastic bone marrow'), ('anemia', 'associated with', 'hypergammaglobulinemia'), ('hyperplastic angiofollicular lymph node', 'secreted', 'substance inhibiting erythropoiesis'), ('administration', 'resulted in', 'increased iron absorption'), ('nodal mass removal', 'led to', 'correction of anemia'), ('nodal mass', 'identified as', 'plasma-cell variant of angiofollicular hyperplasia'), ('operation', 'resulted in', 'normal serum gamma-globulin levels')]\n",
      "[]\n",
      "16\n"
     ]
    },
    {
     "name": "stderr",
     "output_type": "stream",
     "text": [
      "100%|██████████| 147/147 [08:17<00:00,  3.38s/it]\n"
     ]
    },
    {
     "name": "stdout",
     "output_type": "stream",
     "text": [
      "[('bunitrolol', 'normalizes', 'myocardial lactate extraction ratio'), ('beta-blocker action', 'reduces', 'arterial non-esterified fatty acids (NEFA) level'), ('beta-blockers', 'reduce', 'myocardial NEFA extraction'), ('bunitrolol', 'suggests effectiveness in', 'treatment of ischemic heart disease')]\n",
      "[]\n",
      "[('calcium', 'decreases', 'ventricular volume'), ('isoproterenol', 'decreases', 'ventricular volume'), ('angiotensin', 'increases', 'subendocardial flow'), ('calcium', 'causes', 'subendocardial ischemia'), ('isoproterenol', 'causes', 'subendocardial ischemia'), ('drugs', 'affect', 'transmural flow distribution'), ('calcium', 'with or without', 'ATP-induced vasodilation'), ('angiotensin', 'increases', 'resistance in subepicardium'), ('calcium', 'produced', 'underperfusion of LV subendocardium'), ('subepicardial vasodilation', 'causes', 'epicardial \"steal\"')]\n",
      "[('COMB', 'contains', 'cyclophosphamide'), ('COMB', 'contains', 'oncovin (vincristine)'), ('COMB', 'contains', 'methyl CCNU'), ('COMB', 'contains', 'bleomycin'), ('patients', 'experienced', 'partial response'), ('bleomycin', 'causes', 'lung damage'), ('vincristine', 'causes', 'neuropathy'), ('neuropathy', 'limits', 'dose of vincristine'), ('COMB', 'used in', 'squamous lung cancer'), ('COMB', 'used in', 'oat cell carcinoma')]\n",
      "[('patients', 'treated with', 'oral Estracyt'), ('oral Estracyt', 'achieves', 'remissions'), ('remissions', 'objectively demonstrable in', 'eight patients'), ('oral Estracyt', 'causes', 'gastrointestinal disorders'), ('gastrointestinal disorders', 'amenable to', 'anti-emetic treatment')]\n",
      "17\n"
     ]
    },
    {
     "name": "stderr",
     "output_type": "stream",
     "text": [
      "100%|██████████| 147/147 [08:15<00:00,  3.37s/it]\n"
     ]
    },
    {
     "name": "stdout",
     "output_type": "stream",
     "text": [
      "[('hydrogen ion concentration', 'influences', 'bile acid induced acute gastric mucosal ulcerogenesis'), ('antacids', 'used for', 'prophylaxis against stress ulcers'), ('H(2) receptor blocking agents', 'used for', 'treatment of stress ulcer'), ('concentration of intraluminal acid', 'critically determines', 'severity of gastric mucosal ulcerogenesis'), ('topical bile acid', 'used in', 'model to induce ulcerogenesis'), ('mucosal ischemia', 'employed in', 'model to induce ulcerogenesis'), ('antacids', 'prevent', 'stress ulcer disease'), ('H(2) receptor blocking agents', 'prevent', 'stress ulcer disease'), ('lesion severity', 'is a function of', 'concentration of hydrogen ions'), ('model studies', 'provide support for', 'use of antacids')]\n",
      "[('bunitrolol', 'is a', 'beta-blocking agent'), ('angina', 'induced by', 'catecholamine infusion'), ('bunitrolol', 'effective in', 'normalizing myocardial lactate extraction ratio'), ('beta-blocker action', 'reduces', 'arterial non-esterified fatty acids level'), ('beta-blocker action', 'reduces', 'myocardial non-esterified fatty acids extraction'), ('bunitrolol', 'suggests effectiveness in', 'ischemic heart disease')]\n",
      "[('acute myocardial infarction', 'leads to', 'cardiac rupture or pump failure'), ('acute myocardial infarction', 'is treated with', 'beta blocker therapy'), ('coronary artery disease', 'associated with', 'unstable angina pectoris'), ('unstable angina pectoris', 'can lead to', 'pump failure'), ('pump failure', 'is a complication of', 'acute myocardial infarction'), ('coronary angiography', 'recommended for', 'patients unresponsive to beta blocker therapy')]\n",
      "[('cardiotonic drugs', 'affect', 'transmural flow distribution'), ('vasoactive drugs', 'influence', 'ventricular volume'), ('transmural flow distribution', 'involves', 'vascular resistance'), ('cardiotonic drugs', 'administered in', 'fibrillating heart'), ('vasodilators used in cardiac diseases', 'include', 'isoproterenol'), ('calcium', 'caused', 'underperfusion of LV subendocardium'), ('angiotensin', 'increased', 'subendocardial flow'), ('increased compressive resistance', 'restricts', 'subendocardial flow'), ('subepicardial vasodilation', 'contributes to', 'subendocardial ischemia')]\n",
      "[('patients', 'treated with', 'acute myocardial infarction'), ('acute myocardial infarction patients', 'treated with', 'urokinase'), ('acute myocardial infarction patients', 'treated with', 'glucose infusion'), ('patients', 'received', 'anticoagulation with heparin'), ('urokinase', 'compared to', 'glucose infusion'), ('regression of electrocardiographic alterations', 'faster in', 'urokinase group'), ('urokinase group', 'no difference in', 'mortality compared to glucose infusion group'), ('urokinase group', 'no difference in', 'cardiac functional class compared to glucose infusion group'), ('patients', 'randomized into', 'two groups'), ('treatment', 'followed by', 'anticoagulation with oral anticoagulants')]\n",
      "18\n"
     ]
    },
    {
     "name": "stderr",
     "output_type": "stream",
     "text": [
      "100%|██████████| 147/147 [08:13<00:00,  3.36s/it]\n"
     ]
    },
    {
     "name": "stdout",
     "output_type": "stream",
     "text": [
      "[('Salicylazosulfapyridine', 'therapy leads to', 'Hemolysis in some patients'), (\"Patients with ulcerative colitis or Crohn's disease\", 'treated with', 'Salicylazosulfapyridine'), ('High serum levels of free sulfapyridine', 'associated with', 'Presence of hemolysis'), ('Free sulfapyridine levels above 37 microgram/ml', 'correlates with', 'Occurrence of hemolysis in patients'), ('Four patients with free sulfapyridine levels above 55 microgram/ml', 'experienced', 'Hemolytic anemia'), ('Eighteen of the 19 patients with hemolysis', 'identified as', 'Slow acetylators'), ('Six of 17 patients without hemolysis', 'belong to', 'Slow acetylator phenotype')]\n",
      "[('exocrine pancreatic insufficiency', 'treated with', 'pancreatin'), ('pancreatin', 'used with', 'meals consisting of 25 g of fat'), ('steatorrhea', 'not totally corrected by', 'pancreatin treatment'), ('cimetidine', 'added to', 'pancreatin treatment'), ('cimetidine', 'provides relief from', 'steatorrhea'), ('altering dosage schedule', 'may alleviate', 'steatorrhea'), ('Pancrease', 'effective in patients with', 'acidic upper gastrointestinal tract'), ('intraluminal studies', 'performed in', 'difficult cases of steatorrhea')]\n",
      "[('Prednisone', 'causes', 'side effects in over 50% of patients'), ('Prednisone', 'required', 'dose reduction or withdrawal'), ('Sulfasalazine', 'causes', 'nausea and vomiting'), ('Azathioprine', 'causes', 'leukopenia'), ('Azathioprine', 'associated with', 'pancreatitis'), ('Sulfasalazine', 'proved to be', \"safest effective suppressive drug for Crohn's disease\"), ('Prednisone', 'has', 'substantial toxicity'), ('Azathioprine', 'as toxic as', 'Prednisone'), ('None of the drugs', 'was', 'effective prophylactically'), ('All drugs', 'showed', 'appreciable long-term toxicity')]\n",
      "[('postoperative', 'involves', 'maxillofacial surgery'), ('postoperative', 'requires', 'nasogastric tube feeding'), ('patient', 'received', 'Spontavix'), ('Spontavix', 'administered via', 'nasogastric tube'), ('nausea', 'occurred in', '20% of the patients'), ('vomiting', 'occurred in', '20% of the patients'), ('diarrhea', 'occurred in', '20% of the patients'), ('abdominal pain', 'occurred in', '20% of the patients'), ('serum transaminases', 'showed increase during', 'nutrition with Spontavix'), ('increase in serum transaminases', 'believed to be caused by', 'general anesthesia')]\n",
      "[('cefaclor', 'used in', 'treatment of pneumonia'), ('cefaclor', 'used in', 'treatment of urinary tract infections'), ('pneumonia', 'cured by', 'cefaclor'), ('patients', 'treated with', 'cefaclor'), ('treatment', 'lasted', '7 to 11 days'), ('laboratory examinations', 'performed', 'during and after treatment')]\n",
      "19\n"
     ]
    },
    {
     "name": "stderr",
     "output_type": "stream",
     "text": [
      "100%|██████████| 147/147 [08:49<00:00,  3.60s/it]\n"
     ]
    },
    {
     "name": "stdout",
     "output_type": "stream",
     "text": [
      "[('respiratory rate', 'changes with', 'respiratory insufficiency'), ('respiratory distress', 'caused by', 'bronchial obstruction'), ('electrolytes', 'important for', 'acid-base balance'), ('acid-base balance', 'affects', 'severity of respiratory insufficiency'), ('lungs', 'assisted by', 'pulmonary ventilators'), ('blood', 'assessed for', 'oxemia'), ('mechanical devices', 'monitor', 'humoral balance'), ('lungs', 'can develop', 'reventilation syndrome'), ('acid-base imbalance', 'causes', 'metabolic alkalosis'), ('iatrogenic disturbances', 'can include', 'post-hypercapnic metabolic alkalosis')]\n",
      "[('cimetidine', 'used as', 'prophylaxis against stress ulcers'), ('stress ulcers', 'cause', 'morbidity and mortality'), ('cimetidine', 'fails to maintain', 'gastric pH above 4'), ('positive blood cultures', 'associated with', 'infection'), ('patients', 'may not respond to', 'cimetidine'), ('gastric pH', 'must be', 'regularly monitored'), ('renal failure', 'develops in', 'some patients on cimetidine'), ('mortality', 'higher in', 'patients not responding to cimetidine')]\n",
      "[]\n",
      "[('hypertension', 'treated by', 'sodium nitroprussiate'), ('hypertension', 'treated by', 'halothane'), ('hypertension', 'treated by', 'enflurane'), ('sodium nitroprussiate', 'protects against', 'ischaemia'), ('morphine anesthesia', 'does not affect', 'EVR'), ('hypertension', 'decreases', 'EVR during sternotomy'), ('tachycardia', 'does not modify', 'EVR'), ('extra-corporeal circulation', 'improves', 'endocardial viability ratio'), ('mean arterial pressure', 'increases during', 'surgical stimulation'), ('sodium nitroprussiate', 'rapidly increases', 'EVR')]\n",
      "[('cardiotonic drugs', 'affect', 'ventricular volume'), ('vasoactive drugs', 'affect', 'transmural flow distribution'), ('calcium', 'decreases', 'ventricular volume'), ('isoproterenol', 'decreases', 'ventricular volume'), ('angiotensin', 'increases', 'subendocardial flow'), ('calcium', 'causes', 'underperfusion of LV subendocardium'), ('isoproterenol', 'causes', 'underperfusion of LV subendocardium'), ('angiotensin', 'increases', 'resistance in the subepicardium'), ('epinephrine', 'causes', 'no consistent changes in transmural flow'), ('ouabain', 'causes', 'no consistent changes in transmural flow')]\n",
      "20\n"
     ]
    },
    {
     "name": "stderr",
     "output_type": "stream",
     "text": [
      "100%|██████████| 147/147 [08:48<00:00,  3.60s/it]\n"
     ]
    },
    {
     "name": "stdout",
     "output_type": "stream",
     "text": [
      "[('respiratory distress', 'managed by', 'pulmonary ventilators'), ('respiratory insufficiency', 'monitors', 'acid-base balance'), ('treatment', 'can cause', 'metabolic sequelae'), ('intensive care', 'aims to correct', 'bronchial obstruction'), ('metabolic alkalosis', 'can result from', 'post-hypercapnic state'), ('respiratory insufficiency', 'assessed by', 'state of coma'), ('intensive care', 'utilizes', 'mechanical devices'), ('iatrogenic disturbances', 'include', 'reventilation syndrome'), ('equipment', 'essential for', 'monitoring humoral balance'), ('circulatory compensation', 'indicates', 'severity of respiratory insufficiency')]\n",
      "[('antacids', 'are used for', 'prophylaxis against stress ulcer')]\n",
      "[('spironolactone', 'discussed at', '12th Reichenhall Colloquium'), ('spironolactone', 'related to', 'respiratory insufficiency')]\n",
      "[('fenspiride', 'administered to', 'chronic bronchopneumopathic subjects'), ('fenspiride', 'improves', 'VC (Vital Capacity)'), ('fenspiride', 'improves', 'FEV1 (Forced Expiratory Volume in 1 second)'), ('fenspiride', 'improves', 'RV (Residual Volume)'), ('fenspiride', 'has', 'anti-inflammatory effect'), ('fenspiride', 'has', 'antibronchospastic action'), ('fenspiride', 'administered as', 'oral'), ('fenspiride', 'administered as', 'intramuscular (i.m.)'), ('fenspiride', 'exhibits', 'excellent clinical tolerance')]\n",
      "[('chronic obstructive lung disease', 'is a', 'type of chronic respiratory insufficiency'), ('blood gas analysis', 'is indispensable for', 'chronic respiratory insufficiency evaluation'), ('selective beta-agonists', 'used in', 'main therapy for chronic respiratory insufficiency'), ('inhaled steroids', 'preferred for', 'long-term administration of steroids'), ('antibiotics', 'recommended for', 'treatment of chronic respiratory insufficiency'), ('diuretics', 'ideally suited for', 'treatment of cardiac insufficiency'), ('physiotherapy', 'provides', 'psychological assistance and support'), ('inhalation therapy', 'advantageous due to', 'milder systemic side-effects'), ('regular monthly controls', 'help in', 'adjusting therapy to individual needs'), ('spirometric test', 'provides', 'sufficient parameters to evaluate current status')]\n",
      "21\n"
     ]
    },
    {
     "name": "stderr",
     "output_type": "stream",
     "text": [
      "100%|██████████| 147/147 [08:51<00:00,  3.61s/it]\n"
     ]
    },
    {
     "name": "stdout",
     "output_type": "stream",
     "text": [
      "[('chronic obstructive bronchopulmonary disease', 'leads to', 'respiratory insufficiency'), ('bronchial obstruction', 'requires', 'correction'), ('pulmonary ventilators', 'assist', 'respiration'), ('intensive care', 'involves', 'mechanical devices'), ('metabolic sequels', 'include', 'alkalosis or acidosis'), ('iatrogenic disturbances', 'include', 'reventilation syndrome')]\n",
      "[('chronic hypoxemia', 'treated with', 'new analeptic drug (vectarion)'), ('chronic hypercapnia', 'related to', \"patient's mental status\"), ('functional evaluation', 'involves', 'new analeptic drug (vectarion)'), ('new analeptic drug (vectarion)', 'targets', 'chronic hypoxemia'), ('new analeptic drug (vectarion)', 'targets', 'chronic hypercapnia')]\n",
      "[('cardiac surgery', 'involves', 'aorto-coronary grafts'), ('morphine', 'used in', 'general anesthesia'), ('morphine anesthesia', 'did not affect', 'EVR'), ('mean arterial pressure', 'showed', 'significant increase at time of surgical stimulation'), ('EVR', 'fell during', 'sternotomy in patients with hypertension'), ('sodium nitroprussiate', 'better treated', 'hypertension'), ('hypertension', 'treated with', 'sodium nitroprussiate'), ('sodium nitroprussiate', 'improves', 'protection of sub-endocardial layer against ischemia'), ('endocardial viability ratio', 'improved after', 'extra-corporeal circulation')]\n",
      "[('treatment', 'involves', 'infusional chemotherapy'), ('infusional chemotherapy', 'applied after', 'resistance to systemic chemotherapy'), ('arteriography', 'used for', 'localization of malignant lesions'), ('arteriography', 'includes', 'selective arteriograms'), ('persistent malignant disease', 'associated with', 'prominent uterine arteries'), ('persistent malignant disease', 'exhibits', 'hypervascularity'), ('methotrexate or actinomycin D', 'used in', 'arterially infused chemotherapy')]\n",
      "[('pseudolupus', 'characterized by', 'recurrent fever'), ('pseudolupus', 'characterized by', 'myalgia'), ('pseudolupus', 'characterized by', 'arthralgia'), ('pseudolupus', 'characterized by', 'pleuritis'), ('pseudolupus', 'characterized by', 'pulmonary infiltrates'), ('pseudolupus', 'characterized by', 'pericarditis'), ('pseudolupus', 'characterized by', 'myocarditis'), ('Venocuran', 'contains', 'phenopyrazone'), ('Venocuran', 'contains', 'horse-chestnut extract'), ('Venocuran', 'contains', 'cardiac glycosides')]\n",
      "22\n"
     ]
    },
    {
     "name": "stderr",
     "output_type": "stream",
     "text": [
      "100%|██████████| 147/147 [09:01<00:00,  3.68s/it]\n"
     ]
    },
    {
     "name": "stdout",
     "output_type": "stream",
     "text": [
      "[('antacids', 'used as', 'prophylaxis against stress ulcer'), ('H(2) receptor blocking agents', 'used as', 'treatment for stress ulcer'), ('intraluminal acid concentration', 'critically determines', 'severity of stress ulcer disease'), ('bile acid', 'induces', 'gastric mucosal ulcerogenesis'), ('topical acid', 'used as', 'model to induce ulcerogenesis'), ('mucosal ischemia', 'used as', 'model to induce ulcerogenesis'), ('antacids', 'prevent', 'stress ulcer disease'), ('antacids', 'ameliorate', 'stress ulcer disease')]\n",
      "[]\n",
      "[('amenorrheic patients', 'treated with', 'D-Ala-6-LH-RH PA'), ('D-Ala-6-LH-RH PA', 'effects', 'follicular development'), ('anorexia nervosa', 'associated with', 'secondary amenorrhea'), ('ethynyl estradiol', 'administered after', 'steroid-induced cycle'), ('treatment', 'resulted in', 'withdrawal bleeding'), ('withdrawal bleeding', 'occurred in', '9 patients'), ('estrogens', 'increased', 'with D-Ala-6-LH-RH PA'), ('one patient', 'conceived after', 'discontinuation of treatment'), ('treated cycles', 'were', 'monophasic'), ('patients', 'included', 'primary and secondary amenorrhea cases')]\n",
      "[]\n",
      "[('spironolactone', 'is a', 'catatoxic compound'), ('catatoxic compounds', 'inhibit', 'effects of steroid anesthetics'), ('phenobarbital', 'is a', 'non-steroidal stimulator of hepatic microsomal drug metabolism'), ('diphenylhydantoin', 'is a', 'non-steroidal stimulator of hepatic microsomal drug metabolism'), ('prednisolone', 'is a', 'catatoxic compound'), ('steriod anesthetics', 'include', 'alfathesin'), ('triamcinolone', 'exerts', 'little or no catatoxic activity'), ('catatoxic compounds', 'reduce', 'sleeping time induced by steroid anesthetics'), ('catatoxic compounds', 'include', '3beta-hydroxy-20-oxo-5-pregnene-16alpha-carbonitrile'), ('catatoxic compounds', 'include', '9alpha-fluoro-11beta,17-dihydroxy-3-oxo-4-androstene-17alpha-propionic acid potassium salt')]\n",
      "23\n"
     ]
    },
    {
     "name": "stderr",
     "output_type": "stream",
     "text": [
      "100%|██████████| 147/147 [08:47<00:00,  3.59s/it]\n"
     ]
    },
    {
     "name": "stdout",
     "output_type": "stream",
     "text": [
      "[('intensive care', 'involves', 'treatment of respiratory insufficiency'), ('respiratory insufficiency', 'results from', 'chronic obstructive bronchopulmonary disease'), ('pulmonary ventilators', 'used for', 'assisting respiration'), ('iron lung', 'used for', 'assisting respiration'), ('treatment', 'includes correction of', 'bronchial obstruction'), ('intensive care', 'requires', 'monitoring of humoral balance'), ('mechanical devices', 'used in', 'intensive care'), ('iatrogenic disturbances', 'include', 'reventilation syndrome'), ('treatment', 'can lead to', 'metabolic alkalosis or acidosis')]\n",
      "[('central nervous system depressant drugs', 'associated with', 'acute respiratory insufficiency'), ('barbiturates', 'most common drugs', 'central nervous system depression'), ('coma', 'results in', 'worse lung function'), ('cardiovascular collapse', 'linked to', 'high mortality rate')]\n",
      "[('surgery', 'involves', 'aorto-coronary bypass'), ('aorto-coronary bypass', 'uses', 'saphenous graft'), ('per and postoperative care', 'includes', 'water and electrolyte balance'), ('postoperative care', 'includes', 'heparinisation'), ('postoperative care', 'includes', 'prophylactic antibiotics'), ('treatment', 'includes', 'vasodilators'), ('vasodilators', 'commonly', 'IV nitroglycerine'), ('treatment', 'includes', 'catecholamines'), ('treatment', 'includes', 'anti-arrhythmic agents'), ('treatment', 'evaluates effects on', 'electrocardiographic abnormalities')]\n",
      "[('acetate-free bicarbonate dialysis', 'improves', 'acid-base balance'), ('acetate-free bicarbonate dialysis', 'enhances', 'tissue oxygenation'), ('acetate-free bicarbonate dialysis', 'decreases', 'triglyceride levels'), ('acetate', 'increases', 'triglyceride levels'), ('bicarbonate treatment', 'associated with', 'improved lipid profile'), ('hypertriglyceridemia', 'treated with', 'acetate-free bicarbonate dialysis'), ('treatment', 'affects', 'oxygen delivery'), ('treatment', 'involves', 'acetate-free bicarbonate dialysis')]\n",
      "[('treatment', 'is crucial for', 'myocardial infarction'), ('cardiac rhythm disturbances', 'are treated with', 'antiarrhythmic therapy'), ('uncomplicated infarctions', 'require', 'sedation of sympathico-adrenergic reactions'), ('complicated infarctions', 'need', 'immediate hospital transport'), ('acute phase', 'is managed by', 'preventing cardiac rhythm disturbances'), ('antiarrhythmic therapy', 'includes', 'glycosides and saluretics'), ('post-infarction phase', 'may involve', 'anticoagulant therapy'), ('secondary prevention', 'focuses on', 'medicamentous treatment'), ('beta-sympathicolytics', 'might be used for', 'cardiac rhythm management'), ('patients with coronary heart disease', 'require', 'individualized therapy')]\n",
      "24\n"
     ]
    },
    {
     "name": "stderr",
     "output_type": "stream",
     "text": [
      "100%|██████████| 147/147 [08:56<00:00,  3.65s/it]\n"
     ]
    },
    {
     "name": "stdout",
     "output_type": "stream",
     "text": [
      "[('beta-adrenoreceptor-blocking drugs', 'delay', 'enzyme activity peak in acute myocardial infarction'), ('acute myocardial infarction', 'involves', 'release of cytosolic enzymes'), ('creatine kinase', 'measured in', 'plasma'), ('beta-adrenoreceptor-blocking drugs', 'may delay', 'tissue damage during myocardial ischaemia'), ('CK-MB isoenzyme', 'shows', 'delayed peak activity with beta-adrenoreceptor-blocking drugs'), ('lysosomal enzyme activity', 'parallels', 'CK-MB activity changes after acute myocardial infarction'), ('chest pain', 'marks the onset of', 'acute myocardial infarction')]\n",
      "[]\n",
      "[]\n",
      "[('calcium', 'causes', 'underperfusion of LV subendocardium'), ('isoproterenol', 'causes', 'underperfusion of LV subendocardium'), ('calcium', 'decreases', 'ventricular volume'), ('isoproterenol', 'decreases', 'ventricular volume'), ('angiotensin', 'increases', 'subendocardial flow'), ('epicardial \"steal\"', 'contributes to', 'subendocardial ischemia')]\n",
      "[('acute myocardial infarction', 'treated with', 'urokinase'), ('acute myocardial infarction', 'treated with', 'glucose infusion'), ('patients', 'randomized into', 'two groups'), ('urokinase', 'associated with', 'faster regression of electrocardiographic alterations'), ('urokinase', 'showed no difference in', 'mortality'), ('urokinase', 'showed no difference in', 'cardiac functional class')]\n",
      "25\n"
     ]
    },
    {
     "name": "stderr",
     "output_type": "stream",
     "text": [
      "100%|██████████| 147/147 [08:48<00:00,  3.59s/it]\n"
     ]
    },
    {
     "name": "stdout",
     "output_type": "stream",
     "text": [
      "[('methylprednisolone', 'used for', 'improving subendocardial perfusion'), ('glucose-insulin-potassium', 'used for', 'improving subendocardial perfusion'), ('cardiopulmonary bypass', 'associated with', 'subendocardial hemorrhage'), ('steroids', 'reduce', 'endocardial hemorrhage'), ('steroids', 'improve', 'contractility'), ('normothermic anoxic cardiac arrest', 'used for', 'cardiac operations')]\n",
      "[('H(2) receptor blocking agents', 'prevent', 'stress ulcer'), ('antacids', 'prevent', 'stress ulcer'), ('concentration of intraluminal acid', 'determines', 'severity of stress ulcer'), ('bile acid', 'used to induce', 'ulcerogenesis'), ('ischemia', 'influences', 'ulcerogenesis'), ('H(+)', 'affects', 'lesion severity'), ('antacids', 'ameliorate', 'stress ulcer disease')]\n",
      "[('angina', 'induced by', 'catecholamine infusion'), ('bunitrolol', 'is a', 'beta-blocking agent'), ('bunitrolol', 'effective in', 'normalizing myocardial lactate extraction ratio'), ('beta-blocker action', 'reduces', 'arterial non-esterified fatty acids level'), ('bunitrolol', 'used in', 'treatment of ischemic heart disease'), ('ischemic heart disease', 'related to', 'angina')]\n",
      "[]\n",
      "[('calcium', 'produces', 'underperfusion of LV subendocardium'), ('isoproterenol', 'causes', 'underperfusion of LV subendocardium'), ('angiotensin', 'increases', 'resistance in subepicardium'), ('resistance in subepicardium', 'contributes to', 'subendocardial ischemia'), ('subepicardial vasodilation', 'causes', 'epicardial \"steal\"'), ('calcium', 'decreases', 'ventricular volume'), ('isoproterenol', 'decreases', 'ventricular volume'), ('decreased ventricular volume', 'restricts', 'flow in subendocardium'), ('angina', 'increases', 'subendocardial flow')]\n",
      "26\n"
     ]
    },
    {
     "name": "stderr",
     "output_type": "stream",
     "text": [
      " 35%|███▌      | 52/147 [03:13<06:17,  3.98s/it]IOPub message rate exceeded.\n",
      "The Jupyter server will temporarily stop sending output\n",
      "to the client in order to avoid crashing it.\n",
      "To change this limit, set the config variable\n",
      "`--ServerApp.iopub_msg_rate_limit`.\n",
      "\n",
      "Current values:\n",
      "ServerApp.iopub_msg_rate_limit=1000.0 (msgs/sec)\n",
      "ServerApp.rate_limit_window=3.0 (secs)\n",
      "\n",
      "100%|██████████| 147/147 [08:38<00:00,  3.52s/it]\n"
     ]
    },
    {
     "name": "stdout",
     "output_type": "stream",
     "text": [
      "[('H(2) receptor blocking agents', 'are used as', 'effective prophylaxis against \"stress ulcer\"'), ('Antacids', 'are used as', 'effective prophylaxis against \"stress ulcer\"'), ('Concentration of intraluminal acid', 'determines', 'severity of \"stress ulcer\"'), ('Topical acid', 'induces', 'ulcerogenesis'), ('Bile acid', 'induces', 'ulcerogenesis'), ('Mucosal ischemia', 'induces', 'ulcerogenesis'), ('Sodium taurocholate', 'used in', 'topical test solutions'), ('Mucosal blood flow', 'measured by', 'aminopyrine clearance'), ('Lesion severity', 'is a function of', 'concentration of intraluminal acid'), ('H(2) receptor blocking agents', 'support', 'prevention of \"stress ulcer\"')]\n",
      "[('tablets', 'used in', 'treatment of exocrine pancreatic insufficiency'), ('tablets', 'aid in', 'abolishing azotorrhea'), ('pancreatin', 'helps with', 'satisfactory nutritional status'), ('cimetidine', 'provides relief from', 'steatorrhea'), ('cimetidine', 'alleviates', 'diarrhea')]\n",
      "[('prednisone', 'causes', 'side effects in over 50% of patients on high-dose therapy'), ('prednisone', 'requires dose reduction or withdrawal in', '32% of patients on high-dose'), ('sulfasalazine', 'causes', 'nausea or vomiting in 46% of patients on high dose'), ('azathioprine', 'produces', 'leukopenia at a dose of 2.5 mg/kg'), ('azathioprine', 'causes', 'pancreatitis in 5% of patients'), ('sulfasalazine', 'is', \"safest effective suppressive drug for Crohn's disease\")]\n",
      "[('fenspiride', 'improves', 'VC'), ('fenspiride', 'improves', 'FEV1'), ('fenspiride', 'improves', 'RV'), ('fenspiride', 'has', 'anti-inflammatory effect in the respiratory ways'), ('fenspiride', 'has', 'direct antibronchospastic action'), ('chronic bronchopneumopathics', 'treated with', 'fenspiride'), ('oral administration', 'used for', 'fenspiride'), ('intramuscular administration', 'used for', 'fenspiride')]\n",
      "[('severe arterial hypertension', 'caused by', 'abuse of topical mineralocorticoid'), ('spironolactone', 'used for', 'lowering blood pressure'), ('methyldopa', 'used for', 'lowering blood pressure'), ('clonidine', 'used for', 'lowering blood pressure'), ('triamterene', 'causes', 'hypotensive effect'), ('mineralocorticoid application', 'stopped', 'blood pressure to normal')]\n",
      "115\n"
     ]
    },
    {
     "name": "stderr",
     "output_type": "stream",
     "text": [
      "100%|██████████| 147/147 [08:31<00:00,  3.48s/it]\n"
     ]
    },
    {
     "name": "stdout",
     "output_type": "stream",
     "text": [
      "[]\n",
      "[('pancreatic insufficiency', 'treated with', 'pancreatin'), ('pancreatic insufficiency', 'can cause', 'azotorrhea'), ('pancreatic insufficiency', 'leads to', 'steatorrhea'), ('cimetidine', 'used for', 'relief from steatorrhea'), ('cimetidine', 'alleviates', 'troublesome diarrhea'), ('gastric pH', 'affects', 'effectiveness of pancreatin dosage'), ('Pancrease', 'used for', 'acidic upper gastrointestinal tract'), ('special intraluminal studies', 'ensure', 'conditions for effective treatment'), ('adjunctive therapy', 'alters', 'intraluminal conditions')]\n",
      "[('total parenteral nutrition', 'leads to', 'alterations of liver function tests'), ('alterations of liver function tests', 'observed in', 'activity of certain serum enzymes'), ('hepatomegaly', 'sometimes', 'appeared'), ('jaundice', 'sometimes', 'appeared'), ('serum transaminases activity', 'changes in', 'chemical pathology'), ('alkaline phosphatase', 'acts as', 'index of cholestasis'), ('gamma-glutamyltranspeptidase', 'acts as', 'index of cholestasis'), ('lactate dehydrogenase', 'related to', 'energy metabolism'), ('pseudocholinesterase', 'related to', 'protein metabolism')]\n",
      "[('Brothers', 'suffer from', 'hyperchloraemic metabolic acidosis'), ('Hyperchloraemic metabolic acidosis', 'caused by', 'low renal bicarbonate threshold'), ('Acetazolamide', 'lowers', 'tubular bicarbonate reabsorption'), ('Both glomerular filtration rate', 'reduced in', 'brothers'), ('Kidney tubular cells', 'observed as', 'swollen with vacuoles'), ('Serum thyroxine', 'found to be', 'pathologically low'), ('Autopsy', 'revealed', 'thyroid and thymus weights reduced')]\n",
      "[('arginine thiazolidinecarboxylate', 'used for', 'treatment of alcoholic hepatopathy'), ('treatment', 'leads to', 'improvement in liver function'), ('treatment', 'causes', 'decrease in bilirubinemia'), ('treatment', 'causes', 'increase in transferrin'), ('platelets', 'increased by', 'treatment'), ('bilirubin', 'decreased by', 'treatment'), ('liver', 'affected by', 'arginine thiazolidinecarboxylate')]\n",
      "116\n"
     ]
    },
    {
     "name": "stderr",
     "output_type": "stream",
     "text": [
      "100%|██████████| 147/147 [08:33<00:00,  3.49s/it]\n"
     ]
    },
    {
     "name": "stdout",
     "output_type": "stream",
     "text": [
      "[('H(2) receptor blocking agents', 'prevent or ameliorate', '\"stress ulcer\" disease'), ('antacids', 'prevent or ameliorate', '\"stress ulcer\" disease'), ('bile acid', 'induce', 'ulcerogenesis'), ('mucosal ischemia', 'induce', 'ulcerogenesis'), ('intraluminal acid concentration', 'determine', 'severity of \"stress ulcer\" disease'), ('sodium taurocholate', 'used in', 'topical test solutions'), ('vasopressin infusion', 'used in', 'topical test solutions'), ('H(2) receptor blocking agents', 'used for', 'prophylaxis against \"stress ulcer\"'), ('antacids', 'used for', 'prophylaxis against \"stress ulcer\"')]\n",
      "[('pancreatin', 'used for', 'exocrine pancreatic insufficiency treatment'), ('exocrine pancreatic insufficiency treatment', 'involves', 'eight tablets of pancreatin'), ('pancreatin treatment', 'abolishes', 'azotorrhea'), ('steatorrhea', 'not totally corrected by', 'pancreatin'), ('cimetidine', 'added to', 'pancreatin treatment'), ('cimetidine addition', 'provides relief from', 'steatorrhea'), ('meal', 'consists of', '25 g of fat'), ('pancreatin dosage', 'altered based on', 'gastric pH conditions'), ('enteric-coated preparation', 'effective for', 'acidic gastrointestinal tract conditions'), ('symptoms', 'relieved by', 'alteration in pancreatin dosage schedule')]\n",
      "[('diarrhea', 'occurred in', 'patients after Spontavix feeding'), ('nausea', 'occurred in', 'patients after Spontavix feeding'), ('vomiting', 'occurred in', 'patients after Spontavix feeding'), ('abdominal pain', 'occurred in', 'patients after Spontavix feeding'), ('tube feeds', 'method for', 'postoperative nutrition')]\n",
      "[('elemental diet', 'used for', 'long-term nutritional support'), (\"Crohn's disease\", 'associated with', 'weight loss'), ('weight restoration', 'achieved by', 'elemental diet'), ('patients', 'experiences', 'body weight restoration'), ('bowel lesion resection', 'followed by', 'postoperative recovery on elemental diet')]\n",
      "[('ulcerative colitis', 'treated with', 'oral disodium cromoglycate'), ('oral disodium cromoglycate', 'improves', \"patients' sense of well-being\"), ('oral disodium cromoglycate', 'improves', 'signoidoscopic appearances'), ('oral disodium cromoglycate', 'improves', 'rectal biopsy appearances'), ('oral disodium cromoglycate', 'used in', 'long-term management of colitis')]\n",
      "117\n"
     ]
    },
    {
     "name": "stderr",
     "output_type": "stream",
     "text": [
      "100%|██████████| 147/147 [08:48<00:00,  3.59s/it]\n"
     ]
    },
    {
     "name": "stdout",
     "output_type": "stream",
     "text": [
      "[('nasal packing', 'is associated with', 'arterial hypoxemia'), ('arterial hypoxemia', 'can occur during', 'anesthesia'), ('arterial blood-gas', 'is evaluated during', 'surgery'), ('patients', 'suffer from', 'severe epistaxis'), ('anesthesia', 'is hazardous in', 'hypoxemic patients'), ('patients', 'underwent', 'internal maxillary artery ligation'), ('arterial PO2', 'returns to normal', 'postoperatively'), ('pH changes', 'observed in', 'patients during procedure'), ('management', 'is crucial for', 'hypoxemic patients during surgery')]\n",
      "[('patients', 'treated with', 'high doses of barbiturates'), ('post-ischaemic encephalopathy', 'associated with', 'cerebral ischaemia'), ('degree of ischaemic damage', 'assessed by', 'pupillary signs and enzyme levels in CSF'), ('barbiturate load', 'not associated with', 'major complications'), ('clinical signs', 'observed', '12 hours after ischaemia'), ('neurological recovery', 'complete in all patients with ischemia', 'less than 10 minutes'), ('cerebral function monitor', 'used for', 'continuous observation')]\n",
      "[('acute hypertensive crises', 'is a', 'most common complication'), ('acute hypertensive crises', 'occurred in', 'postoperative period'), ('neuroplegia', 'attributed to', 'inadequate anaesthetic protocol'), ('complications', 'related to', 'type of myocardial protection'), ('patients', 'undergoing', 'aorto-coronary bypass surgery'), ('accidents', 'occurred during', 'aorto-coronary bypass surgery')]\n",
      "[('aorto-coronary bypass', 'treated with', 'saphenous graft'), ('anesthetic', 'technique used in', 'neuroleptanalgesia'), ('postoperative care', 'includes', 'water and electrolyte balance'), ('postoperative care', 'includes', 'heparinization'), ('postoperative care', 'includes', 'prophylactic antibiotics'), ('vasodilators', 'includes', 'IV nitroglycerine'), ('special treatment', 'includes', 'catecholamines'), ('special treatment', 'includes', 'anti-arrhythmic agents'), ('intra-aortic counter pulse balloon', 'used for', 'treatment'), ('evaluated effects', 'includes', 'electrocardiographic abnormalities')]\n",
      "[('patient', 'experienced', 'cerebral convulsions'), ('cerebral convulsions', 'occurred', 'during antiarrhythmic treatment'), ('antiarrhythmic treatment', 'interacted with', 'local anesthesia'), ('local anesthetic', 'caused', 'cardiac arrest'), ('patient', 'received', 'high doses of aprindine'), ('antiarrhythmic treatment', 'should be stopped before', 'local anesthesia'), ('tissue absorption', 'elevated', 'blood level of local anesthetic drugs'), ('drug interaction', 'led to', 'toxic range of anesthetic drugs')]\n",
      "118\n"
     ]
    },
    {
     "name": "stderr",
     "output_type": "stream",
     "text": [
      "100%|██████████| 147/147 [08:38<00:00,  3.53s/it]\n"
     ]
    },
    {
     "name": "stdout",
     "output_type": "stream",
     "text": [
      "[('treatment', 'corrects', 'acid-base imbalance'), ('chronic obstructive bronchopulmonary disease', 'leads to', 'respiratory insufficiency'), ('treatment', 'avoids', 'emergence of iatrogenic disturbances'), ('mechanical devices', 'assist', 'respiration'), ('intensive care', 'involves', 'monitoring of humoral balance'), ('respiratory insufficiency', 'assessed by', 'severity indicators such as coma and acid-base balance'), ('bronchial obstruction', 'needs', 'correcting'), ('metabolic sequels', 'include', 'alkalosis or acidosis'), ('pulmonary ventilators', 'used in', 'intensive care wards'), ('treatment', 'involves', 'correction of CO2 and pH alterations')]\n",
      "[('cyclophosphamide', 'is included in', 'COMB'), ('Oncovin (vincristine)', 'is included in', 'COMB'), ('methyl CCNU', 'is included in', 'COMB'), ('bleomycin', 'is included in', 'COMB'), ('bleomycin', 'causes', 'lung damage'), ('vincristine', 'causes', 'neuropathy'), ('squamous lung cancer', 'shows higher response rate with', '30 and 60 mg weekly bleomycin'), ('myelosuppression', 'results in', 'hospitalization for antibiotics'), ('debilitation syndrome', 'characterized by', 'weakness and anorexia'), ('COMB', 'produces', 'partial response in 33% of patients')]\n",
      "[('spontaneous retropharyngeal hemorrhage', 'caused by', 'sneezing episode'), ('sneezing episode', 'caused', 'tracheal compression'), ('tracheal compression', 'results in', 'stridor'), ('emergency tracheostomy', 'performed for', 'life-saving intervention')]\n",
      "[('sleeping time', 'induced by', 'steroid anesthetics'), ('steroid anesthetics', 'include', 'alfathesin'), ('sleeping time', 'abolished by', 'catatoxic compounds'), ('catatoxic compounds', 'include', 'prednisolone'), ('phenobarbital', 'effective as', 'stimulator of hepatic microsomal drug metabolism'), ('diphenylhydantoin', 'effective as', 'stimulator of hepatic microsomal drug metabolism')]\n",
      "[('Bleomycin', 'is used for', 'tumorscanning'), ('malignomas', 'are located in', 'head and neck'), ('Bleomycin', 'marked with', '57Co'), ('tumorscanning', 'demonstrates', 'head and neck malignomas'), ('malignomas', 'include', 'squamous cell carcinomas'), ('tumorscanning', 'used for', 'detection of metastatic nodules'), ('Cytostatic drug', 'can be marked with', 'radio-isotope'), ('method', 'identifies', 'primary tumors and metastatic nodules'), ('method', 'demonstrates', 'relapses and tumor rests'), ('method', 'localizes', 'distant metastases')]\n",
      "119\n"
     ]
    },
    {
     "name": "stderr",
     "output_type": "stream",
     "text": [
      "100%|██████████| 147/147 [08:20<00:00,  3.41s/it]\n"
     ]
    },
    {
     "name": "stdout",
     "output_type": "stream",
     "text": [
      "[('antidepressant drugs', 'cause', 'extrapyramidal-motoric side effects'), ('antidepressant drugs', 'cause', 'psychologic side effects'), ('hypokinetic disorders', 'caused by', 'antidepressant drugs'), ('tonic-atonic disturbances', 'associated with', 'antidepressant drugs'), ('dyskinesia', 'associated with', 'antidepressant drugs'), ('myoclonic muscle contractions', 'associated with', 'antidepressant drugs'), ('dreamy state', 'associated with', 'antidepressant drugs'), ('episodic amnesia', 'observed during', 'antidepressant treatment'), ('amnestic \"black out\"', 'observed during', 'antidepressant treatment'), ('transient memory disorders', 'reported with', 'antidepressant drugs')]\n",
      "[]\n",
      "[]\n",
      "[]\n",
      "[]\n",
      "120\n"
     ]
    },
    {
     "name": "stderr",
     "output_type": "stream",
     "text": [
      "100%|██████████| 147/147 [08:26<00:00,  3.45s/it]\n"
     ]
    },
    {
     "name": "stdout",
     "output_type": "stream",
     "text": [
      "[('cirrhosis', 'associated with', 'esophageal varices'), ('esophageal varices', 'treated by', 'injection sclerotherapy'), ('sclerotherapy', 'impacts', 'lower esophageal sphincter pressure'), ('sclerotherapy', 'affects', 'acid clearance'), ('varices', 'associated with', 'change in lower esophageal sphincter length'), ('varices', 'linked to', 'reduced lower esophageal contraction pressure'), ('varices', 'influence', 'sphincter relaxation during swallowing')]\n",
      "[('cimetidine', 'used as', 'prophylaxis against stress ulcers'), ('stress ulcers', 'cause', 'morbidity and mortality'), ('critically ill patients', 'treated with', 'cimetidine'), ('gastric pH level', 'aimed to be', 'above 4'), ('cimetidine', 'failed to maintain', 'gastric pH level above 4'), ('positive blood cultures', 'associated with', 'failure of cimetidine'), ('renal failure', 'developed in', 'patients not responding to cimetidine'), ('mortality', 'higher for', 'non-responders to cimetidine'), ('high-risk group', 'identified by', 'non-response to cimetidine'), ('gastric pH', 'must be', 'regularly monitored')]\n",
      "[('hydrogen ion concentration', 'influences', 'severity of gastric mucosal ulcerogenesis'), ('H(2) receptor blocking agents', 'used for', 'prophylaxis against stress ulcer'), ('antacids', 'used for', 'treatment of stress ulcer'), ('bile acid', 'induces', 'gastric mucosal ulcerogenesis'), ('stress ulcer', 'affected by', 'concentration of intraluminal acid')]\n",
      "[('gastroesophageal reflux', 'documented by', '24-hour esophageal pH monitoring'), ('gastroesophageal reflux', 'can be induced by', 'primary respiratory disorder'), ('aspiration', 'occurs with', 'esophageal motor abnormality'), ('esophageal motor abnormality', 'leads to', 'delayed clearance of refluxed acid'), ('antireflux procedure', 'raises', 'distal esophageal segment pressure'), ('antireflux procedure', 'returns', 'reflux status to normal'), ('abnormal pulmonary symptoms', 'can induce', 'gastroesophageal reflux'), ('gastroesophageal reflux', 'can result in', 'aspiration'), ('esophageal peristalsis', 'provides', 'protective effect against aspiration'), ('rapid esophageal clearance', 'prevents', 'aspiration')]\n",
      "[('tube', 'used for', 'postoperative feeding'), ('patients', 'received', 'Spontavix'), ('nausea', 'occurred in', 'patients'), ('vomiting', 'occurred in', 'patients'), ('diarrhea', 'occurred in', 'patients'), ('abdominal pain', 'occurred in', 'patients'), ('tube', 'delivers', 'Spontavix'), ('general anesthesia', 'believed to cause', 'increase in serum transaminases')]\n",
      "121\n"
     ]
    },
    {
     "name": "stderr",
     "output_type": "stream",
     "text": [
      "100%|██████████| 147/147 [08:26<00:00,  3.44s/it]\n"
     ]
    },
    {
     "name": "stdout",
     "output_type": "stream",
     "text": [
      "[('ascites', 'is due to', 'chronic liver disease'), ('ascites', 'treated with', 'spironolactone'), ('spironolactone', 'used as', 'diuretic'), ('spironolactone', 'results in', 'weight loss'), ('spironolactone', 'leads to', 'natriuresis'), ('hyperkalemia', 'can occur with', 'spironolactone'), ('hepatic encephalopathy', 'is an effect of', 'spironolactone'), ('serum magnesium', 'can fall with', 'spironolactone'), ('natriuresis', 'less than', '30 mEq with hydrochlorothiazide')]\n",
      "[('H(2) receptor blocking agents', 'are used for', 'stress ulcer prophylaxis'), ('antacids', 'are used for', 'stress ulcer treatment'), ('hydrogen ion concentration', 'affects', 'severity of stress ulcer'), ('bile acid', 'induced', 'gastric mucosal ulcerogenesis'), ('bile acid', 'combined with', 'mucosal ischemia to induce ulcerogenesis')]\n",
      "[]\n",
      "[('Prednisone', 'caused', 'side effects in over 50% of patients'), ('Prednisone', 'required', 'dose reduction or withdrawal due to side effects'), ('Sulfasalazine', 'required', 'dose reduction or withdrawal due to side effects'), ('Azathioprine', 'produced', 'leukopenia at a dose of 2.5 mg/kg'), ('Azathioprine', 'caused', 'pancreatitis in 5% of patients'), ('Sulfasalazine', 'proved to be', \"safest effective suppressive drug for Crohn's disease\"), ('Prednisone toxicity', 'is', 'substantial but acceptable'), ('Azathioprine', 'was as toxic as', 'prednisone'), ('None of the drugs', 'was effective', 'prophylactically'), ('Sulfasalazine', 'had', 'appreciable long-term toxicity')]\n",
      "[]\n",
      "122\n"
     ]
    },
    {
     "name": "stderr",
     "output_type": "stream",
     "text": [
      "100%|██████████| 147/147 [08:28<00:00,  3.46s/it]\n"
     ]
    },
    {
     "name": "stdout",
     "output_type": "stream",
     "text": [
      "[('H(2) receptor blocking agents', 'are used as', 'prophylaxis against stress ulcers'), ('antacids', 'are used as', 'treatment for stress ulcers'), ('hydrogen ion concentration', 'determines', 'severity of ulcerogenesis'), ('bile acid', 'induces', 'gastric mucosal ulcerogenesis'), ('intramural acid concentration', 'influences', 'ulcer severity'), ('hydrogen ion concentration', 'increases', 'net H(+) flux'), ('vasopressin', 'used concomitantly with', 'test solutions in study')]\n",
      "[('cimetidine', 'is used to', 'provide relief from steatorrhea'), ('pancreatin treatment', 'is used for', 'exocrine pancreatic insufficiency'), ('cimetidine', 'alleviates', 'troublesome diarrhea'), ('Pancrease', 'is used when', 'upper gastrointestinal tract is acidic'), ('intraluminal studies', 'are required when', 'symptoms and steatorrhea continue')]\n",
      "[('essential hypertension', 'treated with', 'metipranolol'), ('essential hypertension', 'treated with', 'butizid'), ('metipranolol', 'is a', 'beta-receptor-blocker'), ('butizid', 'is a', 'saluretic'), ('treatment with metipranolol and butizid', 'affects', 'blood pressure'), ('treatment with metipranolol and butizid', 'affects', 'glucose levels'), ('treatment with metipranolol and butizid', 'affects', 'cholesterol levels'), ('treatment with metipranolol and butizid', 'affects', 'triglyceride levels'), ('treatment with metipranolol and butizid', 'affects', 'uric acid levels'), ('treatment with metipranolol and butizid', 'affects', 'plasma potassium')]\n",
      "[('antacids', 'reduce', 'gastroduodenal acidity'), ('antacids', 'minimal healing effect on', 'gastric ulcer'), ('antacids', 'effective in healing', 'duodenal ulcer'), ('antacids', 'prevent', 'haemorrhage from stress ulcer'), ('antacids', 'comparable in effectiveness with', 'cimetidine'), ('antacids', 'have', 'higher incidence of side-effects'), ('antacids', 'relieve', 'pain in peptic ulcer')]\n",
      "[('atropine', 'causes', 'antisialogogue effects'), ('hyoscine', 'causes', 'antisialogogue effects'), ('glycopyrronium', 'causes', 'antisialogogue effects'), ('atropine', 'reduces', 'volume of gastric contents'), ('glycopyrronium', 'increases', 'pH of gastric contents'), ('anticholinergic premedication', 'influences', 'volume of gastric contents'), ('anticholinergic premedication', 'influences', 'pH of gastric contents'), ('anticholinergic drugs', 'have similar', 'antisialogogue effects')]\n",
      "123\n"
     ]
    },
    {
     "name": "stderr",
     "output_type": "stream",
     "text": [
      "100%|██████████| 147/147 [08:30<00:00,  3.47s/it]\n"
     ]
    },
    {
     "name": "stdout",
     "output_type": "stream",
     "text": [
      "[('myocardial infarction', 'resulted from', 'ischaemic changes'), ('heart valve disorders', 'treated by', 'aortic valve replacement'), ('coronary perfusion', 'associated with', 'elevated ASAT enzyme levels'), ('ventricular fibrillation', 'occurred during', 'aortic valve replacement'), ('selective coronary perfusion', 'has an effect on', 'cardiac metabolism')]\n",
      "[('saphenous vein graft', 'used for', 'aorto-coronary bypass'), ('coronary artery disease', 'treated with', 'aorto-coronary bypass'), ('aorto-coronary bypass', 'involves', 'cardiothoracic surgery'), ('surgery', 'involves', 'general anesthetics'), ('coronary artery disease', 'linked with', 'electrocardiographic abnormalities'), ('surgery', 'is associated with', 'cardiovascular examination'), ('intensive care unit', 'provides', 'postoperative care'), ('surgery', 'risks include', 'hemorrhage and morbidity'), ('morbidity', 'influenced by', 'electrocardiographic abnormalities'), ('vasodilators', 'manage', 'blood pressure abnormalities')]\n",
      "[('aorto-coronary bypass surgery', 'uses', 'neuroleptanalgesia'), ('neuroleptanalgesia', 'decreases', 'incidence of hypertensive crises'), ('aorto-coronary bypass surgery', 'involves', 'cardioplegia'), ('cardioplegia', 'decreases', 'incidence of postoperative complications')]\n",
      "[('beta-inhibitors', 'used in', 'aorto-coronary bypass surgery'), ('nitroglycerine', 'potentially enhances', 'therapeutic benefits')]\n",
      "[('Calcium', 'causes', 'underperfusion of LV subendocardium'), ('Isoproterenol', 'causes', 'underperfusion of LV subendocardium'), ('Calcium', 'decreases', 'ventricular volume'), ('Isoproterenol', 'decreases', 'ventricular volume'), ('Angiotensin', 'increases', 'resistance in the subepicardium'), ('Angiotensin', 'increases', 'flow in the subendocardium'), ('Decreased ventricular volume', 'restricts', 'flow in the subendocardium'), ('Increased subendocardial flow with angiotensin', 'indicates', 'subepicardial vasodilation'), ('Subepicardial vasodilation', 'causes', 'epicardial \"steal\"'), ('Epicardial \"steal\"', 'contributes to', 'subendocardial ischemia')]\n",
      "124\n"
     ]
    },
    {
     "name": "stderr",
     "output_type": "stream",
     "text": [
      "100%|██████████| 147/147 [08:23<00:00,  3.43s/it]\n"
     ]
    },
    {
     "name": "stdout",
     "output_type": "stream",
     "text": [
      "[('respiratory insufficiency', 'treated in', 'intensive care'), ('respiratory insufficiency', 'associated with', 'bronchial obstruction'), ('pulmonary ventilators', 'assist', 'respiration'), ('iron lung', 'used for', 'medical wards'), ('respiratory insufficiency', 'assessed by', 'severity'), ('mechanical devices', 'utilized in', 'intensive care'), ('respiration', 'assisted by', 'machinery'), ('acid-base imbalance', 'assessed in', 'respiratory insufficiency'), ('intensive care', 'requires', 'staff training and teamwork'), ('parameters of humoral balance', 'monitored during', 'treatment')]\n",
      "[('patients', 'use', 'minor tranquilizers'), ('patients', 'have', 'depressive equivalents'), ('depressive equivalents', 'include', 'depression and anxiety'), ('medications', 'taken for', 'target symptoms'), ('patients', 'believe', 'agents efficacious'), ('chronic users', 'have more', 'chronic medical illness'), ('chronic users', 'have more', 'somatization'), ('chronic users', 'have more', 'anxiety'), ('chronic users', 'have more', 'fatigue')]\n",
      "[('toxic substances', 'have long-term effects in', 'man'), ('record linkage', 'makes possible', 'correlation of indicators of exposure with biological effects'), ('systematic approach', 'would reveal', 'effects of more toxic substances'), ('register of women', 'linked to', 'records of congenital malformations'), ('follow samples of workers', 'correlated with', 'development of cancer'), ('linked records', 'provide basis for', 'monitoring system for toxic substances effects')]\n",
      "[('chronic respiratory insufficiency', 'involves', 'lung diseases'), ('chronic obstructive lung disease', 'is a representative of', 'chronic respiratory insufficiency'), ('diagnosis', 'relies on', 'clinical findings and spirometric test'), ('spirometric test', 'includes', 'VC and FEV1'), ('therapy', 'relies on', 'selective beta-agonists and steroids'), ('steroids', 'preferred form for long-term', 'inhaled steroids'), ('antibiotics', 'should be used', 'liberally'), ('cardiac therapy', 'is a cornerstone of', 'treatment of chronic respiratory insufficiency'), ('inhalation therapy', 'used for', 'drug administration'), ('physiotherapy', 'provides', 'psychological assistance and support')]\n",
      "[('heparinoid', 'used in', 'ointment form'), ('heparinoid', 'used in', 'gel form'), ('ointment form', 'associated with', 'local allergic cutaneous reaction'), ('gel form', 'associated with', 'local allergic cutaneous reaction'), ('local allergic cutaneous reaction', 'observed in', '1 patient'), ('product efficiency', 'assessed by', 'classification by points'), ('product efficiency', 'denoted as', 'good for every indication tested')]\n",
      "125\n"
     ]
    },
    {
     "name": "stderr",
     "output_type": "stream",
     "text": [
      "100%|██████████| 147/147 [08:27<00:00,  3.45s/it]\n"
     ]
    },
    {
     "name": "stdout",
     "output_type": "stream",
     "text": [
      "[('spironolactone', 'used as treatment in', 'chronic liver disease'), ('spironolactone', 'results in', 'mean daily weight loss'), ('spironolactone', 'causes', 'natriuresis'), ('natriuresis', 'indicates', 'satisfactory diuresis'), ('spironolactone', 'associated with', 'hyperkalemia'), ('serum urea nitrogen', 'does not rise with', 'spironolactone'), ('serum creatinine', 'does not rise with', 'spironolactone'), ('hydrogen ion excretion', 'decreases leading to', 'hyperchloremic acidosis')]\n",
      "[('hydrogen ion concentration', 'affects', 'severity of gastric ulcerogenesis'), ('H(2) receptor blocking agents', 'used for', 'treatment of \"stress ulcer\"'), ('antacids', 'provide', 'prophylaxis against \"stress ulcer\"'), ('bile acid', 'contributes to', 'gastric ulcerogenesis'), ('topical acid', 'used as', 'model to induce ulcerogenesis'), ('intraluminal acid concentration', 'determines', 'severity of gastric ulcers'), ('mucosal ischemia', 'induces', 'ulcerogenesis'), ('lesion severity', 'is a function of', 'hydrogen ion concentration')]\n",
      "[('pancreatin tablets', 'used for', 'treatment of exocrine pancreatic insufficiency'), ('pancreatin tablets', 'taken with', 'meals'), ('cimetidine', 'provides relief from', 'steatorrhea'), ('cimetidine', 'alleviates', 'diarrhea'), ('altering dosage schedule of tablets', 'effective in', 'alleviating steatorrhea'), ('Pancrease', 'may be effective for', 'patients with acidic upper gastrointestinal tract'), ('intraluminal studies', 'needed for', 'patients with persistent symptoms and steatorrhea'), ('pancreatin treatment', 'usually achieves', 'satisfactory nutritional status'), ('pancreatin treatment', 'generally abolishes', 'azotorrhea')]\n",
      "[('Prednisone', 'caused', 'side effects in over 50% of patients on high-dose suppressive therapy'), ('Prednisone', 'required', 'dose reduction or withdrawal due to side effects in 32% of patients on high-dose'), ('Sulfasalazine', 'required', 'withdrawal in 4% of patients on high-dose'), ('Azathioprine', 'produced', 'leukopenia in 15% of patients at a dose of 2.5 mg/kg body weight'), ('Azathioprine', 'caused', 'pancreatitis in 5% of patients'), ('Sulfasalazine', 'proved to be', \"safest effective suppressive drug for Crohn's disease\"), ('Prednisone', 'is', 'substantially toxic'), ('Azathioprine', 'is', 'as toxic as prednisone'), ('None of the drugs', 'was effective for', 'prophylactic treatment'), ('All drugs', 'showed', 'appreciable long-term toxicity')]\n",
      "[('woman', 'referred to', 'our clinic'), ('woman', 'had', 'severe hypocalemic hypertension'), ('triamterene', 'had', 'hypotensive effect'), ('hypotensive drug therapy', 'continued for', 'six months'), ('woman', 'consumed', 'nasal drops'), ('nasal drops', 'contained', 'ephedrine and naphazoline'), ('naphazoline', 'caused', 'drug-dependence'), ('mineralocorticoid application', 'stopped', 'blood pressure normalization'), ('slight low-sodium diet', 'helped', 'blood pressure normalization')]\n",
      "126\n"
     ]
    },
    {
     "name": "stderr",
     "output_type": "stream",
     "text": [
      "100%|██████████| 147/147 [08:26<00:00,  3.44s/it]\n"
     ]
    },
    {
     "name": "stdout",
     "output_type": "stream",
     "text": [
      "[('YC-93', 'is a', 'new 1,4-dihydropyridine derivative'), ('YC-93', 'increases', 'regional cerebral cortical blood flow'), ('YC-93', 'used in', 'anesthetized dogs'), ('YC-93', 'used in', 'anesthetized monkeys'), ('YC-93', 'increases', 'cerebral venous outflow'), ('YC-93', 'causes', 'elevation of cerebrospinal fluid pressure'), ('YC-93', 'results in', 'cerebral vasodilation in monkeys'), ('YC-93', 'increased', 'cerebral blood flow by 28.8% in human patients'), ('YC-93', 'does not change', 'arterial pCO2 in human patients'), ('YC-93', 'acts directly on', 'cerebral vascular beds')]\n",
      "[]\n",
      "[('calcium', 'causes', 'underperfusion of LV subendocardium'), ('isoproterenol', 'causes', 'underperfusion of LV subendocardium'), ('calcium', 'decreases', 'ventricular volume'), ('isoproterenol', 'decreases', 'ventricular volume'), ('angiotensin', 'increases', 'subendocardial flow'), ('epinephrine', 'causes', 'no consistent changes in transmural flow'), ('ouabain', 'causes', 'no consistent changes in transmural flow'), ('subepicardial vasodilation', 'causes', 'epicardial \"steal\"'), ('epicardial \"steal\"', 'contributes to', 'subendocardial ischemia'), ('transmural distribution of flow', 'is a', 'complex interaction of vascular resistance and myocardial compressive resistance')]\n",
      "[('drug', 'causes', 'pseudolupus'), ('venocuran', 'contains', 'phenopyrazone'), ('venocuran', 'contains', 'horse-chestnut extract'), ('venocuran', 'contains', 'cardiac glycosides'), ('long-term use of venocuran', 'leads to', 'mitochondrial antibodies'), ('venocuran', 'used for', 'venous diseases'), ('prodromal symptoms', 'include', 'myalgia and arthralgia'), ('mitochondrial antibodies', 'rare in', 'other drugs for venous diseases')]\n",
      "[('antiarrhythmic treatment', 'caused', 'cerebral convulsions'), ('mepivacaine', 'absorbed from', 'tissue'), ('absorption of mepivacaine', 'elevated', 'blood level of local anesthetic drugs'), ('elevated blood level', 'resulted in', 'toxic range'), ('toxic range', 'produced', 'cerebral convulsions'), ('cerebral convulsions', 'augmented', 'stimulation threshold'), ('cerebral convulsions', 'depressed', 'automaticity of heart')]\n",
      "127\n"
     ]
    },
    {
     "name": "stderr",
     "output_type": "stream",
     "text": [
      "100%|██████████| 147/147 [08:23<00:00,  3.42s/it]\n"
     ]
    },
    {
     "name": "stdout",
     "output_type": "stream",
     "text": [
      "[('salicylazosulfapyridine therapy', 'associated with', 'hemolysis in patients'), ('hemolysis', 'related to', 'serum level of salicylazosulfapyridine'), ('hemolysis', 'found in', '19 patients'), ('serum level of free SP', 'higher in', 'patients with hemolysis'), ('patients', 'show evidence of', 'hemolytic anemia'), ('hemolytic anemia', 'associated with', 'higher serum SP level'), ('slow acetylators', 'include', '18 of 19 patients with hemolysis')]\n",
      "[]\n",
      "[('prednisone', 'causes', 'side effects'), ('prednisone', 'requires', 'dose reduction'), ('sulfasalazine', 'causes', 'nausea'), ('azathioprine', 'causes', 'leukopenia'), ('azathioprine', 'causes', 'pancreatitis'), ('prednisone', 'is effective for', \"suppressing Crohn's disease\"), ('sulfasalazine', 'is effective for', \"suppressing Crohn's disease\"), ('azathioprine', 'is not more effective than', 'placebo'), ('prednisone', 'associated with', 'long-term toxicity'), ('sulfasalazine', 'is the safest drug for', \"suppressing Crohn's disease\")]\n",
      "[('beta blocking agents', 'may help with', 'labile arterial hypertension'), ('beta blocking agents', 'may be useful for', 'vegatative dysregulation'), ('beta blocking agents', 'may be beneficial in', 'hyperkinetic heart syndrome'), ('group A', 'premedicated with', 'Bunitrolol'), ('group B', 'premedicated with', 'Hyoscin-N-butyl-bromide and diazepam'), ('group C', 'underwent', 'esophago-gastro-duodenoscopy without premedication'), ('blood pressure', 'observed during', 'esophago-gastro-duodenoscopy'), ('heart rate', 'monitored during', 'esophago-gastro-duodenoscopy'), ('plasma free fatty acids', 'increased in', 'groups B and C'), ('ST-part of ECG', 'dropped in', 'each group')]\n",
      "[('mineralocorticoid', 'causes', 'severe arterial hypertension'), ('mineralocorticoid', 'part of', 'nasal drops'), ('nasal drops', 'contain', 'ephedrine and naphazoline'), ('spironolactone', 'used in', 'blood pressure therapy'), ('methyldopa', 'used in', 'blood pressure therapy'), ('clonidine', 'used in', 'blood pressure therapy'), ('triamterene', 'effect', 'hypotensive'), ('drug-dependence', 'related to', 'naphazoline component'), ('hypotensive drug therapy', 'not fully normalize', 'blood pressure'), ('low-sodium diet', 'helps restore', 'elevated blood pressure')]\n",
      "128\n"
     ]
    },
    {
     "name": "stderr",
     "output_type": "stream",
     "text": [
      "100%|██████████| 147/147 [08:27<00:00,  3.45s/it]\n"
     ]
    },
    {
     "name": "stdout",
     "output_type": "stream",
     "text": [
      "[('antidepressants', 'cause', 'extrapyramidal-motoric side effects'), ('antidepressants', 'cause', 'psychological side effects'), ('antidepressants', 'can result in', 'dreamy state'), ('antidepressants', 'associated with', 'episodic amnesia'), ('psychological and psychiatric evaluation and therapy', 'involves', 'treating side effects of antidepressants')]\n",
      "[('Prednisone', 'causes', 'side effects in over 50% of patients on high-dose therapy'), ('Prednisone', 'requires', 'dose reduction or withdrawal in 32% of patients'), ('Sulfasalazine', 'causes', 'nausea and vomiting in 46% of high-dose patients'), ('Sulfasalazine', 'is', \"safest effective suppressive drug for Crohn's disease\"), ('Azathioprine', 'causes', 'leukopenia in 15% of patients'), ('Azathioprine', 'associated with', 'pancreatitis in 5% of patients')]\n",
      "[('fluphenazinedecanoate', 'used for', 'treatment of schizophrenia and other psychotic disorders'), ('weeks', 'duration of', 'treatment with fluphenazinedecanoate'), ('schizophrenia and other psychotic disorders', 'associated with', 'hallucinations and delusions'), ('anticholinergics', 'required by', '30 to 40% of the patients'), ('weeks', 'measure of', 'remission of hallucinations and delusions'), ('treatment', 'involved', 'antipsychotics'), ('weeks', 'reached peak of', 'akathisia'), ('dyskinetic reactions', 'observed in', '8% of patients'), ('dyskinesia', 'noted', 'after 72 weeks of treatment'), ('anticholinergics', 'no longer required after', '84 weeks')]\n",
      "[('sodium valproate', 'decreases', 'HVA levels'), ('cyproheptadine', 'decreases', 'HVA levels'), ('sodium valproate', 'increases', 'cAMP levels'), ('cyproheptadine', 'increases', 'cAMP levels'), ('sodium valproate', 'increases', 'cGMP levels'), ('cyproheptadine', 'increases', 'cGMP levels'), ('5HIAA levels', 'are low in', 'drug-induced tremor'), ('neuroleptic-induced tremor', 'attributed to', 'serotonergic dysfunction')]\n",
      "[('benzodiazepine tranquilizers', 'improve', 'compliance'), ('benzodiazepine tranquilizers', 'provide', 'positive therapy'), ('neuroleptics', 'are ineffective for', 'slowly progressive schizophrenia'), ('parenteral administration', 'improves', 'efficacy of tranquilizers'), ('neuroleptics', 'used in', 'combined therapy'), ('combined therapy', 'effective for', 'cenestho-algic syndrome'), ('combined therapy', 'effective for', '\"rigid\" hypochondria')]\n",
      "129\n"
     ]
    },
    {
     "name": "stderr",
     "output_type": "stream",
     "text": [
      "100%|██████████| 147/147 [08:28<00:00,  3.46s/it]\n"
     ]
    },
    {
     "name": "stdout",
     "output_type": "stream",
     "text": [
      "[('salbutamol', 'is used in', 'bronchodilator treatment'), ('trimetochinol', 'is used in', 'bronchodilator treatment'), ('bronchodilators', 'affect', 'lung mechanics'), ('salbutamol', 'shows', 'negligible adverse effects'), ('trimetochinol', 'shows', 'negligible adverse effects')]\n",
      "[('bunitrolol', 'used for', 'treatment of ischemic heart disease'), ('bunitrolol', 'effective in', 'normalizing myocardial lactate extraction ratio'), ('beta-blocker', 'reduces', 'arterial non-esterified fatty acids (NEFA) level'), ('beta-blocker', 'reduces', 'myocardial NEFA extraction'), ('angina', 'induced by', 'catecholamine infusion'), ('isoproterenol infusion', 'leads to', 'myocardial anaerobic metabolic pattern')]\n",
      "[]\n",
      "[('procaine amide', 'used for', 'cardiac arrhythmias'), ('long-term treatment with procaine amide', 'leads to', 'increased titer of ANF'), ('long-term treatment with procaine amide', 'causes', 'drug-induced SLE syndrome'), ('cessation of procaine amide', 'results in', 'improvement in SLE symptoms'), ('slow acetylators', 'associated with', 'drug-induced SLE syndrome'), ('fast acetylators', 'associated with', 'absence of SLE syndrome')]\n",
      "[('hormonal contraceptives for systemic use', 'include', 'megestrol acetate'), ('female', 'subject of', 'study on contraceptive therapies'), ('oral glucose tolerance test', 'related to', 'glucose levels'), ('diabetes mellitus without complication', 'linked with', 'abnormal OGTT patterns'), ('progestogen sex hormones and modulators of the genital system', 'include', 'estrogen-progestogen contraceptives')]\n",
      "130\n"
     ]
    },
    {
     "name": "stderr",
     "output_type": "stream",
     "text": [
      "100%|██████████| 147/147 [08:27<00:00,  3.45s/it]\n"
     ]
    },
    {
     "name": "stdout",
     "output_type": "stream",
     "text": [
      "[('Sodium thiopental', 'affects', 'cerebral circulation'), ('Intravenous anesthetics', 'include', 'Alfatésine and Etomidate'), ('Cerebral ischemic attack', 'involves', 'altered RCBF'), ('Anesthetics', 'act as', 'vasoconstrictive agents'), ('Inverse steal syndrome', 'associated with', 'ischemic lesions')]\n",
      "[('enflurane', 'affects', 'cerebral blood flow'), ('carotid angiography', 'followed by', 'Xe133 injection'), ('Xe133', 'used for', 'measuring regional cerebral blood flow'), ('2% enflurane', 'results in', 'decrease in mean arterial pressure'), ('2% enflurane', 'results in', 'decrease in heart rate'), ('cerebral blood flow', 'measured by', 'cerebrograph'), ('Xe133', 'injected into', 'internal carotid artery')]\n",
      "[('postoperative', 'includes', 'standard water and electrolyte balance'), ('postoperative', 'includes', 'prophylactic antibiotics'), ('postoperative', 'involves', 'vasodilators like IV nitroglycerine'), ('catecholamines', 'are used for', 'special treatment'), ('anti-arrhythmic agents', 'are used for', 'special treatment'), ('coronary artery bypass graft', 'involves', 'use of saphenous graft'), ('intensive care unit', 'related to', 'peri-operative care'), ('coronary artery bypass graft', 'potential effects on', 'electrocardiographic abnormalities'), ('coronary artery bypass graft', 'potential effects on', 'haemodynamic complications'), ('study', 'evaluates', 'mortality and morbidity during aorto-coronary bypass surgery')]\n",
      "[('aorto-coronary bypass surgery', 'associated with', 'postoperative complications'), ('neuroleptanalgesia', 'decreases incidence of', 'postoperative hypertensive crises'), ('cardioplegia', 'decreases incidence of', 'postoperative complications')]\n",
      "[('secondary prevention', 'involves', 'medicamentous treatment of patients with infarction'), ('acute phase', 'focuses on', 'therapy of disturbances of cardiac rhythm'), ('therapy of disturbances of cardiac rhythm', 'reduces', 'high lethality in early phase'), ('uncomplicated infarctions', 'require', 'sedation of sympathico-adrenergic reactions'), ('contraction insufficiency of left ventricle', 'requires', 'glycosides and saluretics'), ('diagnosis of bradycardiac disturbances', 'determines', 'necessary medicamentous measures'), ('diagnosis of tachycardiac disturbances', 'determines', 'necessary medicamentous measures'), ('post-infarction phase with coronary heart disease activity', 'requires', 'basic therapy with glycoside and anticoagulants'), ('post-infarction phase with coronary heart disease activity', 'involves', 'additive therapy with nitro-preparations'), ('additive therapy', 'includes', 'beta-sympathicolytics and antiarrhythmic agents')]\n",
      "131\n"
     ]
    },
    {
     "name": "stderr",
     "output_type": "stream",
     "text": [
      "100%|██████████| 147/147 [08:23<00:00,  3.42s/it]\n"
     ]
    },
    {
     "name": "stdout",
     "output_type": "stream",
     "text": [
      "[('hypertensive patients', 'had', 'angina pectoris'), ('labetalol', 'was added', 'to existing medications'), ('blood pressure', 'was controlled by', 'labetalol'), ('labetalol', 'combined with', 'thiazide'), ('angina', 'was reduced during', 'labetalol plus thiazide period'), ('labetalol', 'produced better relief of', 'angina pectoris'), ('beta-adrenoreceptor antagonists', 'used with', 'thiazide'), ('labetalol', 'antagonizes', 'alpha- and beta-adrenoreceptors'), ('blood pressures', 'were lower during', 'isotonic exercise'), ('angina', 'was significantly worse during', 'placebo with beta-adrenoreceptor antagonist and thiazide period')]\n",
      "[('coronary vasodilating agents', 'eliminate', 'cyclical reductions of blood flow'), ('alpha- and beta-adrenergic blocking agents', 'have effect on', 'cyclical reductions of blood flow'), ('nitroglycerin', 'eliminate', 'cyclical reductions of flow'), ('SG 75', 'eliminate', 'ST elevation'), ('papaverine', 'eliminate', 'ST elevation'), ('nicotinic acid', 'eliminate', 'ST elevation'), ('nifedipine', 'suppress', 'ST elevation'), ('verapamil', 'suppress', 'ST elevation'), ('diltiazem', 'suppress', 'ST elevation'), ('propranolol', 'suppress', 'ST elevation')]\n",
      "[('bunitrolol', 'is a', 'beta-blocking agent'), ('bunitrolol', 'effective for', 'ischemic heart disease'), ('bunitrolol', 'normalizes', 'myocardial lactate extraction ratio'), ('beta-blocking agents', 'reduce', 'arterial non-esterified fatty acids level'), ('beta-blocking agents', 'reduce', 'myocardial NEFA extraction')]\n",
      "[]\n",
      "[('ischemic myocardium', 'experiences', 'ischemic dysfunction'), ('augmentation of contractility', 'used to', 'detect viable myocardium'), ('pharmacologic inotropic stimulation', 'includes', 'isoproterenol or calcium'), ('postextrasystolic potentiation (PESP)', 'studied in', 'acutely ischemic myocardium'), ('acute regional ischemia', 'depressed', 'segmental function'), ('pharmacologic agents', 'accentuated', 'early dyskinesia'), ('PESP', 'augmented', 'segmental function'), ('restoring coronary blood flow', 'corrected', 'segmental shortening'), ('pharmacologic agents', 'worsened', 'segmental function'), ('ischemic myocardium', 'difficult to identify with', 'pharmacologic agents')]\n",
      "132\n"
     ]
    },
    {
     "name": "stderr",
     "output_type": "stream",
     "text": [
      "100%|██████████| 147/147 [08:26<00:00,  3.45s/it]\n"
     ]
    },
    {
     "name": "stdout",
     "output_type": "stream",
     "text": [
      "[('chloromethyl ketone derivatives of fatty acids', 'synthesized by', 'a general route'), ('chloromethyl ketone derivatives of fatty acids', 'tested as', 'inhibitors of acetoacetyl-CoA thiolase'), ('inhibitor binding', 'occurs at', 'non-polar region of the protein'), ('acetoacetyl-CoA', 'prevents', 'inhibition by chloromethyl ketone derivatives'), ('enzyme thiol', 'modified by', 'chloromethyl ketone derivatives'), ('9-chloro-8-oxononanoic acid', 'inhibits', 'hepatic cholesterol synthesis'), ('9-chloro-8-oxononanoic acid', 'inhibits', 'fatty acid synthesis in vivo'), ('dec-3-ynoic acid', 'ineffective in', 'inhibiting hepatic cholesterol and fatty acid synthesis'), ('9-chloro-8-oxononanoic acid', 'effective dose', 'lower than estimated LD50'), ('chloromethyl ketone derivatives of fatty acids', 'less specific than', '3-acetylenic derivatives')]\n",
      "[('potassium canrenoate', 'administered to', 'healthy men'), ('steroids in urine', 'detected by', 'GC/MS analysis'), ('stable isotope-labeling techniques', 'used for', 'identification of metabolites'), ('canrenone', 'identified as', 'metabolite of potassium canrenoate'), ('lipophilic gel chromatography', 'used in', 'purification of metabolites'), ('GC/MS analysis', 'allows', 'detection of steroid compounds'), ('potassium canrenoate', 'metabolized to', 'canrenoic acid'), ('reduction and hydroxylation', 'forms', 'di- and trihydroxy compounds')]\n",
      "[('mouse preputial gland tumors', 'use', 'NADPH:acyl-CoA oxidoreductase'), ('NADPH:acyl-CoA oxidoreductase', 'synthesizes', 'long-chain alcohols'), ('labeled acids', 'are tested as', 'substrates for oxidoreductase'), ('palmitic acid', 'yields', 'highest rate of alcohol synthesis'), ('oxidoreductase system', 'produces', 'fatty alcohol'), ('oxidoreductase system', 'forms', 'fatty aldehyde'), ('labeled fatty acids', 'incorporated into', 'wax esters'), ('palmitic acid', 'yields', '3.4% free alcohol'), ('palmitic acid', 'is', 'esterified in waxes'), ('behenic acid', 'does not limit', 'acyl-CoA formation rate')]\n",
      "[('4-methyl-2-oxopentanoate', 'affects', 'intracellular pH'), ('4-methyl-2-oxopentanoate', 'stimulates', 'islet-cell respiration'), ('islet tissue', 'incorporates', '4-methyl-2-oxopentanoate into CO2'), ('4-methyl-2-oxopentanoate', 'converted to', 'acetoacetate'), ('4-methyl-2-oxopentanoate', 'amination', 'branched-chain amino acid aminotransferase'), ('islet tissue', 'has', 'glutamate dehydrogenase activity'), ('catabolism of 4-methyl-2-oxopentanoate', 'involves', '2-oxo acid dehydrogenase'), ('4-methyl-2-oxopentanoate', 'linked to', 'mitochondrial oxidative phosphorylation'), ('2-cyano-3-hydroxy-cinnamate', 'inhibits', 'oxidation of 4-methyl-2-oxopentanoate'), ('pyruvate', 'inhibits', 'oxidation of 4-methyl-2-oxopentanoate')]\n",
      "[(\"Gaucher's disease\", 'involves accumulation of', 'glucocerebroside in liver and spleen'), ('Niemann-Pick disease', 'involves accumulation of', 'sphingomyelin in liver and spleen'), (\"Fabry's disease\", 'results in', 'increased urinary excretion of trihexosyl-ceramide'), ('Metachromatic leukodystrophy', 'involves accumulation of', 'sulfatides in nervous system'), (\"Austin's variant of metachromatic leukodystrophy\", 'involves accumulation of', 'glycolipids in cerebral cortex'), ('Tay-Sachs disease', 'involves cerebral accumulation of', 'GM2-ganglioside')]\n",
      "133\n"
     ]
    },
    {
     "name": "stderr",
     "output_type": "stream",
     "text": [
      "100%|██████████| 147/147 [08:29<00:00,  3.46s/it]\n"
     ]
    },
    {
     "name": "stdout",
     "output_type": "stream",
     "text": [
      "[('cimetidine', 'used as', 'prophylaxis against stress ulcers'), ('stress ulcers', 'cause', 'morbidity and mortality'), ('cimetidine', 'intended to', 'keep gastric pH level above 4'), ('cimetidine', 'ineffective for', 'consistent elevation of gastric pH above 4'), ('positive blood cultures or clinical infection', 'observed in', 'nine patients with ineffective cimetidine response'), ('renal failure', 'developed in', 'five patients with ineffective cimetidine response'), ('mortality', 'increased by', 'five times in patients with ineffective cimetidine response')]\n",
      "[('H(2) receptor blocking agents', 'used for', 'prophylaxis and treatment of stress ulcer'), ('antacids', 'used for', 'prophylaxis and treatment of stress ulcer'), ('H(2) receptor blocking agents', 'effective against', 'intraluminal acid concentration effects'), ('antacids', 'effective against', 'intraluminal acid concentration effects'), ('topical acid', 'contributes to', 'ulcerogenesis'), ('topical bile acid', 'contributes to', 'ulcerogenesis'), ('mucosal ischemia', 'contributes to', 'ulcerogenesis'), ('intraluminal acid concentration', 'determines', 'severity of stress ulcer disease'), ('vasopressin infusion', 'used with', 'test solutions in experiment'), ('H(2) receptor blocking agents', 'supported by', 'study findings for stress ulcer prevention')]\n",
      "[('rats', 'given access to', 'etonitazene hydrochloride in drinking water'), ('drug intake', 'increases with', 'food deprivation'), ('rats', 'self-administer', 'etonitazene intravenously'), ('infusions', 'increase with', 'food deprivation'), ('feeding condition', 'is a determinant of', 'drug-reinforced behavior')]\n",
      "[('hypertonic solutions', 'affect', 'gastric acidity'), ('hypertonic solutions', 'reduce', 'gastric ulcers'), ('hypertonic saline', 'reduces', 'gastric ulcers in pyloric-ligated rats'), ('indomethacin-induced gastric erosions', 'reduced by', 'hypertonic NaCl'), ('cysteamine-induced duodenal ulcers', 'reduced by', 'hypertonic solutions'), ('indomethacin', 'potentiates', 'ulcerogenic effect of cysteamine'), ('hypertonic NaCl', 'raises', 'PGE levels in gastric mucosa'), ('hypertonic NaCl', 'raises', 'PGE levels in gastric juice'), ('hypertonic solutions', 'stimulate', 'endogenous PGE biosynthesis'), ('hypertonic solutions', 'exert', 'antiulcer effects in the rat')]\n",
      "[('methyl esters of succinamic acid', 'undergo', 'cyclization'), ('methyl esters of glutaramic acid', 'undergo', 'cyclization'), ('cyclization', 'produces', 'phensuximide'), ('cyclization', 'produces', 'glutethimide'), ('phensuximide', 'is a', 'corresponding imide'), ('glutethimide', 'is a', 'corresponding imide'), ('reaction', 'occurs in', 'aqueous solution'), ('study', 'conducted by', 'H Bundgaard and C Larsen'), ('study', 'published in', '1979'), ('title', 'is', \"'Pro-drugs as drug delivery systems. V. Cyclization of methyl esters of succinamic and glutaramic acids to the corresponding imides (phensuximide and glutethimide) in aqueous solution'\")]\n",
      "134\n"
     ]
    },
    {
     "name": "stderr",
     "output_type": "stream",
     "text": [
      "100%|██████████| 147/147 [08:22<00:00,  3.42s/it]\n"
     ]
    },
    {
     "name": "stdout",
     "output_type": "stream",
     "text": [
      "[('cimetidine', 'used as', 'prophylaxis against stress ulcers'), ('stress ulcers', 'cause', 'morbidity and mortality'), ('cimetidine', 'does not effect', 'consistent elevation of gastric pH above 4'), ('elevation of gastric pH', 'related to', 'stress ulcer prophylaxis'), ('positive blood cultures', 'indicative of', 'clinical infection'), ('clinical infection', 'may lead to', 'renal failure'), ('renal failure', 'observed in', 'patients not responding to cimetidine'), (\"patients' conditions\", 'require', 'regular monitoring of gastric pH'), ('patients', 'identified as', 'high-risk group for cimetidine non-response'), ('mortality rate', 'higher in', 'patients not responding to cimetidine')]\n",
      "[('intraluminal acid concentration', 'determines', 'severity of \"stress ulcer\"'), ('H(2) receptor blocking agents', 'prevent', '\"stress ulcer\"'), ('antacids', 'ameliorate', '\"stress ulcer\"'), ('topical bile acid', 'used in', 'ulcerogenesis model'), ('concentration of intraluminal acid', 'affects', 'lesion severity'), ('H(2) receptor blocking agents', 'effective for', 'prophylaxis against \"stress ulcer\"'), ('mucosal ischemia', 'contributes to', 'ulcerogenesis'), ('sodium taurocholate', 'used in', 'testing for ulcerogenesis'), ('net H(+) flux', 'increased by', 'intraluminal acid concentration'), ('mucosal ischemia', 'impacts', 'lesion severity')]\n",
      "[]\n",
      "[('endoscopy', 'performed during', 'esophago-gastro-duodenoscopy'), ('beta blocking agents', 'used in', 'pre-endoscopic medication'), ('beta blocking agents', 'useful for', 'labile arterial hypertension'), ('beta blocking agents', 'useful for', 'vegetative dysregulation'), ('beta blocking agents', 'useful for', 'hyperkinetic heart syndrome')]\n",
      "[]\n",
      "135\n"
     ]
    },
    {
     "name": "stderr",
     "output_type": "stream",
     "text": [
      "100%|██████████| 147/147 [08:25<00:00,  3.44s/it]\n"
     ]
    },
    {
     "name": "stdout",
     "output_type": "stream",
     "text": [
      "[('H(2) receptor blocking agents', 'used for', 'prophylaxis against \"stress ulcer\"'), ('antacids', 'used for', 'prophylaxis against \"stress ulcer\"'), ('concentration of intraluminal acid', 'determines', 'severity of disease'), ('topical bile acid', 'induces', 'ulcerogenesis'), ('mucosal ischemia', 'induces', 'ulcerogenesis'), ('H(2) receptor blocking agents', 'used to', 'prevent \"stress ulcer\" disease'), ('antacids', 'used to', 'ameliorate \"stress ulcer\" disease'), ('lesion severity', 'function of', 'H(+)')]\n",
      "[]\n",
      "[('patients', 'receiving', 'anticonvulsants'), ('anticonvulsants', 'associated with', 'metabolic acidosis'), ('metabolic acidosis', 'associated with', 'hypocalcemia'), ('hypocalcemia', 'indicated by', 'increased alkaline phosphatase'), ('anticonvulsants', 'inactivate', 'carbonic anhydrase-B activity'), ('metabolic acidosis', 'affects', 'calcium metabolism'), ('patients', 'had', 'high iPTH levels')]\n",
      "[('severe arterial hypertension', 'caused by', 'chronical abuse of a topical mineralocorticoid'), ('orthostatic phenomena', 'induced by', 'triamterene'), ('hypotensive effect', 'expressed by', 'triamterene'), ('drug-dependence', 'evaluated for', 'naphazoline component'), ('blood pressure', 'restored to normal by', 'stopping mineralocorticoid and slight low-sodium diet')]\n",
      "[('prajmalium bitartrate', 'administered to', 'patients with ventricular extrasystoles'), ('prajmalium bitartrate', 'reduces', 'ventricular extrasystoles'), ('prajmalium bitartrate', 'dosage', '80 mg/d'), ('procaine amide', 'no significant difference with', 'prajmalium bitartrate'), ('procaine amide', 'causes', 'nausea'), ('procaine amide', 'causes', 'gastrointestinal symptoms'), ('procaine amide', 'results in', 'reversible joint pains'), ('prajmalium bitartrate', 'effect stabilizes at', '12 hours'), ('prajmalium bitartrate', 'frequency increase after cessation', '57% of initial'), ('nausea and gastrointestinal symptoms', 'leads to', 'treatment discontinuation')]\n",
      "136\n"
     ]
    },
    {
     "name": "stderr",
     "output_type": "stream",
     "text": [
      "100%|██████████| 147/147 [08:31<00:00,  3.48s/it]\n"
     ]
    },
    {
     "name": "stdout",
     "output_type": "stream",
     "text": [
      "[('acetylcholine', 'significant increase in', 'blood'), ('acetylcholine', 'significant increase in', 'cerebrospinal fluid'), ('acetylcholine', 'direct dependence with', 'intracranial hypertension'), ('sympatheticoadrenal substances', 'significant decrease in', 'blood'), ('sympatheticoadrenal substances', 'significant decrease in', 'cerebrospinal fluid'), ('metabolism', 'disorders in', 'biologically active substances'), ('biologically active substances', 'role in', 'pathogenesis of brain edema'), ('cholino lytic drugs', 'included in', 'symptomatic treatment of cerebral tumors'), ('sympathicotonic drugs', 'included in', 'symptomatic treatment of cerebral tumors'), ('cerebral tumors', 'studied for', 'metabolism of acetylcholine')]\n",
      "[('Tiapride', 'acts on', 'mesolimbic region'), ('Tiapride', 'produces', 'therapeutic results'), ('Alcoholism', 'affects', 'neurologic centers'), ('Alcoholism', 'leads to', 'metabolic excesses'), ('Nutritional manifestations', 'associated with', 'alcoholism'), ('Neurologic manifestations', 'associated with', 'alcoholism'), ('Tiapride', 'used for', 'clinical forms of intoxication'), ('Neutralizing alcoholemia', 'corrects', 'neurologic manifestations'), ('Neutralizing alcoholemia', 'corrects', 'nutritional manifestations')]\n",
      "[('acute intoxication', 'associated with', 'metabolic acidosis'), ('intraperitoneal hydration', 'decreases', 'metabolic acidosis'), ('tubular necrosis', 'constitutes', 'renal lesions'), ('calcium oxalate crystals', 'cause', 'renal lesions'), ('diethylene glycol', 'follows', 'metabolic pathway of ethylene glycol')]\n",
      "[]\n",
      "[('phenobarbital', 'is an', 'effective inhibitor of steroid anesthesia'), ('spironolactone', 'reduces', 'anesthetic effects of steroid anesthetics'), ('prednisolone', 'reduces', 'anesthetic effects of steroid anesthetics'), ('ethylestrenol', 'reduces', 'anesthetic effects of steroid anesthetics'), ('catatoxic steroids', 'inhibit', 'effects of steroid anesthetics'), ('steroid anesthetics', 'induce', 'prolonged sleeping time in rats'), ('PCN', 'is a', 'catatoxic compound'), ('CS-1', 'is a', 'catatoxic compound'), ('phenobarbital', 'stimulates', 'hepatic microsomal drug metabolism'), ('diphenylhydantoin', 'stimulates', 'hepatic microsomal drug metabolism')]\n",
      "137\n"
     ]
    },
    {
     "name": "stderr",
     "output_type": "stream",
     "text": [
      "100%|██████████| 147/147 [08:29<00:00,  3.47s/it]\n"
     ]
    },
    {
     "name": "stdout",
     "output_type": "stream",
     "text": [
      "[('Iron dextran complex', 'used for', 'treatment of anemia'), ('Iron dextran complex', 'administered as', 'total dose infusion'), ('Systemic reactions', 'occurred during', 'test dose of TDI'), ('Promethazine hydrochloride', 'associated with', 'greater systemic reactions'), ('Severe reactions', 'frequent in', 'pregnant women'), ('Antihistamine premedication', 'included', 'administration of promethazine hydrochloride'), ('Chlorpheniramine maleate', 'used as', 'antihistamine premedication'), ('Iron deficiency anemia', 'treated in', 'obstetric patients'), ('Systemic reactions', 'were similar in', 'pregnant and postnatal women'), ('Severe reactions', 'occurred during', 'test dose of antihistamine')]\n",
      "[]\n",
      "[('treatment', 'involves', 'pancreatin tablets'), ('pancreatin tablets', 'reduce', 'azotorrhea'), ('pancreatin tablets', 'partially correct', 'steatorrhea'), ('pancreatin tablets', 'achieve', 'nutritional status'), ('cimetidine', 'used with', 'pancreatin tablets'), ('cimetidine', 'provides relief from', 'steatorrhea'), ('cimetidine', 'alleviates', 'diarrhea'), ('dosage schedule', 'affects', 'effectiveness of treatment'), ('enteric-coated preparation', 'effective in', 'acidic conditions')]\n",
      "[('an 11-year-old girl', 'presented with', 'refractory hypochromic microcytic anemia'), ('plasma-cell variant of angiofollicular hyperplasia', 'removed from', 'gastrolienal ligament'), ('serum', 'inhibited the incorporation of', '59Fe'), ('nodal mass', 'showing', 'plasma-cell variant of angiofollicular hyperplasia'), ('hyperplastic angiofollicular lymph node', 'secreted', 'a substance that inhibited erythropoiesis')]\n",
      "[('topical mineralocorticoid', 'causes', 'severe arterial hypertension'), ('spironolactone', 'used in', 'combined therapy to lower blood pressure'), ('methyldopa', 'used in', 'combined therapy to lower blood pressure'), ('clonidine', 'used in', 'combined therapy to lower blood pressure'), ('triamterene', 'has effect', 'hypotensive'), ('naphazoline', 'causes', 'drug-dependence'), ('nasal drops', 'contains', 'ephedrine'), ('nasal drops', 'contains', 'naphazoline'), ('nasal drops', 'contains', '9-alpha-fluoroprednisolone'), ('low-sodium diet', 'restores', 'blood pressure to normal')]\n",
      "138\n"
     ]
    },
    {
     "name": "stderr",
     "output_type": "stream",
     "text": [
      "100%|██████████| 147/147 [08:28<00:00,  3.46s/it]\n"
     ]
    },
    {
     "name": "stdout",
     "output_type": "stream",
     "text": [
      "[('iron dextran complex', 'is used to treat', 'anemia'), ('iron dextran complex', 'causes', 'systemic reactions'), ('systemic reactions', 'occurred during', 'test dose'), ('promethazine hydrochloride', 'used as', 'antihistamine premedication'), ('chlorpheniramine maleate', 'used as', 'antihistamine premedication'), ('systemic reactions', 'are greater with', 'intramuscular promethazine hydrochloride')]\n",
      "[]\n",
      "[('hemorrhagic cystitis', 'associated with', 'administration of penicillin G'), ('ureteritis', 'associated with', 'administration of penicillin G'), ('interstitial nephritis', 'associated with', 'administration of penicillin G'), ('interstitial nephritis', 'resolved with', 'vancomycin therapy'), ('hemorrhagic cystitis', 'resolved with', 'vancomycin therapy'), ('ureteritis', 'resolved with', 'vancomycin therapy')]\n",
      "[(\"'prednisone'\", \"'nausea'\", \"'vomiting'\"), ('prednisone', 'causes', 'side effects'), ('prednisone', 'required', 'dose reduction in some patients'), ('sulfasalazine', 'incidence of', 'nausea'), ('sulfasalazine', 'incidence of', 'vomiting'), ('azathioprine', 'causes', 'leukopenia'), ('azathioprine', 'incidence of', 'pancreatitis'), ('prednisone', 'has', 'suppressive efficacy')]\n",
      "[('burn', 'can lead to', 'complications'), ('povidone-iodine', 'causes', 'metabolic acidosis'), ('povidone-iodine', 'absorption leads to', 'iodine accumulation'), ('iodine accumulation', 'reduced by', 'hemodialysis'), ('high serum-iodine', 'associated with', 'metabolic acidosis'), ('burn', 'treated with', 'povidone-iodine'), ('renal failure', 'associated with', 'complications in iodine use'), ('serum-iodine', 'elevated in', 'burn patients')]\n",
      "139\n"
     ]
    },
    {
     "name": "stderr",
     "output_type": "stream",
     "text": [
      "100%|██████████| 147/147 [08:27<00:00,  3.45s/it]\n"
     ]
    },
    {
     "name": "stdout",
     "output_type": "stream",
     "text": [
      "[('diuretics', 'can cause', 'hyperglycemic reactions'), ('diazoxide', 'can cause', 'hyperglycemic reactions'), ('beta-adrenergic stimulants', 'can cause', 'hyperglycemic reactions'), ('glucocorticoids', 'can cause', 'hyperglycemic reactions'), ('prolactin', 'can cause', 'hyperglycemic reactions'), ('acetylsalicylic acid', 'can cause', 'hypoglycemic reactions'), ('insulin', 'can cause', 'hypoglycemic reactions in presence of beta-adrenergic blockers')]\n",
      "[]\n",
      "[('intensive care patients', 'receiving', 'total parenteral nutrition'), ('total parenteral nutrition', 'causes', 'alterations of liver function tests'), ('alterations of liver function tests', 'seen in', 'serum transaminases activity'), ('alterations of liver function tests', 'indicated by', 'alkaline phosphatase'), ('cholestasis', 'indicated by', 'alkaline phosphatase and gamma-glutamyltranspeptidase'), ('energy metabolism', 'related to', 'lactate dehydrogenase'), ('energy metabolism', 'related to', 'hydroxybutyrate dehydrogenase'), ('energy metabolism', 'related to', 'creatine phosphokinase'), ('protein metabolism', 'related to', 'pseudocholinesterase')]\n",
      "[('computer-controlled infusion system', 'includes', 'infusion of insulin'), ('computer-controlled infusion system', 'includes', 'infusion of potassium'), ('computer-controlled infusion system', 'includes', 'infusion of bicarbonate solutions'), ('system', 'used for', 'bedside monitoring of glucose'), ('system', 'used for', 'bedside monitoring of pH'), ('system', 'used for', 'bedside monitoring of pCO2'), ('regulatory algorithms', 'used for', 'correction of metabolic acidosis'), ('regulatory algorithms', 'used for', 'correction of hyperglycemia'), ('metabolic acidosis', 'associated with', 'hyperglycemia')]\n",
      "[('insulins and analogues', 'are used in', 'insulin-dependent diabetes mellitus'), ('hepatic encephalopathy', 'can be associated with', 'other liver diseases'), ('insulin drip', 'is a treatment for', 'blood glucose management'), ('metabolic acidosis', 'can occur with', 'chronic renal insufficiency'), ('creatinine', 'is an indicator of', 'kidney function'), ('ascites', 'is associated with', 'liver cirrhosis'), ('antibiotics', 'treat', 'bacterial peritonitis'), ('ceftriaxone', 'is an', 'antibiotic'), ('elevated white blood cell count', 'indicates', 'infectious\\\\ndisease'), ('diuretics', 'are used for', 'fluid and electrolyte disorders')]\n",
      "140\n"
     ]
    },
    {
     "name": "stderr",
     "output_type": "stream",
     "text": [
      "100%|██████████| 147/147 [08:30<00:00,  3.47s/it]\n"
     ]
    },
    {
     "name": "stdout",
     "output_type": "stream",
     "text": [
      "[('Iron dextran complex', 'used to treat', 'iron deficiency anemia'), ('Antihistamine premedication', 'included administration of', 'promethazine hydrochloride'), ('Antihistamine premedication', 'included administration of', 'chlorpheniramine hydrogen maleate'), ('Systemic reactions', 'greater with', 'intramuscular promethazine hydrochloride'), ('Systemic reactions', 'same for', 'pregnant and postnatal women'), ('Severe reactions', 'more frequent in', 'pregnant patients')]\n",
      "[('prednisone', 'causes', 'side effects'), ('prednisone', 'requires', 'dose reduction or withdrawal due to side effects'), ('sulfasalazine', 'proves to be', \"safest effective suppressive drug for Crohn's disease\"), ('azathioprine', 'causes', 'leukopenia'), ('azathioprine', 'causes', 'pancreatic')]\n",
      "[('Intensive care patients', 'undergoing', 'total parenteral nutrition'), ('Total parenteral nutrition', 'leads to', 'alterations of liver function tests'), ('Alterations of liver function tests', 'indicated by', 'serum enzymes activity'), ('Hepatomegaly', 'and', 'jaundice sometimes appeared'), ('Cholestasis', 'indexed by', 'alkaline phosphatase and gamma-glutamyltranspeptidase'), ('Enzymes', 'related to', 'energy metabolism'), ('Creatine phosphokinase', 'categorized as', 'energy metabolism-related enzyme')]\n",
      "[('blood cultures', 'taken during', '18-month period'), ('streptococcus', 'most frequently isolated', 'bacteria'), ('patients', 'had blood cultures containing', 'more than one organism'), ('bacteremia', 'related to', 'high mortality'), ('antimicrobial therapy', 'significantly relates to', 'patient survival'), ('underlying conditions', 'include', 'neurological illness and malignant neoplasms'), ('bacteremia', 'can be associated with', 'polymicrobial organisms'), ('hospital', 'conducted', 'blood cultures')]\n",
      "[('cefaclor', 'used in treatment of', 'urinary tract infections'), ('cefaclor', 'used in treatment of', 'pneumonia'), ('patients with urinary tract infections', 'treated by', 'cefaclor'), ('patients with pneumonia', 'treated by', 'cefaclor'), ('urinary tract infections', 'caused by', 'susceptible pathogens'), ('cefaclor', 'dosage range', '1 to 3 g per day'), ('treatment', 'lasted for', '7 to 11 days'), ('clinical and bacteriological cures', 'achieved in', '70% of cases of urinary tract infections'), ('cefaclor', 'administered', 'orally'), ('cefaclor', 'evaluated for', 'effectiveness and tolerance')]\n",
      "141\n"
     ]
    },
    {
     "name": "stderr",
     "output_type": "stream",
     "text": [
      "100%|██████████| 147/147 [08:25<00:00,  3.44s/it]\n"
     ]
    },
    {
     "name": "stdout",
     "output_type": "stream",
     "text": [
      "[]\n",
      "[(\"'prednisone'\", \"'nausea'\", \"'vomiting'\"), ('prednisone', 'causes', 'side effects'), ('prednisone', 'causes', 'toxicity'), ('nausea', 'associated with', 'sulfasalazine'), ('vomiting', 'associated with', 'sulfasalazine')]\n",
      "[('total parenteral nutrition', 'causes', 'alterations in liver function tests'), ('cholestasis', 'indicated by', 'alkaline phosphatase and gamma-glutamyltranspeptidase'), ('energy metabolism', 'related to', 'lactate dehydrogenase and hydroxybutyrate dehydrogenase'), ('protein metabolism', 'related to', 'pseudocholinesterase'), ('total parenteral nutrition', 'can lead to', 'hepatomegaly'), ('total parenteral nutrition', 'can lead to', 'jaundice')]\n",
      "[('patient', 'underwent', 'maxillofacial operations'), ('Spontavix', 'used in', 'tube feeding preparation'), ('nausea', 'observed in', 'patients using Spontavix'), ('vomiting', 'observed in', 'patients using Spontavix'), ('diarrhea', 'observed in', 'patients using Spontavix'), ('abdominal pain', 'observed in', 'patients using Spontavix'), ('serum transaminases', 'increased due to', 'Spontavix'), ('Spontavix', 'administered via', 'nasogastric tube')]\n",
      "[('carcinoma of the uterine cervix', 'treated with', 'radium'), ('patients', 'randomized to', 'halothane and control groups'), ('S.G.P.T. levels', 'measured before', 'general anaesthetic'), ('halothane group', 'developed', 'elevated S.G.P.T. levels'), ('elevated S.G.P.T. levels', 'associated with', 'changes characteristic of Hepatitis'), ('liver biopsies', 'showed', 'changes characteristic of Hepatitis'), ('monitoring of S.G.P.T. levels', 'useful for', 'screening liver damage'), ('repeated general anaesthetics', 'may reduce', 'postoperative hepatic necrosis')]\n",
      "142\n"
     ]
    },
    {
     "name": "stderr",
     "output_type": "stream",
     "text": [
      "100%|██████████| 147/147 [08:27<00:00,  3.45s/it]\n"
     ]
    },
    {
     "name": "stdout",
     "output_type": "stream",
     "text": [
      "[('acute myocardial infarction', 'causes', 'cardiac rupture'), ('unstable angina pectoris', 'can lead to', 'pump failure'), ('cardiac rupture', 'linked to', 'higher blood pressure'), ('beta blocking agents', 'used in', 'unstable angina pectoris'), ('coronary angiography and bypass surgery', 'is a', 'management method for non-responsive beta blockers'), ('beta blocking agents', 'increase risk of', 'pump failure')]\n",
      "[('group A', 'premedicated with', 'Bunitrolol'), ('group B', 'premedicated with', 'Hyoscin-N-butyl-bromide and diazepam'), ('group A', 'show', 'less rise in pulse rate than group B and C'), ('group A', 'show', 'less accumulation of premature beats than group B and C'), ('beta blocking agents', 'could be a', 'useful measure in patients with labile arterial hypertension'), ('endoscopy', 'associated with', 'changes in cardiovascular parameters')]\n",
      "[('subendocardial hemorrhagic necrosis', 'is a cause of', 'death following cardiopulmonary bypass'), ('transmural distribution of flow', 'influenced by', 'vascular resistance and myocardial compressive resistance'), ('cardiotonic and vasoactive drugs', 'impact', 'transmural blood flow and ventricular volume'), ('calcium', 'causes', 'underperfusion of LV subendocardium'), ('isoproterenol', 'causes', 'underperfusion of LV subendocardium'), ('calcium', 'decreases', 'ventricular volume'), ('isoproterenol', 'decreases', 'ventricular volume'), ('angiotensin', 'increases', 'flow in the subendocardium'), ('subepicardial vasodilation in the fibrillating heart', 'causes', 'epicardial \"steal\"'), ('epicardial \"steal\"', 'contributes to', 'subendocardial ischemia')]\n",
      "[('acute myocardial infarction', 'involves', 'medicamentous treatment'), ('acute myocardial infarction', 'occurs in', 'acute phase'), ('acute myocardial infarction', 'related to', 'disturbances of cardiac rhythm'), ('beta blocking agents', 'are administered during', 'disturbances of rhythm'), ('cardiac dysrhythmias', 'require', 'antiarrhythmic therapy'), ('cardiac glycosides', 'used in', 'treatment of contraction insufficiency'), ('saluretics', 'used alongside', 'cardiac glycosides'), ('acute myocardial infarction', 'followed by', 'post-infarction phase'), ('anticogulants', 'used in', 'after-treatment of infarctions'), ('antiarrhythmic agents', 'are part of', 'individually varied additive therapy')]\n",
      "[('patient', 'referred to', 'clinic'), ('patient', 'diagnosed with', 'severe hypocalemic hypertension'), ('blood pressure', 'affected by', 'triamterene'), ('drug-dependence', 'observed towards', 'naphazoline component'), ('application of mineralocorticoid', 'caused', 'elevated blood pressure'), ('elevated blood pressure', 'restored by', 'stopping mineralocorticoid and diet'), ('patient', 'found to consume', 'high doses of 9-alpha-fluoroprednisolone')]\n",
      "143\n"
     ]
    },
    {
     "name": "stderr",
     "output_type": "stream",
     "text": [
      "100%|██████████| 147/147 [08:28<00:00,  3.46s/it]\n"
     ]
    },
    {
     "name": "stdout",
     "output_type": "stream",
     "text": [
      "[('peptic ulcers', 'treatment aims at', 'pain relief'), ('peptic ulcers', 'treatment aims at', 'promotion of ulcer healing'), ('peptic ulcers', 'treatment aims at', 'prophylaxis of ulcer relapse'), ('treatment of peptic ulcers', 'guided by', 'knowledge of drug side-effects and costs'), ('uncomplicated peptic ulcers', 'should be treated as', 'outpatients'), ('complicated peptic ulcers', 'require', 'hospitalization'), ('current recommendations', 'are limited to', 'treatment of acute ulcer attack'), ('prophylaxis of peptic ulcer recurrences', 'lacks', 'rational recommendations')]\n",
      "[('cimetidine', 'used as', 'prophylaxis against stress ulcers'), ('stress ulcers', 'cause', 'morbidity and mortality in hospitalized patients'), ('cimetidine', 'intended effect on', 'maintaining gastric pH level above 4'), ('cimetidine', 'failed in', 'maintaining gastric pH level above 4 in some patients'), ('patients', 'who fail cimetidine treatment', 'have increased mortality'), ('infections', 'associated with', 'failure of cimetidine to maintain pH'), ('renal failure', 'developed in', 'patients with failed cimetidine treatment')]\n",
      "[('H(2) receptor blocking agents', 'used for', 'prevention of stress ulcer'), ('Antacids', 'used for', 'treatment of stress ulcer'), ('Intraluminal acid concentration', 'determines', 'severity of stress ulcer'), ('Bile acid', 'involved in', 'ulcerogenesis'), ('Mucosal ischemia', 'contributes to', 'ulcerogenesis'), ('Gastric mucosal ulcerogenesis', 'induced by', 'bile acid and acid concentration')]\n",
      "[('pancreatin', 'is used for', 'treatment of exocrine pancreatic insufficiency'), ('pancreatin', 'can reduce', 'azotorrhea'), ('cimetidine', 'is added to', 'standard pancreatin treatment'), ('cimetidine', 'provides relief from', 'steatorrhea'), ('cimetidine', 'alleviates', 'diarrhea'), ('Pancrease', 'is effective in', 'acidic upper gastrointestinal tracts'), ('tablets', 'are used for', 'altering dosage schedule'), ('pancreas', 'associated with', 'intraluminal studies')]\n",
      "[('prajmalium bitartrate', 'reduces', 'ventricular extrasystoles'), ('procaine amide', 'compared with', 'prajmalium bitartrate'), ('prajmalium bitartrate', 'was given to', 'patients'), ('prajmalium bitartrate', 'well tolerated', 'by patients'), ('procaine amide', 'caused', 'gastrointestinal symptoms'), ('gastrointestinal symptoms', 'led to discontinuation', 'of treatment in some cases')]\n",
      "144\n"
     ]
    },
    {
     "name": "stderr",
     "output_type": "stream",
     "text": [
      "100%|██████████| 147/147 [08:31<00:00,  3.48s/it]\n"
     ]
    },
    {
     "name": "stdout",
     "output_type": "stream",
     "text": [
      "[('antacids', 'used as', 'prophylaxis against stress ulcer'), ('antacids', 'used for', 'treatment of stress ulcer')]\n",
      "[('pancreatin', 'is used for', 'pancreatic insufficiency treatment'), ('cimetidine', 'can alleviate', 'steatorrhea'), ('steatorrhea', 'related to', 'fat malabsorption'), ('pancrease', 'is an', 'enteric-coated preparation'), ('dietary fat reduction', 'assists with', 'nutritional status improvement')]\n",
      "[('Prednisone', 'causes', 'evident side effects'), ('Prednisone', 'required', 'dose reduction'), ('Azathioprine', 'produced', 'leukopenia'), ('Azathioprine', 'caused', 'decrease in hematocrit'), ('Azathioprine', 'caused', 'pancreatitis'), ('Sulfasalazine', 'proved to be', \"safest effective suppressive drug for Crohn's disease\"), ('Azathioprine', 'was as toxic as', 'Prednisone'), ('None of the drugs', 'was effective as', 'prophylactic'), ('All drugs', 'showed', 'appreciable long-term toxicity')]\n",
      "[]\n",
      "[]\n",
      "145\n"
     ]
    },
    {
     "name": "stderr",
     "output_type": "stream",
     "text": [
      "100%|██████████| 147/147 [08:32<00:00,  3.48s/it]\n"
     ]
    },
    {
     "name": "stdout",
     "output_type": "stream",
     "text": [
      "[('saphenous vein graft', 'used in', 'coronary artery bypass'), ('anesthetic technique', 'was', 'neuroleptanalgesia'), ('postoperative care', 'included', 'standard water and electrolyte balance'), ('postoperative care', 'included', 'prophylactic antibiotics'), ('treatment', 'included', 'vasodilators'), ('vasodilators', 'mainly', 'IV nitroglycerine'), ('treatment', 'included', 'catecholamines'), ('treatment', 'included', 'anti-arrhythmic agents'), ('treatment', 'included', 'intra-aortic counter pulse balloon'), ('study', 'evaluated', 'effects of treatment on electrocardiographic abnormalities')]\n",
      "[('postoperative', 'refers to', 'complications following surgery'), ('neuroleptanalgesia', 'is suitable for', 'aorto-coronary bypass surgery'), ('neuroleptanalgesia', 'decreases incidence of', 'hypertensive crises'), ('cardioplegia', 'decreases incidence of', 'postoperative complications'), ('aorto-coronary bypass surgery', 'involves', 'anaesthetic protocol'), ('postoperative', 'includes', 'complications')]\n",
      "[('morphine', 'used in', 'general anaesthesia'), ('diazepam', 'used in', 'general anaesthesia'), ('pancuronium', 'used in', 'general anaesthesia'), ('sodium nitroprussiate', 'used for', 'treating hypertension'), ('sodium nitroprussiate', 'provides', 'protection of sub-endocardial layer against ischaemia'), ('halothane', 'less effective than', 'sodium nitroprussiate'), ('enflurane', 'less effective than', 'sodium nitroprussiate'), ('endocardial viability ratio', 'increased', 'after extra-corporeal circulation')]\n",
      "[('calcium', 'causes', 'underperfusion of LV subendocardium'), ('isoproterenol', 'causes', 'underperfusion of LV subendocardium'), ('angiotensin', 'increases resistance in', 'subepicardium'), ('angiotensin', 'increases flow in', 'subendocardium'), ('calcium', 'decreases', 'ventricular volume'), ('isoproterenol', 'decreases', 'ventricular volume'), ('cardiotonic drugs', 'affect', 'transmural blood flow'), ('vasoactive drugs', 'affect', 'ventricular volume')]\n",
      "[('left ventricle', 'pressure is recorded with', 'caliper length gauge'), ('acute regional ischemia', 'causes', 'depressed segmental function'), ('postextrasystolic potentiation (PESP)', 'augments', 'segmental function'), ('restoring coronary blood flow', 'corrects', 'segmental shortening'), ('pharmacologic inotropic stimulation', 'uses', 'isoproterenol'), ('pharmacologic inotropic stimulation', 'uses', 'calcium'), ('pharmacologic inotropic stimulation', 'worsens', 'segmental function'), ('acute ischemic myocardium', 'experiences', 'dyskinesia'), ('coronary blood flow', 'controls', 'myocardial function'), ('pharmacologic agents', 'accentuate', 'early dyskinesia')]\n",
      "146\n"
     ]
    },
    {
     "name": "stderr",
     "output_type": "stream",
     "text": [
      "100%|██████████| 147/147 [08:31<00:00,  3.48s/it]\n"
     ]
    },
    {
     "name": "stdout",
     "output_type": "stream",
     "text": [
      "[('beta blockade', 'is related to', 'long term beta-adrenoceptor blocking drugs'), ('beta blockade', 'occurs during', 'anaesthesia'), ('beta blockade', 'is present in', 'coronary artery surgery'), ('patients', 'were anaesthetised for', 'aorto-coronary bypass operations'), ('beta blockade', 'diminishes', 'undesirable cardiovascular responses to laryngoscopy and tracheal intubation'), ('beta blockade', 'reduces', 'need for peripheral vasodilators'), ('coronary artery disease', 'is a condition in', 'patients undergoing surgery')]\n",
      "[('bunitrolol', 'is a', 'beta-blocking agent'), ('bunitrolol', 'effective in', 'normalizing myocardial lactate extraction ratio'), ('bunitrolol', 'reduces', 'arterial non-esterified fatty acids (NEFA) level'), ('bunitrolol', 'reduces', 'myocardial NEFA extraction'), ('beta-blocking agent', 'effective in', 'treatment of ischemic heart disease'), ('myocardial anaerobic metabolic pattern', 'induced by', 'isoproterenol infusion'), ('beta-blocking agent', 'action', 'reduced arterial NEFA level')]\n",
      "[('aortocoronary bypass', 'involves', 'surgical intervention'), ('complications', 'consist of', 'acute hypertensive episodes'), ('complications', 'include', 'arrhythmias'), ('complications', 'involve', 'peroperative myocardial ischemia'), ('complications', 'lead to', 'myocardial infarction'), ('beta-blocker therapy', 'continues up to', 'time of operation'), ('beta-blocker therapy', 'important for', 'myocardial protection')]\n",
      "[('saphenous graft', 'used in', 'aorto-coronary bypass'), ('anesthetic technique', 'is', 'classical neuroleptanalgesia'), ('postoperative care', 'includes', 'standard water and electrolyte balance'), ('postoperative care', 'includes', 'heparinisation from the 12th hour'), ('postoperative care', 'includes', 'routine prophylactic antibiotics'), ('vasodilators', 'uses', 'IV nitroglycerine'), ('special treatment', 'includes', 'vasodilators'), ('special treatment', 'includes', 'catecholamines'), ('special treatment', 'includes', 'anti-arrhythmic agents'), ('special treatment', 'includes', 'intra-aortic counter pulse balloon')]\n",
      "[('cardiotonic drugs', 'affect', 'ventricular volume')]\n",
      "147\n"
     ]
    },
    {
     "name": "stderr",
     "output_type": "stream",
     "text": [
      " 83%|████████▎ | 122/147 [07:06<01:26,  3.48s/it]"
     ]
    }
   ],
   "source": [
    "# def build_kg_for_concepts(concept_sets: List[Set[str]]) -> List[Tuple[str, str, str]]:\n",
    "\"\"\"Build knowledge graph for medical concepts using PubMed abstracts and LLM.\"\"\"\n",
    "    \n",
    "concept_sets = filtered_concept_sets\n",
    "kg_triples = {}\n",
    "\n",
    "for i, concept_set in enumerate(concept_sets):\n",
    "    print(i)\n",
    "    terms = list(concept_set)\n",
    "    top_k = 5\n",
    "    pmids, distances, abstracts = retriever.search(\" \".join(terms), top_k=top_k)\n",
    "\n",
    "    for abstract in abstracts:\n",
    "        response = extract_relationships(abstract, terms)\n",
    "        triples = parse_triples(response, concept_set)\n",
    "\n",
    "        for triple in triples:\n",
    "            for concept in concept_set:\n",
    "                if concept in triple:\n",
    "                    if concept not in kg_triples:\n",
    "                        kg_triples[concept] = []\n",
    "                    kg_triples[concept].append(triple)\n",
    "                    break"
   ]
  },
  {
   "cell_type": "code",
   "execution_count": 19,
   "id": "486a8a33-e62f-418f-83e5-1e709dacee43",
   "metadata": {
    "tags": []
   },
   "outputs": [
    {
     "name": "stdout",
     "output_type": "stream",
     "text": [
      "Number of filtered concept sets: 9583\n"
     ]
    },
    {
     "ename": "NameError",
     "evalue": "name 'kg_triples_dict' is not defined",
     "output_type": "error",
     "traceback": [
      "\u001b[31m---------------------------------------------------------------------------\u001b[39m",
      "\u001b[31mNameError\u001b[39m                                 Traceback (most recent call last)",
      "\u001b[36mCell\u001b[39m\u001b[36m \u001b[39m\u001b[32mIn[19]\u001b[39m\u001b[32m, line 8\u001b[39m\n\u001b[32m      5\u001b[39m     json.dump(merged, f, indent=\u001b[32m4\u001b[39m)\n\u001b[32m      7\u001b[39m \u001b[38;5;28mprint\u001b[39m(\u001b[33mf\u001b[39m\u001b[33m\"\u001b[39m\u001b[33mNumber of filtered concept sets: \u001b[39m\u001b[38;5;132;01m{\u001b[39;00m\u001b[38;5;28mlen\u001b[39m(filtered_concept_sets)\u001b[38;5;132;01m}\u001b[39;00m\u001b[33m\"\u001b[39m)\n\u001b[32m----> \u001b[39m\u001b[32m8\u001b[39m \u001b[38;5;28mprint\u001b[39m(\u001b[33mf\u001b[39m\u001b[33m\"\u001b[39m\u001b[33mNumber of concepts with triples: \u001b[39m\u001b[38;5;132;01m{\u001b[39;00m\u001b[38;5;28mlen\u001b[39m(\u001b[43mkg_triples_dict\u001b[49m)\u001b[38;5;132;01m}\u001b[39;00m\u001b[33m\"\u001b[39m)\n",
      "\u001b[31mNameError\u001b[39m: name 'kg_triples_dict' is not defined"
     ]
    }
   ],
   "source": [
    "kg_triples_dict = build_kg_for_concepts(filtered_concept_sets)\n",
    "\n",
    "    # Save the KG triples to a JSON file\n",
    "with open(\"kg_from_pubmed_DN.json\", \"w\") as f:\n",
    "    json.dump(merged, f, indent=4)\n",
    "\n",
    "print(f\"Number of filtered concept sets: {len(filtered_concept_sets)}\")\n",
    "print(f\"Number of concepts with triples: {len(kg_triples_dict)}\")"
   ]
  }
 ],
 "metadata": {
  "kernelspec": {
   "display_name": "Python unsloth",
   "language": "python",
   "name": "unsloth"
  },
  "language_info": {
   "codemirror_mode": {
    "name": "ipython",
    "version": 3
   },
   "file_extension": ".py",
   "mimetype": "text/x-python",
   "name": "python",
   "nbconvert_exporter": "python",
   "pygments_lexer": "ipython3",
   "version": "3.11.12"
  }
 },
 "nbformat": 4,
 "nbformat_minor": 5
}
