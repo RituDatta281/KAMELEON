{
 "cells": [
  {
   "cell_type": "code",
   "execution_count": 1,
   "id": "e6bfd93d-bd9b-4937-82b1-d74769d39c31",
   "metadata": {
    "tags": []
   },
   "outputs": [],
   "source": [
    "import pandas as pd\n",
    "import numpy as np"
   ]
  },
  {
   "cell_type": "code",
   "execution_count": 2,
   "id": "48272aff-a468-45bf-b6fa-9690fed56b75",
   "metadata": {
    "tags": []
   },
   "outputs": [
    {
     "name": "stderr",
     "output_type": "stream",
     "text": [
      "/tmp/ipykernel_317111/3545417842.py:2: DtypeWarning: Columns (4,5) have mixed types. Specify dtype option on import or set low_memory=False.\n",
      "  note = pd.read_csv('/scratch/hht9zt/mimic-iii-clinical-database-1.4/physionet.org/files/mimiciii/1.4/NOTEEVENTS.csv')\n"
     ]
    }
   ],
   "source": [
    "admission = pd.read_csv('mimic-iii-clinical-database-1.4/physionet.org/files/mimiciii/1.4/ADMISSIONS.csv')\n",
    "note = pd.read_csv('mimic-iii-clinical-database-1.4/physionet.org/files/mimiciii/1.4/NOTEEVENTS.csv')"
   ]
  },
  {
   "cell_type": "code",
   "execution_count": 3,
   "id": "48f375e5-af62-468c-ab51-ad11770aca3d",
   "metadata": {
    "tags": []
   },
   "outputs": [
    {
     "name": "stdout",
     "output_type": "stream",
     "text": [
      "nan\n"
     ]
    }
   ],
   "source": [
    "diag = list(admission['DIAGNOSIS'].unique())\n",
    "\n",
    "for x in diag:\n",
    "    try:\n",
    "        if 'hospice' in x.lower():\n",
    "            print(x)\n",
    "    except:\n",
    "        print(x)"
   ]
  },
  {
   "cell_type": "code",
   "execution_count": 4,
   "id": "d7b268b6-a721-4e6a-9a19-eeb0b498d816",
   "metadata": {},
   "outputs": [],
   "source": [
    "strs = ['comfort-focused' , 'comfort focus' , 'DNAR-C', 'DNARC', 'hospice']"
   ]
  },
  {
   "cell_type": "code",
   "execution_count": 11,
   "id": "d2bf78bc-ee20-4474-91dd-286ab4dcd341",
   "metadata": {
    "tags": []
   },
   "outputs": [],
   "source": [
    "notes_all = list(note['TEXT'])\n",
    "i_s = {}\n",
    "for i, n in enumerate(notes_all):\n",
    "    for s in strs:\n",
    "        if s.lower() not in i_s:\n",
    "            i_s[s.lower()] = []\n",
    "        if s.lower() in n.lower():\n",
    "            print(i, s)\n",
    "            i_s[s.lower()].append(i)\n",
    "        "
   ]
  },
  {
   "cell_type": "code",
   "execution_count": 19,
   "id": "c8eaa778-1d58-4304-b76e-212160fdef73",
   "metadata": {
    "tags": []
   },
   "outputs": [],
   "source": [
    "# list(i_s.values()).\n",
    "indices = sorted(sum(list(i_s.values()), []))"
   ]
  },
  {
   "cell_type": "code",
   "execution_count": 25,
   "id": "04867f04-3da2-4200-be30-3493230dbad5",
   "metadata": {
    "tags": []
   },
   "outputs": [
    {
     "data": {
      "text/plain": [
       "dict_keys(['comfort-focused', 'comfort focus', 'dnar-c', 'dnarc', 'hospice'])"
      ]
     },
     "execution_count": 25,
     "metadata": {},
     "output_type": "execute_result"
    }
   ],
   "source": [
    "i_s.keys()"
   ]
  },
  {
   "cell_type": "code",
   "execution_count": 31,
   "id": "ff27b6cc-cb81-4859-a560-328484f04088",
   "metadata": {
    "tags": []
   },
   "outputs": [],
   "source": [
    "# i_s['']"
   ]
  },
  {
   "cell_type": "code",
   "execution_count": 20,
   "id": "c500de46-be71-4afc-8d9f-2c99f026433d",
   "metadata": {
    "tags": []
   },
   "outputs": [],
   "source": [
    "filtered_df = note.loc[indices]\n"
   ]
  },
  {
   "cell_type": "code",
   "execution_count": 25,
   "id": "499a977f-2a6b-42ca-905a-5ea8bdd625ad",
   "metadata": {
    "tags": []
   },
   "outputs": [
    {
     "data": {
      "text/plain": [
       "array(['Discharge summary', 'Echo', 'ECG', 'Nursing', 'Physician ',\n",
       "       'Rehab Services', 'Case Management ', 'Respiratory ', 'Nutrition',\n",
       "       'General', 'Social Work', 'Pharmacy', 'Consult', 'Radiology',\n",
       "       'Nursing/other'], dtype=object)"
      ]
     },
     "execution_count": 25,
     "metadata": {},
     "output_type": "execute_result"
    }
   ],
   "source": [
    "note['CATEGORY'].unique()"
   ]
  },
  {
   "cell_type": "code",
   "execution_count": null,
   "id": "d2befcb8-7324-410f-bfad-1fefb2e26f87",
   "metadata": {},
   "outputs": [],
   "source": []
  },
  {
   "cell_type": "code",
   "execution_count": 21,
   "id": "3541466b-65ca-4dd6-a652-5db19ce64716",
   "metadata": {
    "tags": []
   },
   "outputs": [],
   "source": [
    "hospice_phy = filtered_df[filtered_df['CATEGORY']=='Physician ']"
   ]
  },
  {
   "cell_type": "code",
   "execution_count": 22,
   "id": "2f35bfc4-1fb3-4d7e-a965-b9f14bda7916",
   "metadata": {
    "tags": []
   },
   "outputs": [],
   "source": [
    "all_phy = note[note['CATEGORY']=='Physician ']"
   ]
  },
  {
   "cell_type": "code",
   "execution_count": 23,
   "id": "bf5f028b-229f-4673-8938-347a60597cd0",
   "metadata": {
    "tags": []
   },
   "outputs": [
    {
     "data": {
      "text/plain": [
       "0.8487262045980907"
      ]
     },
     "execution_count": 23,
     "metadata": {},
     "output_type": "execute_result"
    }
   ],
   "source": [
    "(len(hospice_phy)/len(all_phy))*100"
   ]
  },
  {
   "cell_type": "code",
   "execution_count": 24,
   "id": "c2fb8e18-948c-4364-a7b0-4d2836cba215",
   "metadata": {
    "tags": []
   },
   "outputs": [
    {
     "data": {
      "text/plain": [
       "'Chief Complaint: Fever, hypotension, acute on chronic renal failure\\n   24 Hour Events:\\n   Patient made CMO after discussing goals of care with wife.\\n   History obtained from Family / Friend\\n   [**Name (NI) 53**] unable to provide history: Unresponsive\\n   Allergies:\\n   Heparin Agents\\n   Thrombocytopenia\\n   Last dose of Antibiotics:\\n   Piperacillin - [**2138-3-20**] 08:00 PM\\n   Piperacillin/Tazobactam (Zosyn) - [**2138-3-21**] 09:00 AM\\n   Metronidazole - [**2138-3-21**] 10:12 AM\\n   Infusions:\\n   Other ICU medications:\\n   Hydromorphone (Dilaudid) - [**2138-3-22**] 03:30 AM\\n   Lorazepam (Ativan) - [**2138-3-22**] 08:30 AM\\n   Other medications:\\n   Changes to medical and family history:\\n   Review of systems is unchanged from admission except as noted below\\n   Review of systems:\\n   Flowsheet Data as of  [**2138-3-22**] 09:59 AM\\n   Vital signs\\n   Hemodynamic monitoring\\n   Fluid balance\\n                                                                  24 hours\\n                                                               Since 12 AM\\n   Tmax: 36.1\\nC (96.9\\n   Tcurrent: 36.1\\nC (96.9\\n   HR: 113 (108 - 116) bpm\\n   BP: 87/63(69){71/37(45) - 106/65(73)} mmHg\\n   RR: 11 (11 - 26) insp/min\\n   SpO2: 100%\\n   Heart rhythm: ST (Sinus Tachycardia)\\n   Height: 72 Inch\\n             Total In:\\n                                                                    660 mL\\n                                                                    100 mL\\n   PO:\\n                                                                    220 mL\\n             TF:\\n   IVF:\\n                                                                    440 mL\\n                                                                    100 mL\\n   Blood products:\\n   Total out:\\n                                                                    181 mL\\n                                                                     70 mL\\n   Urine:\\n                                                                     18 mL\\n                                                                     70 mL\\n   NG:\\n   Stool:\\n   Drains:\\n   Balance:\\n                                                                    479 mL\\n                                                                     30 mL\\n   Respiratory support\\n   O2 Delivery Device: Nasal cannula\\n   SpO2: 100%\\n   ABG: ////\\n   Physical Examination\\n   Deferred as patient is CMO\\n   Cachectic, weak gentleman lying in bed with family present.\\n   Labs / Radiology\\n   233 K/uL\\n   8.5 g/dL\\n   173 mg/dL\\n   4.4 mg/dL\\n   19 mEq/L\\n   4.3 mEq/L\\n   87 mg/dL\\n   111 mEq/L\\n   143 mEq/L\\n   27.8 %\\n   5.1 K/uL\\n        [image002.jpg]\\n                             [**2138-3-17**]  07:46 PM\\n                             [**2138-3-18**]  05:42 AM\\n                             [**2138-3-18**]  01:56 PM\\n                             [**2138-3-19**]  05:59 AM\\n                             [**2138-3-19**]  04:41 PM\\n                             [**2138-3-19**]  08:27 PM\\n                             [**2138-3-20**]  04:52 AM\\n                             [**2138-3-20**]  04:38 PM\\n                             [**2138-3-21**]  04:37 AM\\n   WBC\\n   14.8\\n   5.0\\n   6.1\\n   5.8\\n   5.1\\n   Hct\\n   31.8\\n   28.8\\n   28.7\\n   28.0\\n   27.8\\n   Plt\\n   [**Telephone/Fax (3) 745**]85\\n   233\\n   Cr\\n   4.5\\n   4.3\\n   4.5\\n   4.5\\n   4.8\\n   4.9\\n   5.2\\n   4.2\\n   4.4\\n   TropT\\n   0.42\\n   0.35\\n   0.33\\n   Glucose\\n   [**Telephone/Fax (3) 696**]64\\n   163\\n   152\\n   208\\n   173\\n   Other labs: PT / PTT / INR:13.9/32.0/1.2, CK / CKMB /\\n   Troponin-T:10/4/0.33, Amylase / Lipase:45/34, Differential-Neuts:94.1\\n   %, Band:Units: %\\n   Range: 0-5 %, Lymph:4.2 %, Mono:1.6 %, Eos:Units: %\\n   Range: 0-4 %, Fibrinogen:399 mg/dL, Lactic Acid:1.0 mmol/L, Albumin:2.1\\n   g/dL, Ca++:8.1 mg/dL, Mg++:1.9 mg/dL, PO4:5.5 mg/dL\\n   Assessment and Plan\\n   67 yo M with ESRD, acute on chronic renal failure now on comfort\\n   measures only with plan to dischrage home today on hospice.\\n   # Pain control:\\n   -          ativan and morphine SL prescriptions\\n   Will remove central line and continue rectal tube given gluteal skin\\n   breakdown.\\n   Transport with DNR/DNI and CMO paperwork.\\n   ICU Care\\n   Nutrition:  Soft\\n   Glycemic Control:  none as CMO\\n   Lines:\\n   Presep Catheter - [**2138-3-17**] 03:30 PM\\n   Code status: Comfort measures only\\n   Disposition: home on hospice today\\n   Note written by [**First Name4 (NamePattern1) **] [**Last Name (NamePattern1) **], MS IV and edited by [**First Name8 (NamePattern2) 361**]\\n   [**Last Name (NamePattern1) 512**], MD.\\n'"
      ]
     },
     "execution_count": 24,
     "metadata": {},
     "output_type": "execute_result"
    }
   ],
   "source": [
    "list(hospice_phy[\"TEXT\"])[0]"
   ]
  },
  {
   "cell_type": "code",
   "execution_count": 20,
   "id": "54370b1a-2ec2-45c6-8572-365a88ccf38b",
   "metadata": {
    "tags": []
   },
   "outputs": [
    {
     "data": {
      "text/plain": [
       "'Admission Date:  [**2151-7-16**]       Discharge Date:  [**2151-8-4**]\\n\\n\\nService:\\nADDENDUM:\\n\\nRADIOLOGIC STUDIES:  Radiologic studies also included a chest\\nCT, which confirmed cavitary lesions in the left lung apex\\nconsistent with infectious process/tuberculosis.  This also\\nmoderate-sized left pleural effusion.\\n\\nHEAD CT:  Head CT showed no intracranial hemorrhage or mass\\neffect, but old infarction consistent with past medical\\nhistory.\\n\\nABDOMINAL CT:  Abdominal CT showed lesions of\\nT10 and sacrum most likely secondary to osteoporosis. These can\\nbe followed by repeat imaging as an outpatient.\\n\\n\\n\\n                            [**First Name8 (NamePattern2) **] [**First Name4 (NamePattern1) 1775**] [**Last Name (NamePattern1) **], M.D.  [**MD Number(1) 1776**]\\n\\nDictated By:[**Hospital 1807**]\\nMEDQUIST36\\n\\nD:  [**2151-8-5**]  12:11\\nT:  [**2151-8-5**]  12:21\\nJOB#:  [**Job Number 1808**]\\n'"
      ]
     },
     "execution_count": 20,
     "metadata": {},
     "output_type": "execute_result"
    }
   ],
   "source": [
    "note['TEXT'][0]"
   ]
  }
 ],
 "metadata": {
  "kernelspec": {
   "display_name": "Python 3 (ipykernel)",
   "language": "python",
   "name": "python3"
  },
  "language_info": {
   "codemirror_mode": {
    "name": "ipython",
    "version": 3
   },
   "file_extension": ".py",
   "mimetype": "text/x-python",
   "name": "python",
   "nbconvert_exporter": "python",
   "pygments_lexer": "ipython3",
   "version": "3.9.12"
  }
 },
 "nbformat": 4,
 "nbformat_minor": 5
}
